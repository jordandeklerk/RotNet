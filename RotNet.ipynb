{
  "cells": [
    {
      "cell_type": "markdown",
      "metadata": {
        "id": "9UM665YZ24sE"
      },
      "source": [
        "# RotNet"
      ]
    },
    {
      "cell_type": "code",
      "execution_count": null,
      "metadata": {
        "id": "DQQiyjOxBC-G"
      },
      "outputs": [],
      "source": [
        "import torch\n",
        "import torchvision\n",
        "import torchvision.transforms as transforms\n",
        "from torchvision.transforms import functional as TF\n",
        "import numpy as np\n",
        "import random\n",
        "\n",
        "\n",
        "def rotate_img(img, rot):\n",
        "    \"\"\"Rotate the given PIL Image according to the specified rotation.\n",
        "\n",
        "    Args:\n",
        "        img (PIL.Image): The input image.\n",
        "        rot (int): Rotation angle, represented as an integer (0, 1, 2, 3) corresponding to (0, 90, 180, 270) degrees.\n",
        "\n",
        "    Returns:\n",
        "        PIL.Image: The rotated image.\n",
        "    \"\"\"\n",
        "    if rot == 0:\n",
        "        return img\n",
        "    elif rot == 1:\n",
        "        return TF.rotate(img, 90)\n",
        "    elif rot == 2:\n",
        "        return TF.rotate(img, 180)\n",
        "    elif rot == 3:\n",
        "        return TF.rotate(img, 270)\n",
        "    else:\n",
        "        raise ValueError('Rotation should be 0, 90, 180, or 270 degrees')\n",
        "\n",
        "\n",
        "class CIFAR10Rotation(torchvision.datasets.CIFAR10):\n",
        "\n",
        "    def __init__(self, root, train, download, transform) -> None:\n",
        "        super().__init__(root=root, train=train, download=download, transform=transform)\n",
        "\n",
        "    def __len__(self):\n",
        "        return len(self.data)\n",
        "\n",
        "    def __getitem__(self, index: int):\n",
        "        image, cls_label = super().__getitem__(index)\n",
        "\n",
        "        # randomly select image rotation\n",
        "        rotation_label = random.choice([0, 1, 2, 3])\n",
        "        image_rotated = rotate_img(image, rotation_label)\n",
        "\n",
        "        rotation_label = torch.tensor(rotation_label).long()\n",
        "        return image, image_rotated, rotation_label, torch.tensor(cls_label).long()"
      ]
    },
    {
      "cell_type": "code",
      "execution_count": null,
      "metadata": {
        "colab": {
          "base_uri": "https://localhost:8080/"
        },
        "id": "XgzaU21BBoQ6",
        "outputId": "5225c2c2-80a6-424e-b444-4f1fd8864d0d"
      },
      "outputs": [
        {
          "name": "stdout",
          "output_type": "stream",
          "text": [
            "Files already downloaded and verified\n",
            "Files already downloaded and verified\n"
          ]
        }
      ],
      "source": [
        "transform_train = transforms.Compose([\n",
        "    transforms.RandomCrop(32, padding=4),\n",
        "    transforms.RandomHorizontalFlip(),\n",
        "    transforms.ToTensor(),\n",
        "    transforms.Normalize((0.4914, 0.4822, 0.4465), (0.2023, 0.1994, 0.2010)),\n",
        "])\n",
        "\n",
        "transform_test = transforms.Compose([\n",
        "    transforms.ToTensor(),\n",
        "    transforms.Normalize((0.4914, 0.4822, 0.4465), (0.2023, 0.1994, 0.2010)),\n",
        "])\n",
        "\n",
        "batch_size = 128\n",
        "\n",
        "trainset = CIFAR10Rotation(root='./data', train=True,\n",
        "                                        download=True, transform=transform_train)\n",
        "trainloader = torch.utils.data.DataLoader(trainset, batch_size=batch_size,\n",
        "                                          shuffle=True, num_workers=4)\n",
        "\n",
        "testset = CIFAR10Rotation(root='./data', train=False,\n",
        "                                       download=True, transform=transform_test)\n",
        "testloader = torch.utils.data.DataLoader(testset, batch_size=batch_size,\n",
        "                                         shuffle=False, num_workers=4)"
      ]
    },
    {
      "cell_type": "code",
      "execution_count": null,
      "metadata": {
        "colab": {
          "base_uri": "https://localhost:8080/",
          "height": 428
        },
        "id": "pp-vK7J5Brej",
        "outputId": "e55b1228-a0bf-4cba-9008-4fe3cf14d263"
      },
      "outputs": [
        {
          "name": "stderr",
          "output_type": "stream",
          "text": [
            "WARNING:matplotlib.image:Clipping input data to the valid range for imshow with RGB data ([0..1] for floats or [0..255] for integers).\n"
          ]
        },
        {
          "data": {
            "image/png": "[encoded data removed]",
            "text/plain": [
              "<Figure size 640x480 with 1 Axes>"
            ]
          },
          "metadata": {},
          "output_type": "display_data"
        },
        {
          "name": "stderr",
          "output_type": "stream",
          "text": [
            "WARNING:matplotlib.image:Clipping input data to the valid range for imshow with RGB data ([0..1] for floats or [0..255] for integers).\n"
          ]
        },
        {
          "name": "stdout",
          "output_type": "stream",
          "text": [
            "Class labels:  bird  dog   cat   horse\n"
          ]
        },
        {
          "data": {
            "image/png": "[encoded data removed]",
            "text/plain": [
              "<Figure size 640x480 with 1 Axes>"
            ]
          },
          "metadata": {},
          "output_type": "display_data"
        },
        {
          "name": "stdout",
          "output_type": "stream",
          "text": [
            "Rotation labels:  180   0     270   0    \n"
          ]
        }
      ],
      "source": [
        "import matplotlib.pyplot as plt\n",
        "\n",
        "classes = ('plane', 'car', 'bird', 'cat',\n",
        "           'deer', 'dog', 'frog', 'horse', 'ship', 'truck')\n",
        "\n",
        "rot_classes = ('0', '90', '180', '270')\n",
        "\n",
        "\n",
        "def imshow(img):\n",
        "    # unnormalize\n",
        "    img = transforms.Normalize((0, 0, 0), (1/0.2023, 1/0.1994, 1/0.2010))(img)\n",
        "    img = transforms.Normalize((-0.4914, -0.4822, -0.4465), (1, 1, 1))(img)\n",
        "    npimg = img.numpy()\n",
        "    plt.imshow(np.transpose(npimg, (1, 2, 0)))\n",
        "    plt.show()\n",
        "\n",
        "\n",
        "dataiter = iter(trainloader)\n",
        "images, rot_images, rot_labels, labels = next(dataiter)\n",
        "\n",
        "# print images and rotated images\n",
        "img_grid = imshow(torchvision.utils.make_grid(images[:4], padding=0))\n",
        "print('Class labels: ', ' '.join(f'{classes[labels[j]]:5s}' for j in range(4)))\n",
        "img_grid = imshow(torchvision.utils.make_grid(rot_images[:4], padding=0))\n",
        "print('Rotation labels: ', ' '.join(f'{rot_classes[rot_labels[j]]:5s}' for j in range(4)))"
      ]
    },
    {
      "cell_type": "code",
      "execution_count": null,
      "metadata": {
        "id": "FRsOQz94u0fJ"
      },
      "outputs": [],
      "source": [
        "def run_test(net, testloader, criterion, task):\n",
        "    net.eval()\n",
        "    correct = 0\n",
        "    total = 0\n",
        "    total_loss = 0.0\n",
        "\n",
        "    with torch.no_grad():\n",
        "        for images, images_rotated, labels, cls_labels in testloader:\n",
        "            if task == 'rotation':\n",
        "                images, labels = images_rotated.to(device), labels.to(device)\n",
        "            elif task == 'classification':\n",
        "                images, labels = images.to(device), cls_labels.to(device)\n",
        "\n",
        "            outputs = net(images)\n",
        "            loss = criterion(outputs, labels)\n",
        "            total_loss += loss.item()\n",
        "            _, predicted = torch.max(outputs.data, 1)\n",
        "            total += labels.size(0)\n",
        "            correct += (predicted == labels).sum().item()\n",
        "\n",
        "    avg_test_loss = total_loss / len(testloader)\n",
        "    accuracy = 100 * correct / total\n",
        "\n",
        "    print('TESTING:')\n",
        "    print(f'Accuracy of the network on the test images: {100 * correct / total:.2f} %')\n",
        "    print(f'Average loss on the test images: {avg_test_loss:.3f}')\n",
        "\n",
        "    return avg_test_loss, accuracy"
      ]
    },
    {
      "cell_type": "code",
      "execution_count": null,
      "metadata": {
        "id": "l9VypM3nD3pL"
      },
      "outputs": [],
      "source": [
        "def adjust_learning_rate(optimizer, epoch, init_lr, decay_epochs=30):\n",
        "    \"\"\"Sets the learning rate to the initial LR decayed by 10 every 30 epochs\"\"\"\n",
        "    lr = init_lr * (0.1 ** (epoch // decay_epochs))\n",
        "    for param_group in optimizer.param_groups:\n",
        "        param_group['lr'] = lr"
      ]
    },
    {
      "cell_type": "markdown",
      "metadata": {
        "id": "yGaW8j7HD784"
      },
      "source": [
        "# Train a ResNet18 on the rotation task\n",
        "\n",
        "### In this section, we will train a ResNet18 model on the rotation task. The input is a rotated image and the model predicts the rotation label. See the Data Setup section for details."
      ]
    },
    {
      "cell_type": "code",
      "execution_count": null,
      "metadata": {
        "colab": {
          "base_uri": "https://localhost:8080/"
        },
        "id": "yilsWD74D5Bg",
        "outputId": "75920be6-add9-42dd-fa52-b84dde93bbeb"
      },
      "outputs": [
        {
          "name": "stdout",
          "output_type": "stream",
          "text": [
            "Using cuda\n"
          ]
        }
      ],
      "source": [
        "device = 'cuda' if torch.cuda.is_available() else 'cpu'\n",
        "print(f'Using {device}')"
      ]
    },
    {
      "cell_type": "code",
      "execution_count": null,
      "metadata": {
        "id": "PBmX4nV8D6nW"
      },
      "outputs": [],
      "source": [
        "import torch.nn as nn\n",
        "import torch.nn.functional as F\n",
        "\n",
        "from torchvision.models import resnet18\n",
        "\n",
        "net = resnet18(num_classes=4)\n",
        "net = net.to(device)"
      ]
    },
    {
      "cell_type": "code",
      "execution_count": null,
      "metadata": {
        "id": "brX1691ZD8SU"
      },
      "outputs": [],
      "source": [
        "import torch.optim as optim\n",
        "\n",
        "criterion = nn.CrossEntropyLoss()\n",
        "optimizer = optim.AdamW(net.parameters(), lr=0.01, weight_decay=1e-1)"
      ]
    },
    {
      "cell_type": "code",
      "execution_count": null,
      "metadata": {
        "id": "oOtUY_bZWnFd"
      },
      "outputs": [],
      "source": [
        "from tqdm import tqdm\n",
        "import time\n",
        "\n",
        "def train(net, criterion, optimizer, num_epochs, decay_epochs, init_lr, task, trainloader, testloader, model_path):\n",
        "    lowest_loss = float('inf')\n",
        "    best_accuracy = 0.0\n",
        "\n",
        "    for epoch in range(num_epochs):\n",
        "        running_loss = 0.0\n",
        "        running_correct = 0.0\n",
        "        running_total = 0.0\n",
        "        start_time = time.time()\n",
        "\n",
        "        net.train()\n",
        "        for i, (imgs, imgs_rotated, rotation_label, cls_label) in enumerate(tqdm(trainloader, desc=f'Epoch {epoch+1}/{num_epochs}', unit='batch'), 0):\n",
        "            adjust_learning_rate(optimizer, epoch, init_lr, decay_epochs)\n",
        "\n",
        "            if task == 'rotation':\n",
        "                inputs, labels = imgs_rotated.to(device), rotation_label.to(device)\n",
        "            elif task == 'classification':\n",
        "                inputs, labels = imgs.to(device), cls_label.to(device)\n",
        "\n",
        "            optimizer.zero_grad()\n",
        "            outputs = net(inputs)\n",
        "            loss = criterion(outputs, labels)\n",
        "            loss.backward()\n",
        "            optimizer.step()\n",
        "\n",
        "            _, predicted = torch.max(outputs.data, 1)\n",
        "            running_loss += loss.item()\n",
        "            running_total += labels.size(0)\n",
        "            running_correct += (predicted == labels).sum().item()\n",
        "\n",
        "        avg_loss = running_loss / len(trainloader)\n",
        "        avg_acc = 100 * running_correct / running_total\n",
        "        print(f'\\nEpoch {epoch+1} finished: Avg. Loss: {avg_loss:.3f}, Avg. Acc.: {avg_acc:.2f}%, Time: {time.time() - start_time:.2f}s')\n",
        "\n",
        "        net.eval()\n",
        "        test_loss, test_accuracy = run_test(net, testloader, criterion, task)\n",
        "        if test_loss < lowest_loss:\n",
        "            lowest_loss = test_loss\n",
        "            best_accuracy = test_accuracy\n",
        "            print(f'New lowest test loss: {lowest_loss:.4f} with accuracy: {best_accuracy:.2f}%')\n",
        "\n",
        "            torch.save(net.state_dict(), model_path)\n",
        "\n",
        "    print(f'Finished Training. Best Test Loss: {lowest_loss:.4f}, Best Accuracy: {best_accuracy:.2f}%')"
      ]
    },
    {
      "cell_type": "code",
      "execution_count": null,
      "metadata": {
        "colab": {
          "base_uri": "https://localhost:8080/"
        },
        "id": "aB8cekBKXZem",
        "outputId": "3b95f024-a3c2-4cac-8b82-390a752019ed"
      },
      "outputs": [
        {
          "name": "stderr",
          "output_type": "stream",
          "text": [
            "Epoch 1/45: 100%|██████████| 391/391 [00:14<00:00, 26.88batch/s]"
          ]
        },
        {
          "name": "stdout",
          "output_type": "stream",
          "text": [
            "\n",
            "Epoch 1 finished: Avg. Loss: 1.264, Avg. Acc.: 44.42%, Time: 14.55s\n"
          ]
        },
        {
          "name": "stderr",
          "output_type": "stream",
          "text": [
            "\n"
          ]
        },
        {
          "name": "stdout",
          "output_type": "stream",
          "text": [
            "TESTING:\n",
            "Accuracy of the network on the test images: 50.65 %\n",
            "Average loss on the test images: 1.144\n",
            "New lowest test loss: 1.1441 with accuracy: 50.65%\n"
          ]
        },
        {
          "name": "stderr",
          "output_type": "stream",
          "text": [
            "Epoch 2/45: 100%|██████████| 391/391 [00:12<00:00, 32.06batch/s]"
          ]
        },
        {
          "name": "stdout",
          "output_type": "stream",
          "text": [
            "\n",
            "Epoch 2 finished: Avg. Loss: 1.088, Avg. Acc.: 52.61%, Time: 12.20s\n"
          ]
        },
        {
          "name": "stderr",
          "output_type": "stream",
          "text": [
            "\n"
          ]
        },
        {
          "name": "stdout",
          "output_type": "stream",
          "text": [
            "TESTING:\n",
            "Accuracy of the network on the test images: 55.10 %\n",
            "Average loss on the test images: 1.060\n",
            "New lowest test loss: 1.0602 with accuracy: 55.10%\n"
          ]
        },
        {
          "name": "stderr",
          "output_type": "stream",
          "text": [
            "Epoch 3/45: 100%|██████████| 391/391 [00:12<00:00, 32.34batch/s]"
          ]
        },
        {
          "name": "stdout",
          "output_type": "stream",
          "text": [
            "\n",
            "Epoch 3 finished: Avg. Loss: 1.051, Avg. Acc.: 54.91%, Time: 12.09s\n"
          ]
        },
        {
          "name": "stderr",
          "output_type": "stream",
          "text": [
            "\n"
          ]
        },
        {
          "name": "stdout",
          "output_type": "stream",
          "text": [
            "TESTING:\n",
            "Accuracy of the network on the test images: 55.49 %\n",
            "Average loss on the test images: 1.056\n",
            "New lowest test loss: 1.0562 with accuracy: 55.49%\n"
          ]
        },
        {
          "name": "stderr",
          "output_type": "stream",
          "text": [
            "Epoch 4/45: 100%|██████████| 391/391 [00:11<00:00, 33.63batch/s]"
          ]
        },
        {
          "name": "stdout",
          "output_type": "stream",
          "text": [
            "\n",
            "Epoch 4 finished: Avg. Loss: 1.017, Avg. Acc.: 56.49%, Time: 11.63s\n"
          ]
        },
        {
          "name": "stderr",
          "output_type": "stream",
          "text": [
            "\n"
          ]
        },
        {
          "name": "stdout",
          "output_type": "stream",
          "text": [
            "TESTING:\n",
            "Accuracy of the network on the test images: 58.08 %\n",
            "Average loss on the test images: 0.990\n",
            "New lowest test loss: 0.9904 with accuracy: 58.08%\n"
          ]
        },
        {
          "name": "stderr",
          "output_type": "stream",
          "text": [
            "Epoch 5/45: 100%|██████████| 391/391 [00:11<00:00, 33.12batch/s]"
          ]
        },
        {
          "name": "stdout",
          "output_type": "stream",
          "text": [
            "\n",
            "Epoch 5 finished: Avg. Loss: 0.995, Avg. Acc.: 57.93%, Time: 11.81s\n"
          ]
        },
        {
          "name": "stderr",
          "output_type": "stream",
          "text": [
            "\n"
          ]
        },
        {
          "name": "stdout",
          "output_type": "stream",
          "text": [
            "TESTING:\n",
            "Accuracy of the network on the test images: 57.62 %\n",
            "Average loss on the test images: 0.989\n",
            "New lowest test loss: 0.9890 with accuracy: 57.62%\n"
          ]
        },
        {
          "name": "stderr",
          "output_type": "stream",
          "text": [
            "Epoch 6/45: 100%|██████████| 391/391 [00:11<00:00, 32.78batch/s]"
          ]
        },
        {
          "name": "stdout",
          "output_type": "stream",
          "text": [
            "\n",
            "Epoch 6 finished: Avg. Loss: 0.977, Avg. Acc.: 58.87%, Time: 11.93s\n"
          ]
        },
        {
          "name": "stderr",
          "output_type": "stream",
          "text": [
            "\n"
          ]
        },
        {
          "name": "stdout",
          "output_type": "stream",
          "text": [
            "TESTING:\n",
            "Accuracy of the network on the test images: 56.47 %\n",
            "Average loss on the test images: 1.023\n"
          ]
        },
        {
          "name": "stderr",
          "output_type": "stream",
          "text": [
            "Epoch 7/45: 100%|██████████| 391/391 [00:11<00:00, 33.04batch/s]"
          ]
        },
        {
          "name": "stdout",
          "output_type": "stream",
          "text": [
            "\n",
            "Epoch 7 finished: Avg. Loss: 0.964, Avg. Acc.: 59.26%, Time: 11.84s\n"
          ]
        },
        {
          "name": "stderr",
          "output_type": "stream",
          "text": [
            "\n"
          ]
        },
        {
          "name": "stdout",
          "output_type": "stream",
          "text": [
            "TESTING:\n",
            "Accuracy of the network on the test images: 57.97 %\n",
            "Average loss on the test images: 1.026\n"
          ]
        },
        {
          "name": "stderr",
          "output_type": "stream",
          "text": [
            "Epoch 8/45: 100%|██████████| 391/391 [00:11<00:00, 33.16batch/s]"
          ]
        },
        {
          "name": "stdout",
          "output_type": "stream",
          "text": [
            "\n",
            "Epoch 8 finished: Avg. Loss: 0.956, Avg. Acc.: 59.61%, Time: 11.80s\n"
          ]
        },
        {
          "name": "stderr",
          "output_type": "stream",
          "text": [
            "\n"
          ]
        },
        {
          "name": "stdout",
          "output_type": "stream",
          "text": [
            "TESTING:\n",
            "Accuracy of the network on the test images: 54.17 %\n",
            "Average loss on the test images: 1.137\n"
          ]
        },
        {
          "name": "stderr",
          "output_type": "stream",
          "text": [
            "Epoch 9/45: 100%|██████████| 391/391 [00:11<00:00, 32.62batch/s]"
          ]
        },
        {
          "name": "stdout",
          "output_type": "stream",
          "text": [
            "\n",
            "Epoch 9 finished: Avg. Loss: 0.945, Avg. Acc.: 60.16%, Time: 11.99s\n"
          ]
        },
        {
          "name": "stderr",
          "output_type": "stream",
          "text": [
            "\n"
          ]
        },
        {
          "name": "stdout",
          "output_type": "stream",
          "text": [
            "TESTING:\n",
            "Accuracy of the network on the test images: 58.30 %\n",
            "Average loss on the test images: 1.039\n"
          ]
        },
        {
          "name": "stderr",
          "output_type": "stream",
          "text": [
            "Epoch 10/45: 100%|██████████| 391/391 [00:11<00:00, 32.80batch/s]"
          ]
        },
        {
          "name": "stdout",
          "output_type": "stream",
          "text": [
            "\n",
            "Epoch 10 finished: Avg. Loss: 0.942, Avg. Acc.: 60.65%, Time: 11.93s\n"
          ]
        },
        {
          "name": "stderr",
          "output_type": "stream",
          "text": [
            "\n"
          ]
        },
        {
          "name": "stdout",
          "output_type": "stream",
          "text": [
            "TESTING:\n",
            "Accuracy of the network on the test images: 59.47 %\n",
            "Average loss on the test images: 0.957\n",
            "New lowest test loss: 0.9572 with accuracy: 59.47%\n"
          ]
        },
        {
          "name": "stderr",
          "output_type": "stream",
          "text": [
            "Epoch 11/45: 100%|██████████| 391/391 [00:11<00:00, 33.30batch/s]"
          ]
        },
        {
          "name": "stdout",
          "output_type": "stream",
          "text": [
            "\n",
            "Epoch 11 finished: Avg. Loss: 0.933, Avg. Acc.: 60.87%, Time: 11.75s\n"
          ]
        },
        {
          "name": "stderr",
          "output_type": "stream",
          "text": [
            "\n"
          ]
        },
        {
          "name": "stdout",
          "output_type": "stream",
          "text": [
            "TESTING:\n",
            "Accuracy of the network on the test images: 62.17 %\n",
            "Average loss on the test images: 0.921\n",
            "New lowest test loss: 0.9214 with accuracy: 62.17%\n"
          ]
        },
        {
          "name": "stderr",
          "output_type": "stream",
          "text": [
            "Epoch 12/45: 100%|██████████| 391/391 [00:11<00:00, 32.95batch/s]"
          ]
        },
        {
          "name": "stdout",
          "output_type": "stream",
          "text": [
            "\n",
            "Epoch 12 finished: Avg. Loss: 0.924, Avg. Acc.: 61.39%, Time: 11.87s\n"
          ]
        },
        {
          "name": "stderr",
          "output_type": "stream",
          "text": [
            "\n"
          ]
        },
        {
          "name": "stdout",
          "output_type": "stream",
          "text": [
            "TESTING:\n",
            "Accuracy of the network on the test images: 59.81 %\n",
            "Average loss on the test images: 0.960\n"
          ]
        },
        {
          "name": "stderr",
          "output_type": "stream",
          "text": [
            "Epoch 13/45: 100%|██████████| 391/391 [00:11<00:00, 33.02batch/s]"
          ]
        },
        {
          "name": "stdout",
          "output_type": "stream",
          "text": [
            "\n",
            "Epoch 13 finished: Avg. Loss: 0.923, Avg. Acc.: 61.33%, Time: 11.85s\n"
          ]
        },
        {
          "name": "stderr",
          "output_type": "stream",
          "text": [
            "\n"
          ]
        },
        {
          "name": "stdout",
          "output_type": "stream",
          "text": [
            "TESTING:\n",
            "Accuracy of the network on the test images: 55.64 %\n",
            "Average loss on the test images: 1.166\n"
          ]
        },
        {
          "name": "stderr",
          "output_type": "stream",
          "text": [
            "Epoch 14/45: 100%|██████████| 391/391 [00:11<00:00, 32.77batch/s]\n"
          ]
        },
        {
          "name": "stdout",
          "output_type": "stream",
          "text": [
            "\n",
            "Epoch 14 finished: Avg. Loss: 0.915, Avg. Acc.: 61.88%, Time: 11.94s\n",
            "TESTING:\n",
            "Accuracy of the network on the test images: 63.23 %\n",
            "Average loss on the test images: 0.885\n",
            "New lowest test loss: 0.8848 with accuracy: 63.23%\n"
          ]
        },
        {
          "name": "stderr",
          "output_type": "stream",
          "text": [
            "Epoch 15/45: 100%|██████████| 391/391 [00:11<00:00, 32.90batch/s]"
          ]
        },
        {
          "name": "stdout",
          "output_type": "stream",
          "text": [
            "\n",
            "Epoch 15 finished: Avg. Loss: 0.914, Avg. Acc.: 61.78%, Time: 11.89s\n"
          ]
        },
        {
          "name": "stderr",
          "output_type": "stream",
          "text": [
            "\n"
          ]
        },
        {
          "name": "stdout",
          "output_type": "stream",
          "text": [
            "TESTING:\n",
            "Accuracy of the network on the test images: 60.85 %\n",
            "Average loss on the test images: 0.923\n"
          ]
        },
        {
          "name": "stderr",
          "output_type": "stream",
          "text": [
            "Epoch 16/45: 100%|██████████| 391/391 [00:11<00:00, 32.90batch/s]"
          ]
        },
        {
          "name": "stdout",
          "output_type": "stream",
          "text": [
            "\n",
            "Epoch 16 finished: Avg. Loss: 0.815, Avg. Acc.: 66.67%, Time: 11.89s\n"
          ]
        },
        {
          "name": "stderr",
          "output_type": "stream",
          "text": [
            "\n"
          ]
        },
        {
          "name": "stdout",
          "output_type": "stream",
          "text": [
            "TESTING:\n",
            "Accuracy of the network on the test images: 68.79 %\n",
            "Average loss on the test images: 0.759\n",
            "New lowest test loss: 0.7589 with accuracy: 68.79%\n"
          ]
        },
        {
          "name": "stderr",
          "output_type": "stream",
          "text": [
            "Epoch 17/45: 100%|██████████| 391/391 [00:11<00:00, 33.63batch/s]"
          ]
        },
        {
          "name": "stdout",
          "output_type": "stream",
          "text": [
            "\n",
            "Epoch 17 finished: Avg. Loss: 0.779, Avg. Acc.: 68.07%, Time: 11.63s\n"
          ]
        },
        {
          "name": "stderr",
          "output_type": "stream",
          "text": [
            "\n"
          ]
        },
        {
          "name": "stdout",
          "output_type": "stream",
          "text": [
            "TESTING:\n",
            "Accuracy of the network on the test images: 69.72 %\n",
            "Average loss on the test images: 0.740\n",
            "New lowest test loss: 0.7403 with accuracy: 69.72%\n"
          ]
        },
        {
          "name": "stderr",
          "output_type": "stream",
          "text": [
            "Epoch 18/45: 100%|██████████| 391/391 [00:11<00:00, 33.13batch/s]"
          ]
        },
        {
          "name": "stdout",
          "output_type": "stream",
          "text": [
            "\n",
            "Epoch 18 finished: Avg. Loss: 0.761, Avg. Acc.: 68.93%, Time: 11.81s\n"
          ]
        },
        {
          "name": "stderr",
          "output_type": "stream",
          "text": [
            "\n"
          ]
        },
        {
          "name": "stdout",
          "output_type": "stream",
          "text": [
            "TESTING:\n",
            "Accuracy of the network on the test images: 70.63 %\n",
            "Average loss on the test images: 0.725\n",
            "New lowest test loss: 0.7246 with accuracy: 70.63%\n"
          ]
        },
        {
          "name": "stderr",
          "output_type": "stream",
          "text": [
            "Epoch 19/45: 100%|██████████| 391/391 [00:11<00:00, 32.85batch/s]"
          ]
        },
        {
          "name": "stdout",
          "output_type": "stream",
          "text": [
            "\n",
            "Epoch 19 finished: Avg. Loss: 0.748, Avg. Acc.: 69.58%, Time: 11.91s\n"
          ]
        },
        {
          "name": "stderr",
          "output_type": "stream",
          "text": [
            "\n"
          ]
        },
        {
          "name": "stdout",
          "output_type": "stream",
          "text": [
            "TESTING:\n",
            "Accuracy of the network on the test images: 70.74 %\n",
            "Average loss on the test images: 0.720\n",
            "New lowest test loss: 0.7195 with accuracy: 70.74%\n"
          ]
        },
        {
          "name": "stderr",
          "output_type": "stream",
          "text": [
            "Epoch 20/45: 100%|██████████| 391/391 [00:11<00:00, 33.04batch/s]"
          ]
        },
        {
          "name": "stdout",
          "output_type": "stream",
          "text": [
            "\n",
            "Epoch 20 finished: Avg. Loss: 0.735, Avg. Acc.: 70.33%, Time: 11.84s\n"
          ]
        },
        {
          "name": "stderr",
          "output_type": "stream",
          "text": [
            "\n"
          ]
        },
        {
          "name": "stdout",
          "output_type": "stream",
          "text": [
            "TESTING:\n",
            "Accuracy of the network on the test images: 71.68 %\n",
            "Average loss on the test images: 0.701\n",
            "New lowest test loss: 0.7009 with accuracy: 71.68%\n"
          ]
        },
        {
          "name": "stderr",
          "output_type": "stream",
          "text": [
            "Epoch 21/45: 100%|██████████| 391/391 [00:11<00:00, 33.09batch/s]"
          ]
        },
        {
          "name": "stdout",
          "output_type": "stream",
          "text": [
            "\n",
            "Epoch 21 finished: Avg. Loss: 0.722, Avg. Acc.: 70.90%, Time: 11.82s\n"
          ]
        },
        {
          "name": "stderr",
          "output_type": "stream",
          "text": [
            "\n"
          ]
        },
        {
          "name": "stdout",
          "output_type": "stream",
          "text": [
            "TESTING:\n",
            "Accuracy of the network on the test images: 71.69 %\n",
            "Average loss on the test images: 0.697\n",
            "New lowest test loss: 0.6971 with accuracy: 71.69%\n"
          ]
        },
        {
          "name": "stderr",
          "output_type": "stream",
          "text": [
            "Epoch 22/45: 100%|██████████| 391/391 [00:12<00:00, 31.78batch/s]"
          ]
        },
        {
          "name": "stdout",
          "output_type": "stream",
          "text": [
            "\n",
            "Epoch 22 finished: Avg. Loss: 0.712, Avg. Acc.: 71.33%, Time: 12.31s\n"
          ]
        },
        {
          "name": "stderr",
          "output_type": "stream",
          "text": [
            "\n"
          ]
        },
        {
          "name": "stdout",
          "output_type": "stream",
          "text": [
            "TESTING:\n",
            "Accuracy of the network on the test images: 72.27 %\n",
            "Average loss on the test images: 0.689\n",
            "New lowest test loss: 0.6893 with accuracy: 72.27%\n"
          ]
        },
        {
          "name": "stderr",
          "output_type": "stream",
          "text": [
            "Epoch 23/45: 100%|██████████| 391/391 [00:11<00:00, 32.64batch/s]"
          ]
        },
        {
          "name": "stdout",
          "output_type": "stream",
          "text": [
            "\n",
            "Epoch 23 finished: Avg. Loss: 0.707, Avg. Acc.: 71.60%, Time: 11.98s\n"
          ]
        },
        {
          "name": "stderr",
          "output_type": "stream",
          "text": [
            "\n"
          ]
        },
        {
          "name": "stdout",
          "output_type": "stream",
          "text": [
            "TESTING:\n",
            "Accuracy of the network on the test images: 71.92 %\n",
            "Average loss on the test images: 0.706\n"
          ]
        },
        {
          "name": "stderr",
          "output_type": "stream",
          "text": [
            "Epoch 24/45: 100%|██████████| 391/391 [00:11<00:00, 32.58batch/s]"
          ]
        },
        {
          "name": "stdout",
          "output_type": "stream",
          "text": [
            "\n",
            "Epoch 24 finished: Avg. Loss: 0.701, Avg. Acc.: 71.70%, Time: 12.00s\n"
          ]
        },
        {
          "name": "stderr",
          "output_type": "stream",
          "text": [
            "\n"
          ]
        },
        {
          "name": "stdout",
          "output_type": "stream",
          "text": [
            "TESTING:\n",
            "Accuracy of the network on the test images: 72.91 %\n",
            "Average loss on the test images: 0.679\n",
            "New lowest test loss: 0.6785 with accuracy: 72.91%\n"
          ]
        },
        {
          "name": "stderr",
          "output_type": "stream",
          "text": [
            "Epoch 25/45: 100%|██████████| 391/391 [00:11<00:00, 32.60batch/s]"
          ]
        },
        {
          "name": "stdout",
          "output_type": "stream",
          "text": [
            "\n",
            "Epoch 25 finished: Avg. Loss: 0.691, Avg. Acc.: 72.23%, Time: 12.00s\n"
          ]
        },
        {
          "name": "stderr",
          "output_type": "stream",
          "text": [
            "\n"
          ]
        },
        {
          "name": "stdout",
          "output_type": "stream",
          "text": [
            "TESTING:\n",
            "Accuracy of the network on the test images: 73.26 %\n",
            "Average loss on the test images: 0.668\n",
            "New lowest test loss: 0.6679 with accuracy: 73.26%\n"
          ]
        },
        {
          "name": "stderr",
          "output_type": "stream",
          "text": [
            "Epoch 26/45: 100%|██████████| 391/391 [00:11<00:00, 33.24batch/s]"
          ]
        },
        {
          "name": "stdout",
          "output_type": "stream",
          "text": [
            "\n",
            "Epoch 26 finished: Avg. Loss: 0.682, Avg. Acc.: 72.50%, Time: 11.77s\n"
          ]
        },
        {
          "name": "stderr",
          "output_type": "stream",
          "text": [
            "\n"
          ]
        },
        {
          "name": "stdout",
          "output_type": "stream",
          "text": [
            "TESTING:\n",
            "Accuracy of the network on the test images: 73.74 %\n",
            "Average loss on the test images: 0.658\n",
            "New lowest test loss: 0.6582 with accuracy: 73.74%\n"
          ]
        },
        {
          "name": "stderr",
          "output_type": "stream",
          "text": [
            "Epoch 27/45: 100%|██████████| 391/391 [00:11<00:00, 32.86batch/s]"
          ]
        },
        {
          "name": "stdout",
          "output_type": "stream",
          "text": [
            "\n",
            "Epoch 27 finished: Avg. Loss: 0.677, Avg. Acc.: 72.96%, Time: 11.90s\n"
          ]
        },
        {
          "name": "stderr",
          "output_type": "stream",
          "text": [
            "\n"
          ]
        },
        {
          "name": "stdout",
          "output_type": "stream",
          "text": [
            "TESTING:\n",
            "Accuracy of the network on the test images: 74.00 %\n",
            "Average loss on the test images: 0.655\n",
            "New lowest test loss: 0.6546 with accuracy: 74.00%\n"
          ]
        },
        {
          "name": "stderr",
          "output_type": "stream",
          "text": [
            "Epoch 28/45: 100%|██████████| 391/391 [00:11<00:00, 33.20batch/s]"
          ]
        },
        {
          "name": "stdout",
          "output_type": "stream",
          "text": [
            "\n",
            "Epoch 28 finished: Avg. Loss: 0.670, Avg. Acc.: 73.32%, Time: 11.78s\n"
          ]
        },
        {
          "name": "stderr",
          "output_type": "stream",
          "text": [
            "\n"
          ]
        },
        {
          "name": "stdout",
          "output_type": "stream",
          "text": [
            "TESTING:\n",
            "Accuracy of the network on the test images: 73.99 %\n",
            "Average loss on the test images: 0.654\n",
            "New lowest test loss: 0.6537 with accuracy: 73.99%\n"
          ]
        },
        {
          "name": "stderr",
          "output_type": "stream",
          "text": [
            "Epoch 29/45: 100%|██████████| 391/391 [00:11<00:00, 33.06batch/s]"
          ]
        },
        {
          "name": "stdout",
          "output_type": "stream",
          "text": [
            "\n",
            "Epoch 29 finished: Avg. Loss: 0.663, Avg. Acc.: 73.52%, Time: 11.83s\n"
          ]
        },
        {
          "name": "stderr",
          "output_type": "stream",
          "text": [
            "\n"
          ]
        },
        {
          "name": "stdout",
          "output_type": "stream",
          "text": [
            "TESTING:\n",
            "Accuracy of the network on the test images: 73.57 %\n",
            "Average loss on the test images: 0.659\n"
          ]
        },
        {
          "name": "stderr",
          "output_type": "stream",
          "text": [
            "Epoch 30/45: 100%|██████████| 391/391 [00:11<00:00, 33.42batch/s]"
          ]
        },
        {
          "name": "stdout",
          "output_type": "stream",
          "text": [
            "\n",
            "Epoch 30 finished: Avg. Loss: 0.660, Avg. Acc.: 73.74%, Time: 11.71s\n"
          ]
        },
        {
          "name": "stderr",
          "output_type": "stream",
          "text": [
            "\n"
          ]
        },
        {
          "name": "stdout",
          "output_type": "stream",
          "text": [
            "TESTING:\n",
            "Accuracy of the network on the test images: 73.57 %\n",
            "Average loss on the test images: 0.656\n"
          ]
        },
        {
          "name": "stderr",
          "output_type": "stream",
          "text": [
            "Epoch 31/45: 100%|██████████| 391/391 [00:11<00:00, 33.13batch/s]"
          ]
        },
        {
          "name": "stdout",
          "output_type": "stream",
          "text": [
            "\n",
            "Epoch 31 finished: Avg. Loss: 0.627, Avg. Acc.: 75.24%, Time: 11.81s\n"
          ]
        },
        {
          "name": "stderr",
          "output_type": "stream",
          "text": [
            "\n"
          ]
        },
        {
          "name": "stdout",
          "output_type": "stream",
          "text": [
            "TESTING:\n",
            "Accuracy of the network on the test images: 75.98 %\n",
            "Average loss on the test images: 0.601\n",
            "New lowest test loss: 0.6013 with accuracy: 75.98%\n"
          ]
        },
        {
          "name": "stderr",
          "output_type": "stream",
          "text": [
            "Epoch 32/45: 100%|██████████| 391/391 [00:11<00:00, 32.92batch/s]"
          ]
        },
        {
          "name": "stdout",
          "output_type": "stream",
          "text": [
            "\n",
            "Epoch 32 finished: Avg. Loss: 0.614, Avg. Acc.: 76.01%, Time: 11.88s\n"
          ]
        },
        {
          "name": "stderr",
          "output_type": "stream",
          "text": [
            "\n"
          ]
        },
        {
          "name": "stdout",
          "output_type": "stream",
          "text": [
            "TESTING:\n",
            "Accuracy of the network on the test images: 76.26 %\n",
            "Average loss on the test images: 0.598\n",
            "New lowest test loss: 0.5982 with accuracy: 76.26%\n"
          ]
        },
        {
          "name": "stderr",
          "output_type": "stream",
          "text": [
            "Epoch 33/45: 100%|██████████| 391/391 [00:11<00:00, 32.96batch/s]"
          ]
        },
        {
          "name": "stdout",
          "output_type": "stream",
          "text": [
            "\n",
            "Epoch 33 finished: Avg. Loss: 0.611, Avg. Acc.: 75.99%, Time: 11.87s\n"
          ]
        },
        {
          "name": "stderr",
          "output_type": "stream",
          "text": [
            "\n"
          ]
        },
        {
          "name": "stdout",
          "output_type": "stream",
          "text": [
            "TESTING:\n",
            "Accuracy of the network on the test images: 76.80 %\n",
            "Average loss on the test images: 0.590\n",
            "New lowest test loss: 0.5902 with accuracy: 76.80%\n"
          ]
        },
        {
          "name": "stderr",
          "output_type": "stream",
          "text": [
            "Epoch 34/45: 100%|██████████| 391/391 [00:12<00:00, 32.32batch/s]"
          ]
        },
        {
          "name": "stdout",
          "output_type": "stream",
          "text": [
            "\n",
            "Epoch 34 finished: Avg. Loss: 0.609, Avg. Acc.: 75.93%, Time: 12.10s\n"
          ]
        },
        {
          "name": "stderr",
          "output_type": "stream",
          "text": [
            "\n"
          ]
        },
        {
          "name": "stdout",
          "output_type": "stream",
          "text": [
            "TESTING:\n",
            "Accuracy of the network on the test images: 76.77 %\n",
            "Average loss on the test images: 0.591\n"
          ]
        },
        {
          "name": "stderr",
          "output_type": "stream",
          "text": [
            "Epoch 35/45: 100%|██████████| 391/391 [00:11<00:00, 33.24batch/s]"
          ]
        },
        {
          "name": "stdout",
          "output_type": "stream",
          "text": [
            "\n",
            "Epoch 35 finished: Avg. Loss: 0.605, Avg. Acc.: 76.04%, Time: 11.77s\n"
          ]
        },
        {
          "name": "stderr",
          "output_type": "stream",
          "text": [
            "\n"
          ]
        },
        {
          "name": "stdout",
          "output_type": "stream",
          "text": [
            "TESTING:\n",
            "Accuracy of the network on the test images: 76.76 %\n",
            "Average loss on the test images: 0.587\n",
            "New lowest test loss: 0.5874 with accuracy: 76.76%\n"
          ]
        },
        {
          "name": "stderr",
          "output_type": "stream",
          "text": [
            "Epoch 36/45: 100%|██████████| 391/391 [00:11<00:00, 32.94batch/s]"
          ]
        },
        {
          "name": "stdout",
          "output_type": "stream",
          "text": [
            "\n",
            "Epoch 36 finished: Avg. Loss: 0.600, Avg. Acc.: 76.52%, Time: 11.88s\n"
          ]
        },
        {
          "name": "stderr",
          "output_type": "stream",
          "text": [
            "\n"
          ]
        },
        {
          "name": "stdout",
          "output_type": "stream",
          "text": [
            "TESTING:\n",
            "Accuracy of the network on the test images: 76.94 %\n",
            "Average loss on the test images: 0.586\n",
            "New lowest test loss: 0.5856 with accuracy: 76.94%\n"
          ]
        },
        {
          "name": "stderr",
          "output_type": "stream",
          "text": [
            "Epoch 37/45: 100%|██████████| 391/391 [00:11<00:00, 32.81batch/s]"
          ]
        },
        {
          "name": "stdout",
          "output_type": "stream",
          "text": [
            "\n",
            "Epoch 37 finished: Avg. Loss: 0.602, Avg. Acc.: 76.37%, Time: 11.92s\n"
          ]
        },
        {
          "name": "stderr",
          "output_type": "stream",
          "text": [
            "\n"
          ]
        },
        {
          "name": "stdout",
          "output_type": "stream",
          "text": [
            "TESTING:\n",
            "Accuracy of the network on the test images: 76.72 %\n",
            "Average loss on the test images: 0.587\n"
          ]
        },
        {
          "name": "stderr",
          "output_type": "stream",
          "text": [
            "Epoch 38/45: 100%|██████████| 391/391 [00:11<00:00, 33.09batch/s]"
          ]
        },
        {
          "name": "stdout",
          "output_type": "stream",
          "text": [
            "\n",
            "Epoch 38 finished: Avg. Loss: 0.600, Avg. Acc.: 76.41%, Time: 11.82s\n"
          ]
        },
        {
          "name": "stderr",
          "output_type": "stream",
          "text": [
            "\n"
          ]
        },
        {
          "name": "stdout",
          "output_type": "stream",
          "text": [
            "TESTING:\n",
            "Accuracy of the network on the test images: 77.00 %\n",
            "Average loss on the test images: 0.588\n"
          ]
        },
        {
          "name": "stderr",
          "output_type": "stream",
          "text": [
            "Epoch 39/45: 100%|██████████| 391/391 [00:11<00:00, 32.94batch/s]"
          ]
        },
        {
          "name": "stdout",
          "output_type": "stream",
          "text": [
            "\n",
            "Epoch 39 finished: Avg. Loss: 0.597, Avg. Acc.: 76.65%, Time: 11.87s\n"
          ]
        },
        {
          "name": "stderr",
          "output_type": "stream",
          "text": [
            "\n"
          ]
        },
        {
          "name": "stdout",
          "output_type": "stream",
          "text": [
            "TESTING:\n",
            "Accuracy of the network on the test images: 76.86 %\n",
            "Average loss on the test images: 0.587\n"
          ]
        },
        {
          "name": "stderr",
          "output_type": "stream",
          "text": [
            "Epoch 40/45: 100%|██████████| 391/391 [00:11<00:00, 32.99batch/s]"
          ]
        },
        {
          "name": "stdout",
          "output_type": "stream",
          "text": [
            "\n",
            "Epoch 40 finished: Avg. Loss: 0.596, Avg. Acc.: 76.72%, Time: 11.86s\n"
          ]
        },
        {
          "name": "stderr",
          "output_type": "stream",
          "text": [
            "\n"
          ]
        },
        {
          "name": "stdout",
          "output_type": "stream",
          "text": [
            "TESTING:\n",
            "Accuracy of the network on the test images: 76.99 %\n",
            "Average loss on the test images: 0.587\n"
          ]
        },
        {
          "name": "stderr",
          "output_type": "stream",
          "text": [
            "Epoch 41/45: 100%|██████████| 391/391 [00:11<00:00, 32.73batch/s]"
          ]
        },
        {
          "name": "stdout",
          "output_type": "stream",
          "text": [
            "\n",
            "Epoch 41 finished: Avg. Loss: 0.590, Avg. Acc.: 76.71%, Time: 11.95s\n"
          ]
        },
        {
          "name": "stderr",
          "output_type": "stream",
          "text": [
            "\n"
          ]
        },
        {
          "name": "stdout",
          "output_type": "stream",
          "text": [
            "TESTING:\n",
            "Accuracy of the network on the test images: 77.05 %\n",
            "Average loss on the test images: 0.582\n",
            "New lowest test loss: 0.5815 with accuracy: 77.05%\n"
          ]
        },
        {
          "name": "stderr",
          "output_type": "stream",
          "text": [
            "Epoch 42/45: 100%|██████████| 391/391 [00:11<00:00, 32.93batch/s]"
          ]
        },
        {
          "name": "stdout",
          "output_type": "stream",
          "text": [
            "\n",
            "Epoch 42 finished: Avg. Loss: 0.592, Avg. Acc.: 76.76%, Time: 11.88s\n"
          ]
        },
        {
          "name": "stderr",
          "output_type": "stream",
          "text": [
            "\n"
          ]
        },
        {
          "name": "stdout",
          "output_type": "stream",
          "text": [
            "TESTING:\n",
            "Accuracy of the network on the test images: 77.01 %\n",
            "Average loss on the test images: 0.586\n"
          ]
        },
        {
          "name": "stderr",
          "output_type": "stream",
          "text": [
            "Epoch 43/45: 100%|██████████| 391/391 [00:12<00:00, 32.25batch/s]"
          ]
        },
        {
          "name": "stdout",
          "output_type": "stream",
          "text": [
            "\n",
            "Epoch 43 finished: Avg. Loss: 0.590, Avg. Acc.: 76.82%, Time: 12.13s\n"
          ]
        },
        {
          "name": "stderr",
          "output_type": "stream",
          "text": [
            "\n"
          ]
        },
        {
          "name": "stdout",
          "output_type": "stream",
          "text": [
            "TESTING:\n",
            "Accuracy of the network on the test images: 77.13 %\n",
            "Average loss on the test images: 0.578\n",
            "New lowest test loss: 0.5782 with accuracy: 77.13%\n"
          ]
        },
        {
          "name": "stderr",
          "output_type": "stream",
          "text": [
            "Epoch 44/45: 100%|██████████| 391/391 [00:12<00:00, 32.44batch/s]"
          ]
        },
        {
          "name": "stdout",
          "output_type": "stream",
          "text": [
            "\n",
            "Epoch 44 finished: Avg. Loss: 0.588, Avg. Acc.: 76.93%, Time: 12.06s\n"
          ]
        },
        {
          "name": "stderr",
          "output_type": "stream",
          "text": [
            "\n"
          ]
        },
        {
          "name": "stdout",
          "output_type": "stream",
          "text": [
            "TESTING:\n",
            "Accuracy of the network on the test images: 77.46 %\n",
            "Average loss on the test images: 0.576\n",
            "New lowest test loss: 0.5760 with accuracy: 77.46%\n"
          ]
        },
        {
          "name": "stderr",
          "output_type": "stream",
          "text": [
            "Epoch 45/45: 100%|██████████| 391/391 [00:12<00:00, 32.51batch/s]"
          ]
        },
        {
          "name": "stdout",
          "output_type": "stream",
          "text": [
            "\n",
            "Epoch 45 finished: Avg. Loss: 0.590, Avg. Acc.: 76.83%, Time: 12.03s\n"
          ]
        },
        {
          "name": "stderr",
          "output_type": "stream",
          "text": [
            "\n"
          ]
        },
        {
          "name": "stdout",
          "output_type": "stream",
          "text": [
            "TESTING:\n",
            "Accuracy of the network on the test images: 77.27 %\n",
            "Average loss on the test images: 0.577\n",
            "Finished Training. Best Test Loss: 0.5760, Best Accuracy: 77.46%\n"
          ]
        }
      ],
      "source": [
        "model_path = '/content/assignment3/assignment3/assignment3_part1/resnet18_rotation_task_best_model.pth'\n",
        "\n",
        "train(net, criterion, optimizer, num_epochs=45, decay_epochs=15, init_lr=0.01, task='rotation', trainloader=trainloader, testloader=testloader, model_path=model_path)"
      ]
    },
    {
      "cell_type": "markdown",
      "metadata": {
        "id": "sAlrPt-O2qyq"
      },
      "source": [
        "# Fine-tuning on the pre-trained model\n",
        "### In this section, we will load the pre-trained ResNet18 model and fine-tune on the classification task. We will freeze all previous layers except for the 'layer4' block and 'fc' layer."
      ]
    },
    {
      "cell_type": "code",
      "execution_count": null,
      "metadata": {
        "colab": {
          "base_uri": "https://localhost:8080/"
        },
        "id": "_epR1l2kXtj1",
        "outputId": "0d046072-372b-4a0c-e9cc-61f7cba7b364"
      },
      "outputs": [
        {
          "name": "stderr",
          "output_type": "stream",
          "text": [
            "/usr/local/lib/python3.10/dist-packages/torchvision/models/_utils.py:208: UserWarning: The parameter 'pretrained' is deprecated since 0.13 and may be removed in the future, please use 'weights' instead.\n",
            "  warnings.warn(\n",
            "/usr/local/lib/python3.10/dist-packages/torchvision/models/_utils.py:223: UserWarning: Arguments other than a weight enum or `None` for 'weights' are deprecated since 0.13 and may be removed in the future. The current behavior is equivalent to passing `weights=None`.\n",
            "  warnings.warn(msg)\n"
          ]
        }
      ],
      "source": [
        "from typing_extensions import NewType\n",
        "import torch.nn as nn\n",
        "import torch.nn.functional as F\n",
        "\n",
        "from torchvision.models import resnet18\n",
        "\n",
        "path = '/content/assignment3/assignment3/assignment3_part1/resnet18_rotation_task_best_model.pth'\n",
        "\n",
        "net = resnet18(pretrained=False)\n",
        "pretrained_dict = torch.load(path)\n",
        "net_dict = net.state_dict()\n",
        "\n",
        "# 1. filter out unnecessary keys\n",
        "pretrained_dict = {k: v for k, v in pretrained_dict.items() if k in net_dict and net_dict[k].size() == v.size()}\n",
        "# 2. overwrite entries in the existing state dict\n",
        "net_dict.update(pretrained_dict)\n",
        "# 3. load the new state dict\n",
        "net.load_state_dict(net_dict)\n",
        "\n",
        "num_ftrs = net.fc.in_features\n",
        "NewType.fc = nn.Linear(num_ftrs, 10)\n",
        "\n",
        "net = net.to(device)"
      ]
    },
    {
      "cell_type": "code",
      "execution_count": null,
      "metadata": {
        "id": "ByIIB5dx28TH"
      },
      "outputs": [],
      "source": [
        "for param in net.parameters():\n",
        "    param.requires_grad = False\n",
        "\n",
        "for param in net.layer4.parameters():\n",
        "    param.requires_grad = True\n",
        "\n",
        "for param in net.fc.parameters():\n",
        "    param.requires_grad = True"
      ]
    },
    {
      "cell_type": "code",
      "execution_count": null,
      "metadata": {
        "colab": {
          "base_uri": "https://localhost:8080/"
        },
        "id": "5IzGH76o3YSG",
        "outputId": "6af40706-298d-4bfe-b0c4-142eed65e4f4"
      },
      "outputs": [
        {
          "name": "stdout",
          "output_type": "stream",
          "text": [
            "Params to learn:\n",
            "\t layer4.0.conv1.weight\n",
            "\t layer4.0.bn1.weight\n",
            "\t layer4.0.bn1.bias\n",
            "\t layer4.0.conv2.weight\n",
            "\t layer4.0.bn2.weight\n",
            "\t layer4.0.bn2.bias\n",
            "\t layer4.0.downsample.0.weight\n",
            "\t layer4.0.downsample.1.weight\n",
            "\t layer4.0.downsample.1.bias\n",
            "\t layer4.1.conv1.weight\n",
            "\t layer4.1.bn1.weight\n",
            "\t layer4.1.bn1.bias\n",
            "\t layer4.1.conv2.weight\n",
            "\t layer4.1.bn2.weight\n",
            "\t layer4.1.bn2.bias\n",
            "\t fc.weight\n",
            "\t fc.bias\n"
          ]
        }
      ],
      "source": [
        "# Print all the trainable parameters\n",
        "params_to_update = net.parameters()\n",
        "print(\"Params to learn:\")\n",
        "params_to_update = []\n",
        "for name,param in net.named_parameters():\n",
        "    if param.requires_grad == True:\n",
        "        params_to_update.append(param)\n",
        "        print(\"\\t\",name)"
      ]
    },
    {
      "cell_type": "code",
      "execution_count": null,
      "metadata": {
        "id": "a6DQ5ULF32wE"
      },
      "outputs": [],
      "source": [
        "criterion = nn.CrossEntropyLoss()\n",
        "optimizer = torch.optim.AdamW(filter(lambda p: p.requires_grad, net.parameters()), lr=0.01, weight_decay=1e-1)"
      ]
    },
    {
      "cell_type": "code",
      "execution_count": null,
      "metadata": {
        "colab": {
          "base_uri": "https://localhost:8080/"
        },
        "id": "_U0QjvSq4Fqr",
        "outputId": "539fe5ef-3632-4e61-952a-774632a7d96f"
      },
      "outputs": [
        {
          "name": "stderr",
          "output_type": "stream",
          "text": [
            "Epoch 1/20: 100%|██████████| 391/391 [00:11<00:00, 33.43batch/s]"
          ]
        },
        {
          "name": "stdout",
          "output_type": "stream",
          "text": [
            "\n",
            "Epoch 1 finished: Avg. Loss: 1.717, Avg. Acc.: 39.55%, Time: 11.70s\n"
          ]
        },
        {
          "name": "stderr",
          "output_type": "stream",
          "text": [
            "\n"
          ]
        },
        {
          "name": "stdout",
          "output_type": "stream",
          "text": [
            "TESTING:\n",
            "Accuracy of the network on the test images: 42.63 %\n",
            "Average loss on the test images: 1.584\n",
            "New lowest test loss: 1.5845 with accuracy: 42.63%\n"
          ]
        },
        {
          "name": "stderr",
          "output_type": "stream",
          "text": [
            "Epoch 2/20: 100%|██████████| 391/391 [00:11<00:00, 33.97batch/s]"
          ]
        },
        {
          "name": "stdout",
          "output_type": "stream",
          "text": [
            "\n",
            "Epoch 2 finished: Avg. Loss: 1.478, Avg. Acc.: 46.39%, Time: 11.51s\n"
          ]
        },
        {
          "name": "stderr",
          "output_type": "stream",
          "text": [
            "\n"
          ]
        },
        {
          "name": "stdout",
          "output_type": "stream",
          "text": [
            "TESTING:\n",
            "Accuracy of the network on the test images: 45.77 %\n",
            "Average loss on the test images: 1.491\n",
            "New lowest test loss: 1.4906 with accuracy: 45.77%\n"
          ]
        },
        {
          "name": "stderr",
          "output_type": "stream",
          "text": [
            "Epoch 3/20: 100%|██████████| 391/391 [00:11<00:00, 33.88batch/s]"
          ]
        },
        {
          "name": "stdout",
          "output_type": "stream",
          "text": [
            "\n",
            "Epoch 3 finished: Avg. Loss: 1.463, Avg. Acc.: 46.91%, Time: 11.55s\n"
          ]
        },
        {
          "name": "stderr",
          "output_type": "stream",
          "text": [
            "\n"
          ]
        },
        {
          "name": "stdout",
          "output_type": "stream",
          "text": [
            "TESTING:\n",
            "Accuracy of the network on the test images: 48.65 %\n",
            "Average loss on the test images: 1.439\n",
            "New lowest test loss: 1.4391 with accuracy: 48.65%\n"
          ]
        },
        {
          "name": "stderr",
          "output_type": "stream",
          "text": [
            "Epoch 4/20: 100%|██████████| 391/391 [00:11<00:00, 33.72batch/s]"
          ]
        },
        {
          "name": "stdout",
          "output_type": "stream",
          "text": [
            "\n",
            "Epoch 4 finished: Avg. Loss: 1.450, Avg. Acc.: 47.53%, Time: 11.60s\n"
          ]
        },
        {
          "name": "stderr",
          "output_type": "stream",
          "text": [
            "\n"
          ]
        },
        {
          "name": "stdout",
          "output_type": "stream",
          "text": [
            "TESTING:\n",
            "Accuracy of the network on the test images: 44.02 %\n",
            "Average loss on the test images: 1.577\n"
          ]
        },
        {
          "name": "stderr",
          "output_type": "stream",
          "text": [
            "Epoch 5/20: 100%|██████████| 391/391 [00:11<00:00, 34.21batch/s]"
          ]
        },
        {
          "name": "stdout",
          "output_type": "stream",
          "text": [
            "\n",
            "Epoch 5 finished: Avg. Loss: 1.443, Avg. Acc.: 47.65%, Time: 11.43s\n"
          ]
        },
        {
          "name": "stderr",
          "output_type": "stream",
          "text": [
            "\n"
          ]
        },
        {
          "name": "stdout",
          "output_type": "stream",
          "text": [
            "TESTING:\n",
            "Accuracy of the network on the test images: 47.52 %\n",
            "Average loss on the test images: 1.455\n"
          ]
        },
        {
          "name": "stderr",
          "output_type": "stream",
          "text": [
            "Epoch 6/20: 100%|██████████| 391/391 [00:11<00:00, 34.72batch/s]"
          ]
        },
        {
          "name": "stdout",
          "output_type": "stream",
          "text": [
            "\n",
            "Epoch 6 finished: Avg. Loss: 1.445, Avg. Acc.: 47.61%, Time: 11.27s\n"
          ]
        },
        {
          "name": "stderr",
          "output_type": "stream",
          "text": [
            "\n"
          ]
        },
        {
          "name": "stdout",
          "output_type": "stream",
          "text": [
            "TESTING:\n",
            "Accuracy of the network on the test images: 45.96 %\n",
            "Average loss on the test images: 1.477\n"
          ]
        },
        {
          "name": "stderr",
          "output_type": "stream",
          "text": [
            "Epoch 7/20: 100%|██████████| 391/391 [00:11<00:00, 34.38batch/s]"
          ]
        },
        {
          "name": "stdout",
          "output_type": "stream",
          "text": [
            "\n",
            "Epoch 7 finished: Avg. Loss: 1.441, Avg. Acc.: 47.78%, Time: 11.38s\n"
          ]
        },
        {
          "name": "stderr",
          "output_type": "stream",
          "text": [
            "\n"
          ]
        },
        {
          "name": "stdout",
          "output_type": "stream",
          "text": [
            "TESTING:\n",
            "Accuracy of the network on the test images: 48.85 %\n",
            "Average loss on the test images: 1.436\n",
            "New lowest test loss: 1.4365 with accuracy: 48.85%\n"
          ]
        },
        {
          "name": "stderr",
          "output_type": "stream",
          "text": [
            "Epoch 8/20: 100%|██████████| 391/391 [00:11<00:00, 34.82batch/s]"
          ]
        },
        {
          "name": "stdout",
          "output_type": "stream",
          "text": [
            "\n",
            "Epoch 8 finished: Avg. Loss: 1.431, Avg. Acc.: 48.12%, Time: 11.23s\n"
          ]
        },
        {
          "name": "stderr",
          "output_type": "stream",
          "text": [
            "\n"
          ]
        },
        {
          "name": "stdout",
          "output_type": "stream",
          "text": [
            "TESTING:\n",
            "Accuracy of the network on the test images: 47.77 %\n",
            "Average loss on the test images: 1.487\n"
          ]
        },
        {
          "name": "stderr",
          "output_type": "stream",
          "text": [
            "Epoch 9/20: 100%|██████████| 391/391 [00:11<00:00, 35.14batch/s]"
          ]
        },
        {
          "name": "stdout",
          "output_type": "stream",
          "text": [
            "\n",
            "Epoch 9 finished: Avg. Loss: 1.438, Avg. Acc.: 48.03%, Time: 11.13s\n"
          ]
        },
        {
          "name": "stderr",
          "output_type": "stream",
          "text": [
            "\n"
          ]
        },
        {
          "name": "stdout",
          "output_type": "stream",
          "text": [
            "TESTING:\n",
            "Accuracy of the network on the test images: 47.81 %\n",
            "Average loss on the test images: 1.466\n"
          ]
        },
        {
          "name": "stderr",
          "output_type": "stream",
          "text": [
            "Epoch 10/20: 100%|██████████| 391/391 [00:11<00:00, 35.23batch/s]"
          ]
        },
        {
          "name": "stdout",
          "output_type": "stream",
          "text": [
            "\n",
            "Epoch 10 finished: Avg. Loss: 1.431, Avg. Acc.: 48.18%, Time: 11.10s\n"
          ]
        },
        {
          "name": "stderr",
          "output_type": "stream",
          "text": [
            "\n"
          ]
        },
        {
          "name": "stdout",
          "output_type": "stream",
          "text": [
            "TESTING:\n",
            "Accuracy of the network on the test images: 48.93 %\n",
            "Average loss on the test images: 1.432\n",
            "New lowest test loss: 1.4316 with accuracy: 48.93%\n"
          ]
        },
        {
          "name": "stderr",
          "output_type": "stream",
          "text": [
            "Epoch 11/20: 100%|██████████| 391/391 [00:11<00:00, 34.88batch/s]"
          ]
        },
        {
          "name": "stdout",
          "output_type": "stream",
          "text": [
            "\n",
            "Epoch 11 finished: Avg. Loss: 1.350, Avg. Acc.: 51.19%, Time: 11.21s\n"
          ]
        },
        {
          "name": "stderr",
          "output_type": "stream",
          "text": [
            "\n"
          ]
        },
        {
          "name": "stdout",
          "output_type": "stream",
          "text": [
            "TESTING:\n",
            "Accuracy of the network on the test images: 52.70 %\n",
            "Average loss on the test images: 1.317\n",
            "New lowest test loss: 1.3168 with accuracy: 52.70%\n"
          ]
        },
        {
          "name": "stderr",
          "output_type": "stream",
          "text": [
            "Epoch 12/20: 100%|██████████| 391/391 [00:11<00:00, 34.19batch/s]"
          ]
        },
        {
          "name": "stdout",
          "output_type": "stream",
          "text": [
            "\n",
            "Epoch 12 finished: Avg. Loss: 1.325, Avg. Acc.: 52.29%, Time: 11.44s\n"
          ]
        },
        {
          "name": "stderr",
          "output_type": "stream",
          "text": [
            "\n"
          ]
        },
        {
          "name": "stdout",
          "output_type": "stream",
          "text": [
            "TESTING:\n",
            "Accuracy of the network on the test images: 53.45 %\n",
            "Average loss on the test images: 1.293\n",
            "New lowest test loss: 1.2935 with accuracy: 53.45%\n"
          ]
        },
        {
          "name": "stderr",
          "output_type": "stream",
          "text": [
            "Epoch 13/20: 100%|██████████| 391/391 [00:11<00:00, 33.76batch/s]"
          ]
        },
        {
          "name": "stdout",
          "output_type": "stream",
          "text": [
            "\n",
            "Epoch 13 finished: Avg. Loss: 1.314, Avg. Acc.: 52.65%, Time: 11.59s\n"
          ]
        },
        {
          "name": "stderr",
          "output_type": "stream",
          "text": [
            "\n"
          ]
        },
        {
          "name": "stdout",
          "output_type": "stream",
          "text": [
            "TESTING:\n",
            "Accuracy of the network on the test images: 54.40 %\n",
            "Average loss on the test images: 1.277\n",
            "New lowest test loss: 1.2773 with accuracy: 54.40%\n"
          ]
        },
        {
          "name": "stderr",
          "output_type": "stream",
          "text": [
            "Epoch 14/20: 100%|██████████| 391/391 [00:11<00:00, 33.82batch/s]"
          ]
        },
        {
          "name": "stdout",
          "output_type": "stream",
          "text": [
            "\n",
            "Epoch 14 finished: Avg. Loss: 1.308, Avg. Acc.: 52.93%, Time: 11.57s\n"
          ]
        },
        {
          "name": "stderr",
          "output_type": "stream",
          "text": [
            "\n"
          ]
        },
        {
          "name": "stdout",
          "output_type": "stream",
          "text": [
            "TESTING:\n",
            "Accuracy of the network on the test images: 53.87 %\n",
            "Average loss on the test images: 1.274\n",
            "New lowest test loss: 1.2735 with accuracy: 53.87%\n"
          ]
        },
        {
          "name": "stderr",
          "output_type": "stream",
          "text": [
            "Epoch 15/20: 100%|██████████| 391/391 [00:11<00:00, 34.06batch/s]"
          ]
        },
        {
          "name": "stdout",
          "output_type": "stream",
          "text": [
            "\n",
            "Epoch 15 finished: Avg. Loss: 1.305, Avg. Acc.: 52.89%, Time: 11.49s\n"
          ]
        },
        {
          "name": "stderr",
          "output_type": "stream",
          "text": [
            "\n"
          ]
        },
        {
          "name": "stdout",
          "output_type": "stream",
          "text": [
            "TESTING:\n",
            "Accuracy of the network on the test images: 53.99 %\n",
            "Average loss on the test images: 1.270\n",
            "New lowest test loss: 1.2697 with accuracy: 53.99%\n"
          ]
        },
        {
          "name": "stderr",
          "output_type": "stream",
          "text": [
            "Epoch 16/20: 100%|██████████| 391/391 [00:11<00:00, 34.16batch/s]"
          ]
        },
        {
          "name": "stdout",
          "output_type": "stream",
          "text": [
            "\n",
            "Epoch 16 finished: Avg. Loss: 1.303, Avg. Acc.: 53.24%, Time: 11.45s\n"
          ]
        },
        {
          "name": "stderr",
          "output_type": "stream",
          "text": [
            "\n"
          ]
        },
        {
          "name": "stdout",
          "output_type": "stream",
          "text": [
            "TESTING:\n",
            "Accuracy of the network on the test images: 54.31 %\n",
            "Average loss on the test images: 1.267\n",
            "New lowest test loss: 1.2672 with accuracy: 54.31%\n"
          ]
        },
        {
          "name": "stderr",
          "output_type": "stream",
          "text": [
            "Epoch 17/20: 100%|██████████| 391/391 [00:11<00:00, 34.33batch/s]"
          ]
        },
        {
          "name": "stdout",
          "output_type": "stream",
          "text": [
            "\n",
            "Epoch 17 finished: Avg. Loss: 1.296, Avg. Acc.: 53.45%, Time: 11.40s\n"
          ]
        },
        {
          "name": "stderr",
          "output_type": "stream",
          "text": [
            "\n"
          ]
        },
        {
          "name": "stdout",
          "output_type": "stream",
          "text": [
            "TESTING:\n",
            "Accuracy of the network on the test images: 55.00 %\n",
            "Average loss on the test images: 1.255\n",
            "New lowest test loss: 1.2547 with accuracy: 55.00%\n"
          ]
        },
        {
          "name": "stderr",
          "output_type": "stream",
          "text": [
            "Epoch 18/20: 100%|██████████| 391/391 [00:11<00:00, 33.93batch/s]"
          ]
        },
        {
          "name": "stdout",
          "output_type": "stream",
          "text": [
            "\n",
            "Epoch 18 finished: Avg. Loss: 1.288, Avg. Acc.: 53.77%, Time: 11.53s\n"
          ]
        },
        {
          "name": "stderr",
          "output_type": "stream",
          "text": [
            "\n"
          ]
        },
        {
          "name": "stdout",
          "output_type": "stream",
          "text": [
            "TESTING:\n",
            "Accuracy of the network on the test images: 54.54 %\n",
            "Average loss on the test images: 1.260\n"
          ]
        },
        {
          "name": "stderr",
          "output_type": "stream",
          "text": [
            "Epoch 19/20: 100%|██████████| 391/391 [00:11<00:00, 34.71batch/s]"
          ]
        },
        {
          "name": "stdout",
          "output_type": "stream",
          "text": [
            "\n",
            "Epoch 19 finished: Avg. Loss: 1.288, Avg. Acc.: 53.29%, Time: 11.27s\n"
          ]
        },
        {
          "name": "stderr",
          "output_type": "stream",
          "text": [
            "\n"
          ]
        },
        {
          "name": "stdout",
          "output_type": "stream",
          "text": [
            "TESTING:\n",
            "Accuracy of the network on the test images: 54.52 %\n",
            "Average loss on the test images: 1.261\n"
          ]
        },
        {
          "name": "stderr",
          "output_type": "stream",
          "text": [
            "Epoch 20/20: 100%|██████████| 391/391 [00:11<00:00, 34.53batch/s]"
          ]
        },
        {
          "name": "stdout",
          "output_type": "stream",
          "text": [
            "\n",
            "Epoch 20 finished: Avg. Loss: 1.284, Avg. Acc.: 53.68%, Time: 11.33s\n"
          ]
        },
        {
          "name": "stderr",
          "output_type": "stream",
          "text": [
            "\n"
          ]
        },
        {
          "name": "stdout",
          "output_type": "stream",
          "text": [
            "TESTING:\n",
            "Accuracy of the network on the test images: 54.71 %\n",
            "Average loss on the test images: 1.250\n",
            "New lowest test loss: 1.2501 with accuracy: 54.71%\n",
            "Finished Training. Best Test Loss: 1.2501, Best Accuracy: 54.71%\n"
          ]
        }
      ],
      "source": [
        "model_path = '/content/assignment3/assignment3/assignment3_part1/resnet18_finetune_classification_task_best_model.pth'\n",
        "\n",
        "train(net, criterion, optimizer, num_epochs=20, decay_epochs=10, init_lr=0.01, task='classification', trainloader=trainloader, testloader=testloader, model_path=model_path)"
      ]
    },
    {
      "cell_type": "markdown",
      "metadata": {
        "id": "MHppgGq4-WcL"
      },
      "source": [
        "# Fine-tuning on the randomly initialized model\n",
        "### In this section, we will randomly initialize a ResNet18 model and fine-tune on the classification task. We will freeze all previous layers except for the 'layer4' block and 'fc' layer."
      ]
    },
    {
      "cell_type": "code",
      "execution_count": null,
      "metadata": {
        "id": "U8T8Cu8m-YN-"
      },
      "outputs": [],
      "source": [
        "model = resnet18(pretrained=False)\n",
        "\n",
        "num_ftrs = model.fc.in_features\n",
        "model.fc = nn.Linear(num_ftrs, 10)\n",
        "\n",
        "for param in model.parameters():\n",
        "    param.requires_grad = False\n",
        "\n",
        "for param in model.layer4.parameters():\n",
        "    param.requires_grad = True\n",
        "\n",
        "for param in model.fc.parameters():\n",
        "    param.requires_grad = True\n",
        "\n",
        "\n",
        "model = model.to(device)"
      ]
    },
    {
      "cell_type": "code",
      "execution_count": null,
      "metadata": {
        "colab": {
          "base_uri": "https://localhost:8080/"
        },
        "id": "GplcAgeD-zVh",
        "outputId": "0d054737-f44e-4007-e7bd-1441a356f123"
      },
      "outputs": [
        {
          "name": "stdout",
          "output_type": "stream",
          "text": [
            "Params to learn:\n",
            "\t layer4.0.conv1.weight\n",
            "\t layer4.0.bn1.weight\n",
            "\t layer4.0.bn1.bias\n",
            "\t layer4.0.conv2.weight\n",
            "\t layer4.0.bn2.weight\n",
            "\t layer4.0.bn2.bias\n",
            "\t layer4.0.downsample.0.weight\n",
            "\t layer4.0.downsample.1.weight\n",
            "\t layer4.0.downsample.1.bias\n",
            "\t layer4.1.conv1.weight\n",
            "\t layer4.1.bn1.weight\n",
            "\t layer4.1.bn1.bias\n",
            "\t layer4.1.conv2.weight\n",
            "\t layer4.1.bn2.weight\n",
            "\t layer4.1.bn2.bias\n",
            "\t fc.weight\n",
            "\t fc.bias\n"
          ]
        }
      ],
      "source": [
        "# Print all the trainable parameters\n",
        "params_to_update = model.parameters()\n",
        "print(\"Params to learn:\")\n",
        "params_to_update = []\n",
        "for name,param in model.named_parameters():\n",
        "    if param.requires_grad == True:\n",
        "        params_to_update.append(param)\n",
        "        print(\"\\t\",name)"
      ]
    },
    {
      "cell_type": "code",
      "execution_count": null,
      "metadata": {
        "id": "H5EXgQsX-2Aj"
      },
      "outputs": [],
      "source": [
        "criterion = nn.CrossEntropyLoss()\n",
        "optimizer = torch.optim.AdamW(filter(lambda p: p.requires_grad, model.parameters()), lr=0.01, weight_decay=1e-1)"
      ]
    },
    {
      "cell_type": "code",
      "execution_count": null,
      "metadata": {
        "colab": {
          "base_uri": "https://localhost:8080/"
        },
        "id": "1RxaKpcn-6XX",
        "outputId": "865b5dd4-2a1b-4e02-8645-c84ceb578ba7"
      },
      "outputs": [
        {
          "name": "stderr",
          "output_type": "stream",
          "text": [
            "Epoch 1/20: 100%|██████████| 391/391 [00:11<00:00, 35.38batch/s]"
          ]
        },
        {
          "name": "stdout",
          "output_type": "stream",
          "text": [
            "\n",
            "Epoch 1 finished: Avg. Loss: 1.940, Avg. Acc.: 30.77%, Time: 11.06s\n"
          ]
        },
        {
          "name": "stderr",
          "output_type": "stream",
          "text": [
            "\n"
          ]
        },
        {
          "name": "stdout",
          "output_type": "stream",
          "text": [
            "TESTING:\n",
            "Accuracy of the network on the test images: 35.64 %\n",
            "Average loss on the test images: 1.744\n",
            "New lowest test loss: 1.7439 with accuracy: 35.64%\n"
          ]
        },
        {
          "name": "stderr",
          "output_type": "stream",
          "text": [
            "Epoch 2/20: 100%|██████████| 391/391 [00:11<00:00, 34.66batch/s]"
          ]
        },
        {
          "name": "stdout",
          "output_type": "stream",
          "text": [
            "\n",
            "Epoch 2 finished: Avg. Loss: 1.779, Avg. Acc.: 35.32%, Time: 11.29s\n"
          ]
        },
        {
          "name": "stderr",
          "output_type": "stream",
          "text": [
            "\n"
          ]
        },
        {
          "name": "stdout",
          "output_type": "stream",
          "text": [
            "TESTING:\n",
            "Accuracy of the network on the test images: 38.27 %\n",
            "Average loss on the test images: 1.707\n",
            "New lowest test loss: 1.7074 with accuracy: 38.27%\n"
          ]
        },
        {
          "name": "stderr",
          "output_type": "stream",
          "text": [
            "Epoch 3/20: 100%|██████████| 391/391 [00:11<00:00, 33.87batch/s]"
          ]
        },
        {
          "name": "stdout",
          "output_type": "stream",
          "text": [
            "\n",
            "Epoch 3 finished: Avg. Loss: 1.753, Avg. Acc.: 36.31%, Time: 11.55s\n"
          ]
        },
        {
          "name": "stderr",
          "output_type": "stream",
          "text": [
            "\n"
          ]
        },
        {
          "name": "stdout",
          "output_type": "stream",
          "text": [
            "TESTING:\n",
            "Accuracy of the network on the test images: 37.84 %\n",
            "Average loss on the test images: 1.705\n",
            "New lowest test loss: 1.7054 with accuracy: 37.84%\n"
          ]
        },
        {
          "name": "stderr",
          "output_type": "stream",
          "text": [
            "Epoch 4/20: 100%|██████████| 391/391 [00:11<00:00, 33.48batch/s]"
          ]
        },
        {
          "name": "stdout",
          "output_type": "stream",
          "text": [
            "\n",
            "Epoch 4 finished: Avg. Loss: 1.743, Avg. Acc.: 36.49%, Time: 11.68s\n"
          ]
        },
        {
          "name": "stderr",
          "output_type": "stream",
          "text": [
            "\n"
          ]
        },
        {
          "name": "stdout",
          "output_type": "stream",
          "text": [
            "TESTING:\n",
            "Accuracy of the network on the test images: 39.82 %\n",
            "Average loss on the test images: 1.680\n",
            "New lowest test loss: 1.6801 with accuracy: 39.82%\n"
          ]
        },
        {
          "name": "stderr",
          "output_type": "stream",
          "text": [
            "Epoch 5/20: 100%|██████████| 391/391 [00:11<00:00, 33.61batch/s]"
          ]
        },
        {
          "name": "stdout",
          "output_type": "stream",
          "text": [
            "\n",
            "Epoch 5 finished: Avg. Loss: 1.734, Avg. Acc.: 36.74%, Time: 11.64s\n"
          ]
        },
        {
          "name": "stderr",
          "output_type": "stream",
          "text": [
            "\n"
          ]
        },
        {
          "name": "stdout",
          "output_type": "stream",
          "text": [
            "TESTING:\n",
            "Accuracy of the network on the test images: 38.01 %\n",
            "Average loss on the test images: 1.686\n"
          ]
        },
        {
          "name": "stderr",
          "output_type": "stream",
          "text": [
            "Epoch 6/20: 100%|██████████| 391/391 [00:11<00:00, 33.61batch/s]"
          ]
        },
        {
          "name": "stdout",
          "output_type": "stream",
          "text": [
            "\n",
            "Epoch 6 finished: Avg. Loss: 1.729, Avg. Acc.: 37.15%, Time: 11.64s\n"
          ]
        },
        {
          "name": "stderr",
          "output_type": "stream",
          "text": [
            "\n"
          ]
        },
        {
          "name": "stdout",
          "output_type": "stream",
          "text": [
            "TESTING:\n",
            "Accuracy of the network on the test images: 38.73 %\n",
            "Average loss on the test images: 1.674\n",
            "New lowest test loss: 1.6738 with accuracy: 38.73%\n"
          ]
        },
        {
          "name": "stderr",
          "output_type": "stream",
          "text": [
            "Epoch 7/20: 100%|██████████| 391/391 [00:11<00:00, 32.82batch/s]"
          ]
        },
        {
          "name": "stdout",
          "output_type": "stream",
          "text": [
            "\n",
            "Epoch 7 finished: Avg. Loss: 1.722, Avg. Acc.: 37.68%, Time: 11.92s\n"
          ]
        },
        {
          "name": "stderr",
          "output_type": "stream",
          "text": [
            "\n"
          ]
        },
        {
          "name": "stdout",
          "output_type": "stream",
          "text": [
            "TESTING:\n",
            "Accuracy of the network on the test images: 39.85 %\n",
            "Average loss on the test images: 1.682\n"
          ]
        },
        {
          "name": "stderr",
          "output_type": "stream",
          "text": [
            "Epoch 8/20: 100%|██████████| 391/391 [00:11<00:00, 33.26batch/s]"
          ]
        },
        {
          "name": "stdout",
          "output_type": "stream",
          "text": [
            "\n",
            "Epoch 8 finished: Avg. Loss: 1.719, Avg. Acc.: 37.63%, Time: 11.76s\n"
          ]
        },
        {
          "name": "stderr",
          "output_type": "stream",
          "text": [
            "\n"
          ]
        },
        {
          "name": "stdout",
          "output_type": "stream",
          "text": [
            "TESTING:\n",
            "Accuracy of the network on the test images: 39.67 %\n",
            "Average loss on the test images: 1.670\n",
            "New lowest test loss: 1.6698 with accuracy: 39.67%\n"
          ]
        },
        {
          "name": "stderr",
          "output_type": "stream",
          "text": [
            "Epoch 9/20: 100%|██████████| 391/391 [00:11<00:00, 33.37batch/s]"
          ]
        },
        {
          "name": "stdout",
          "output_type": "stream",
          "text": [
            "\n",
            "Epoch 9 finished: Avg. Loss: 1.717, Avg. Acc.: 37.71%, Time: 11.72s\n"
          ]
        },
        {
          "name": "stderr",
          "output_type": "stream",
          "text": [
            "\n"
          ]
        },
        {
          "name": "stdout",
          "output_type": "stream",
          "text": [
            "TESTING:\n",
            "Accuracy of the network on the test images: 40.25 %\n",
            "Average loss on the test images: 1.656\n",
            "New lowest test loss: 1.6562 with accuracy: 40.25%\n"
          ]
        },
        {
          "name": "stderr",
          "output_type": "stream",
          "text": [
            "Epoch 10/20: 100%|██████████| 391/391 [00:11<00:00, 33.04batch/s]"
          ]
        },
        {
          "name": "stdout",
          "output_type": "stream",
          "text": [
            "\n",
            "Epoch 10 finished: Avg. Loss: 1.714, Avg. Acc.: 37.92%, Time: 11.84s\n"
          ]
        },
        {
          "name": "stderr",
          "output_type": "stream",
          "text": [
            "\n"
          ]
        },
        {
          "name": "stdout",
          "output_type": "stream",
          "text": [
            "TESTING:\n",
            "Accuracy of the network on the test images: 39.52 %\n",
            "Average loss on the test images: 1.659\n"
          ]
        },
        {
          "name": "stderr",
          "output_type": "stream",
          "text": [
            "Epoch 11/20: 100%|██████████| 391/391 [00:11<00:00, 33.35batch/s]"
          ]
        },
        {
          "name": "stdout",
          "output_type": "stream",
          "text": [
            "\n",
            "Epoch 11 finished: Avg. Loss: 1.657, Avg. Acc.: 40.11%, Time: 11.73s\n"
          ]
        },
        {
          "name": "stderr",
          "output_type": "stream",
          "text": [
            "\n"
          ]
        },
        {
          "name": "stdout",
          "output_type": "stream",
          "text": [
            "TESTING:\n",
            "Accuracy of the network on the test images: 43.14 %\n",
            "Average loss on the test images: 1.572\n",
            "New lowest test loss: 1.5720 with accuracy: 43.14%\n"
          ]
        },
        {
          "name": "stderr",
          "output_type": "stream",
          "text": [
            "Epoch 12/20: 100%|██████████| 391/391 [00:11<00:00, 33.39batch/s]"
          ]
        },
        {
          "name": "stdout",
          "output_type": "stream",
          "text": [
            "\n",
            "Epoch 12 finished: Avg. Loss: 1.623, Avg. Acc.: 41.57%, Time: 11.71s\n"
          ]
        },
        {
          "name": "stderr",
          "output_type": "stream",
          "text": [
            "\n"
          ]
        },
        {
          "name": "stdout",
          "output_type": "stream",
          "text": [
            "TESTING:\n",
            "Accuracy of the network on the test images: 44.03 %\n",
            "Average loss on the test images: 1.561\n",
            "New lowest test loss: 1.5612 with accuracy: 44.03%\n"
          ]
        },
        {
          "name": "stderr",
          "output_type": "stream",
          "text": [
            "Epoch 13/20: 100%|██████████| 391/391 [00:11<00:00, 32.98batch/s]"
          ]
        },
        {
          "name": "stdout",
          "output_type": "stream",
          "text": [
            "\n",
            "Epoch 13 finished: Avg. Loss: 1.606, Avg. Acc.: 41.87%, Time: 11.86s\n"
          ]
        },
        {
          "name": "stderr",
          "output_type": "stream",
          "text": [
            "\n"
          ]
        },
        {
          "name": "stdout",
          "output_type": "stream",
          "text": [
            "TESTING:\n",
            "Accuracy of the network on the test images: 44.57 %\n",
            "Average loss on the test images: 1.548\n",
            "New lowest test loss: 1.5475 with accuracy: 44.57%\n"
          ]
        },
        {
          "name": "stderr",
          "output_type": "stream",
          "text": [
            "Epoch 14/20: 100%|██████████| 391/391 [00:11<00:00, 32.98batch/s]"
          ]
        },
        {
          "name": "stdout",
          "output_type": "stream",
          "text": [
            "\n",
            "Epoch 14 finished: Avg. Loss: 1.594, Avg. Acc.: 42.45%, Time: 11.86s\n"
          ]
        },
        {
          "name": "stderr",
          "output_type": "stream",
          "text": [
            "\n"
          ]
        },
        {
          "name": "stdout",
          "output_type": "stream",
          "text": [
            "TESTING:\n",
            "Accuracy of the network on the test images: 44.34 %\n",
            "Average loss on the test images: 1.541\n",
            "New lowest test loss: 1.5413 with accuracy: 44.34%\n"
          ]
        },
        {
          "name": "stderr",
          "output_type": "stream",
          "text": [
            "Epoch 15/20: 100%|██████████| 391/391 [00:11<00:00, 32.95batch/s]"
          ]
        },
        {
          "name": "stdout",
          "output_type": "stream",
          "text": [
            "\n",
            "Epoch 15 finished: Avg. Loss: 1.587, Avg. Acc.: 42.65%, Time: 11.87s\n"
          ]
        },
        {
          "name": "stderr",
          "output_type": "stream",
          "text": [
            "\n"
          ]
        },
        {
          "name": "stdout",
          "output_type": "stream",
          "text": [
            "TESTING:\n",
            "Accuracy of the network on the test images: 44.94 %\n",
            "Average loss on the test images: 1.537\n",
            "New lowest test loss: 1.5370 with accuracy: 44.94%\n"
          ]
        },
        {
          "name": "stderr",
          "output_type": "stream",
          "text": [
            "Epoch 16/20: 100%|██████████| 391/391 [00:11<00:00, 33.23batch/s]"
          ]
        },
        {
          "name": "stdout",
          "output_type": "stream",
          "text": [
            "\n",
            "Epoch 16 finished: Avg. Loss: 1.587, Avg. Acc.: 42.73%, Time: 11.77s\n"
          ]
        },
        {
          "name": "stderr",
          "output_type": "stream",
          "text": [
            "\n"
          ]
        },
        {
          "name": "stdout",
          "output_type": "stream",
          "text": [
            "TESTING:\n",
            "Accuracy of the network on the test images: 45.23 %\n",
            "Average loss on the test images: 1.534\n",
            "New lowest test loss: 1.5337 with accuracy: 45.23%\n"
          ]
        },
        {
          "name": "stderr",
          "output_type": "stream",
          "text": [
            "Epoch 17/20: 100%|██████████| 391/391 [00:11<00:00, 32.95batch/s]"
          ]
        },
        {
          "name": "stdout",
          "output_type": "stream",
          "text": [
            "\n",
            "Epoch 17 finished: Avg. Loss: 1.575, Avg. Acc.: 43.22%, Time: 11.87s\n"
          ]
        },
        {
          "name": "stderr",
          "output_type": "stream",
          "text": [
            "\n"
          ]
        },
        {
          "name": "stdout",
          "output_type": "stream",
          "text": [
            "TESTING:\n",
            "Accuracy of the network on the test images: 45.24 %\n",
            "Average loss on the test images: 1.529\n",
            "New lowest test loss: 1.5289 with accuracy: 45.24%\n"
          ]
        },
        {
          "name": "stderr",
          "output_type": "stream",
          "text": [
            "Epoch 18/20: 100%|██████████| 391/391 [00:11<00:00, 32.91batch/s]"
          ]
        },
        {
          "name": "stdout",
          "output_type": "stream",
          "text": [
            "\n",
            "Epoch 18 finished: Avg. Loss: 1.570, Avg. Acc.: 43.46%, Time: 11.89s\n"
          ]
        },
        {
          "name": "stderr",
          "output_type": "stream",
          "text": [
            "\n"
          ]
        },
        {
          "name": "stdout",
          "output_type": "stream",
          "text": [
            "TESTING:\n",
            "Accuracy of the network on the test images: 45.28 %\n",
            "Average loss on the test images: 1.522\n",
            "New lowest test loss: 1.5216 with accuracy: 45.28%\n"
          ]
        },
        {
          "name": "stderr",
          "output_type": "stream",
          "text": [
            "Epoch 19/20: 100%|██████████| 391/391 [00:11<00:00, 33.35batch/s]"
          ]
        },
        {
          "name": "stdout",
          "output_type": "stream",
          "text": [
            "\n",
            "Epoch 19 finished: Avg. Loss: 1.565, Avg. Acc.: 43.79%, Time: 11.73s\n"
          ]
        },
        {
          "name": "stderr",
          "output_type": "stream",
          "text": [
            "\n"
          ]
        },
        {
          "name": "stdout",
          "output_type": "stream",
          "text": [
            "TESTING:\n",
            "Accuracy of the network on the test images: 45.54 %\n",
            "Average loss on the test images: 1.524\n"
          ]
        },
        {
          "name": "stderr",
          "output_type": "stream",
          "text": [
            "Epoch 20/20: 100%|██████████| 391/391 [00:11<00:00, 32.60batch/s]"
          ]
        },
        {
          "name": "stdout",
          "output_type": "stream",
          "text": [
            "\n",
            "Epoch 20 finished: Avg. Loss: 1.558, Avg. Acc.: 43.97%, Time: 12.00s\n"
          ]
        },
        {
          "name": "stderr",
          "output_type": "stream",
          "text": [
            "\n"
          ]
        },
        {
          "name": "stdout",
          "output_type": "stream",
          "text": [
            "TESTING:\n",
            "Accuracy of the network on the test images: 45.68 %\n",
            "Average loss on the test images: 1.518\n",
            "New lowest test loss: 1.5175 with accuracy: 45.68%\n",
            "Finished Training. Best Test Loss: 1.5175, Best Accuracy: 45.68%\n"
          ]
        }
      ],
      "source": [
        "model_path = '/content/assignment3/assignment3/assignment3_part1/resnet18_random_classification_task_best_model.pth'\n",
        "\n",
        "train(model, criterion, optimizer, num_epochs=20, decay_epochs=10, init_lr=0.01, task='classification', trainloader=trainloader, testloader=testloader, model_path=model_path)"
      ]
    },
    {
      "cell_type": "markdown",
      "metadata": {
        "id": "H-ligSYXAGcl"
      },
      "source": [
        "# Supervised training on the pre-trained model\n",
        "### In this section, we will load the pre-trained ResNet18 model and re-train the whole model on the classification task."
      ]
    },
    {
      "cell_type": "code",
      "execution_count": null,
      "metadata": {
        "id": "oVyZwAO1DFLC"
      },
      "outputs": [],
      "source": [
        "from typing_extensions import NewType\n",
        "import torch.nn as nn\n",
        "import torch.nn.functional as F\n",
        "\n",
        "from torchvision.models import resnet18\n",
        "\n",
        "path = '/content/assignment3/assignment3/assignment3_part1/resnet18_rotation_task_best_model.pth'\n",
        "\n",
        "net = resnet18(pretrained=False)\n",
        "pretrained_dict = torch.load(path)\n",
        "\n",
        "num_ftrs = net.fc.in_features\n",
        "NewType.fc = nn.Linear(num_ftrs, 10)\n",
        "\n",
        "net = net.to(device)"
      ]
    },
    {
      "cell_type": "code",
      "execution_count": null,
      "metadata": {
        "colab": {
          "base_uri": "https://localhost:8080/"
        },
        "id": "zdIn9Qw6DL8-",
        "outputId": "4409d608-2ac8-418e-a85e-5d7f245952c6"
      },
      "outputs": [
        {
          "name": "stdout",
          "output_type": "stream",
          "text": [
            "Params to learn:\n",
            "\t conv1.weight\n",
            "\t bn1.weight\n",
            "\t bn1.bias\n",
            "\t layer1.0.conv1.weight\n",
            "\t layer1.0.bn1.weight\n",
            "\t layer1.0.bn1.bias\n",
            "\t layer1.0.conv2.weight\n",
            "\t layer1.0.bn2.weight\n",
            "\t layer1.0.bn2.bias\n",
            "\t layer1.1.conv1.weight\n",
            "\t layer1.1.bn1.weight\n",
            "\t layer1.1.bn1.bias\n",
            "\t layer1.1.conv2.weight\n",
            "\t layer1.1.bn2.weight\n",
            "\t layer1.1.bn2.bias\n",
            "\t layer2.0.conv1.weight\n",
            "\t layer2.0.bn1.weight\n",
            "\t layer2.0.bn1.bias\n",
            "\t layer2.0.conv2.weight\n",
            "\t layer2.0.bn2.weight\n",
            "\t layer2.0.bn2.bias\n",
            "\t layer2.0.downsample.0.weight\n",
            "\t layer2.0.downsample.1.weight\n",
            "\t layer2.0.downsample.1.bias\n",
            "\t layer2.1.conv1.weight\n",
            "\t layer2.1.bn1.weight\n",
            "\t layer2.1.bn1.bias\n",
            "\t layer2.1.conv2.weight\n",
            "\t layer2.1.bn2.weight\n",
            "\t layer2.1.bn2.bias\n",
            "\t layer3.0.conv1.weight\n",
            "\t layer3.0.bn1.weight\n",
            "\t layer3.0.bn1.bias\n",
            "\t layer3.0.conv2.weight\n",
            "\t layer3.0.bn2.weight\n",
            "\t layer3.0.bn2.bias\n",
            "\t layer3.0.downsample.0.weight\n",
            "\t layer3.0.downsample.1.weight\n",
            "\t layer3.0.downsample.1.bias\n",
            "\t layer3.1.conv1.weight\n",
            "\t layer3.1.bn1.weight\n",
            "\t layer3.1.bn1.bias\n",
            "\t layer3.1.conv2.weight\n",
            "\t layer3.1.bn2.weight\n",
            "\t layer3.1.bn2.bias\n",
            "\t layer4.0.conv1.weight\n",
            "\t layer4.0.bn1.weight\n",
            "\t layer4.0.bn1.bias\n",
            "\t layer4.0.conv2.weight\n",
            "\t layer4.0.bn2.weight\n",
            "\t layer4.0.bn2.bias\n",
            "\t layer4.0.downsample.0.weight\n",
            "\t layer4.0.downsample.1.weight\n",
            "\t layer4.0.downsample.1.bias\n",
            "\t layer4.1.conv1.weight\n",
            "\t layer4.1.bn1.weight\n",
            "\t layer4.1.bn1.bias\n",
            "\t layer4.1.conv2.weight\n",
            "\t layer4.1.bn2.weight\n",
            "\t layer4.1.bn2.bias\n",
            "\t fc.weight\n",
            "\t fc.bias\n"
          ]
        }
      ],
      "source": [
        "# Print all the trainable parameters\n",
        "params_to_update = net.parameters()\n",
        "print(\"Params to learn:\")\n",
        "params_to_update = []\n",
        "for name,param in net.named_parameters():\n",
        "    if param.requires_grad == True:\n",
        "        params_to_update.append(param)\n",
        "        print(\"\\t\",name)"
      ]
    },
    {
      "cell_type": "code",
      "execution_count": null,
      "metadata": {
        "id": "kltzyCk8DQmP"
      },
      "outputs": [],
      "source": [
        "criterion = nn.CrossEntropyLoss()\n",
        "optimizer = torch.optim.AdamW(net.parameters(), lr=0.01, weight_decay=1e-1)"
      ]
    },
    {
      "cell_type": "code",
      "execution_count": null,
      "metadata": {
        "colab": {
          "base_uri": "https://localhost:8080/"
        },
        "id": "wOHd4TLUDWaH",
        "outputId": "b393a991-d61b-48c2-e8d7-7aab8eed6c75"
      },
      "outputs": [
        {
          "name": "stderr",
          "output_type": "stream",
          "text": [
            "Epoch 1/20: 100%|██████████| 391/391 [00:12<00:00, 32.03batch/s]"
          ]
        },
        {
          "name": "stdout",
          "output_type": "stream",
          "text": [
            "\n",
            "Epoch 1 finished: Avg. Loss: 1.816, Avg. Acc.: 35.02%, Time: 12.21s\n"
          ]
        },
        {
          "name": "stderr",
          "output_type": "stream",
          "text": [
            "\n"
          ]
        },
        {
          "name": "stdout",
          "output_type": "stream",
          "text": [
            "TESTING:\n",
            "Accuracy of the network on the test images: 38.63 %\n",
            "Average loss on the test images: 1.786\n",
            "New lowest test loss: 1.7858 with accuracy: 38.63%\n"
          ]
        },
        {
          "name": "stderr",
          "output_type": "stream",
          "text": [
            "Epoch 2/20: 100%|██████████| 391/391 [00:12<00:00, 31.92batch/s]"
          ]
        },
        {
          "name": "stdout",
          "output_type": "stream",
          "text": [
            "\n",
            "Epoch 2 finished: Avg. Loss: 1.390, Avg. Acc.: 49.79%, Time: 12.25s\n"
          ]
        },
        {
          "name": "stderr",
          "output_type": "stream",
          "text": [
            "\n"
          ]
        },
        {
          "name": "stdout",
          "output_type": "stream",
          "text": [
            "TESTING:\n",
            "Accuracy of the network on the test images: 54.72 %\n",
            "Average loss on the test images: 1.266\n",
            "New lowest test loss: 1.2655 with accuracy: 54.72%\n"
          ]
        },
        {
          "name": "stderr",
          "output_type": "stream",
          "text": [
            "Epoch 3/20: 100%|██████████| 391/391 [00:12<00:00, 31.81batch/s]"
          ]
        },
        {
          "name": "stdout",
          "output_type": "stream",
          "text": [
            "\n",
            "Epoch 3 finished: Avg. Loss: 1.195, Avg. Acc.: 57.65%, Time: 12.30s\n"
          ]
        },
        {
          "name": "stderr",
          "output_type": "stream",
          "text": [
            "\n"
          ]
        },
        {
          "name": "stdout",
          "output_type": "stream",
          "text": [
            "TESTING:\n",
            "Accuracy of the network on the test images: 57.63 %\n",
            "Average loss on the test images: 1.232\n",
            "New lowest test loss: 1.2318 with accuracy: 57.63%\n"
          ]
        },
        {
          "name": "stderr",
          "output_type": "stream",
          "text": [
            "Epoch 4/20: 100%|██████████| 391/391 [00:11<00:00, 32.68batch/s]"
          ]
        },
        {
          "name": "stdout",
          "output_type": "stream",
          "text": [
            "\n",
            "Epoch 4 finished: Avg. Loss: 1.100, Avg. Acc.: 61.36%, Time: 11.97s\n"
          ]
        },
        {
          "name": "stderr",
          "output_type": "stream",
          "text": [
            "\n"
          ]
        },
        {
          "name": "stdout",
          "output_type": "stream",
          "text": [
            "TESTING:\n",
            "Accuracy of the network on the test images: 58.30 %\n",
            "Average loss on the test images: 1.200\n",
            "New lowest test loss: 1.2000 with accuracy: 58.30%\n"
          ]
        },
        {
          "name": "stderr",
          "output_type": "stream",
          "text": [
            "Epoch 5/20: 100%|██████████| 391/391 [00:12<00:00, 32.19batch/s]"
          ]
        },
        {
          "name": "stdout",
          "output_type": "stream",
          "text": [
            "\n",
            "Epoch 5 finished: Avg. Loss: 1.035, Avg. Acc.: 63.94%, Time: 12.15s\n"
          ]
        },
        {
          "name": "stderr",
          "output_type": "stream",
          "text": [
            "\n"
          ]
        },
        {
          "name": "stdout",
          "output_type": "stream",
          "text": [
            "TESTING:\n",
            "Accuracy of the network on the test images: 62.50 %\n",
            "Average loss on the test images: 1.108\n",
            "New lowest test loss: 1.1076 with accuracy: 62.50%\n"
          ]
        },
        {
          "name": "stderr",
          "output_type": "stream",
          "text": [
            "Epoch 6/20: 100%|██████████| 391/391 [00:12<00:00, 32.20batch/s]"
          ]
        },
        {
          "name": "stdout",
          "output_type": "stream",
          "text": [
            "\n",
            "Epoch 6 finished: Avg. Loss: 0.978, Avg. Acc.: 66.03%, Time: 12.15s\n"
          ]
        },
        {
          "name": "stderr",
          "output_type": "stream",
          "text": [
            "\n"
          ]
        },
        {
          "name": "stdout",
          "output_type": "stream",
          "text": [
            "TESTING:\n",
            "Accuracy of the network on the test images: 62.13 %\n",
            "Average loss on the test images: 1.152\n"
          ]
        },
        {
          "name": "stderr",
          "output_type": "stream",
          "text": [
            "Epoch 7/20: 100%|██████████| 391/391 [00:12<00:00, 32.33batch/s]"
          ]
        },
        {
          "name": "stdout",
          "output_type": "stream",
          "text": [
            "\n",
            "Epoch 7 finished: Avg. Loss: 0.949, Avg. Acc.: 67.07%, Time: 12.10s\n"
          ]
        },
        {
          "name": "stderr",
          "output_type": "stream",
          "text": [
            "\n"
          ]
        },
        {
          "name": "stdout",
          "output_type": "stream",
          "text": [
            "TESTING:\n",
            "Accuracy of the network on the test images: 65.92 %\n",
            "Average loss on the test images: 1.011\n",
            "New lowest test loss: 1.0113 with accuracy: 65.92%\n"
          ]
        },
        {
          "name": "stderr",
          "output_type": "stream",
          "text": [
            "Epoch 8/20: 100%|██████████| 391/391 [00:12<00:00, 32.19batch/s]"
          ]
        },
        {
          "name": "stdout",
          "output_type": "stream",
          "text": [
            "\n",
            "Epoch 8 finished: Avg. Loss: 0.930, Avg. Acc.: 67.83%, Time: 12.15s\n"
          ]
        },
        {
          "name": "stderr",
          "output_type": "stream",
          "text": [
            "\n"
          ]
        },
        {
          "name": "stdout",
          "output_type": "stream",
          "text": [
            "TESTING:\n",
            "Accuracy of the network on the test images: 64.62 %\n",
            "Average loss on the test images: 1.012\n"
          ]
        },
        {
          "name": "stderr",
          "output_type": "stream",
          "text": [
            "Epoch 9/20: 100%|██████████| 391/391 [00:12<00:00, 32.05batch/s]"
          ]
        },
        {
          "name": "stdout",
          "output_type": "stream",
          "text": [
            "\n",
            "Epoch 9 finished: Avg. Loss: 0.909, Avg. Acc.: 68.67%, Time: 12.21s\n"
          ]
        },
        {
          "name": "stderr",
          "output_type": "stream",
          "text": [
            "\n"
          ]
        },
        {
          "name": "stdout",
          "output_type": "stream",
          "text": [
            "TESTING:\n",
            "Accuracy of the network on the test images: 69.88 %\n",
            "Average loss on the test images: 0.872\n",
            "New lowest test loss: 0.8722 with accuracy: 69.88%\n"
          ]
        },
        {
          "name": "stderr",
          "output_type": "stream",
          "text": [
            "Epoch 10/20: 100%|██████████| 391/391 [00:11<00:00, 32.93batch/s]"
          ]
        },
        {
          "name": "stdout",
          "output_type": "stream",
          "text": [
            "\n",
            "Epoch 10 finished: Avg. Loss: 0.900, Avg. Acc.: 68.85%, Time: 11.88s\n"
          ]
        },
        {
          "name": "stderr",
          "output_type": "stream",
          "text": [
            "\n"
          ]
        },
        {
          "name": "stdout",
          "output_type": "stream",
          "text": [
            "TESTING:\n",
            "Accuracy of the network on the test images: 70.08 %\n",
            "Average loss on the test images: 0.875\n"
          ]
        },
        {
          "name": "stderr",
          "output_type": "stream",
          "text": [
            "Epoch 11/20: 100%|██████████| 391/391 [00:11<00:00, 33.66batch/s]"
          ]
        },
        {
          "name": "stdout",
          "output_type": "stream",
          "text": [
            "\n",
            "Epoch 11 finished: Avg. Loss: 0.666, Avg. Acc.: 76.99%, Time: 11.62s\n"
          ]
        },
        {
          "name": "stderr",
          "output_type": "stream",
          "text": [
            "\n"
          ]
        },
        {
          "name": "stdout",
          "output_type": "stream",
          "text": [
            "TESTING:\n",
            "Accuracy of the network on the test images: 78.23 %\n",
            "Average loss on the test images: 0.619\n",
            "New lowest test loss: 0.6189 with accuracy: 78.23%\n"
          ]
        },
        {
          "name": "stderr",
          "output_type": "stream",
          "text": [
            "Epoch 12/20: 100%|██████████| 391/391 [00:11<00:00, 33.41batch/s]"
          ]
        },
        {
          "name": "stdout",
          "output_type": "stream",
          "text": [
            "\n",
            "Epoch 12 finished: Avg. Loss: 0.597, Avg. Acc.: 79.52%, Time: 11.71s\n"
          ]
        },
        {
          "name": "stderr",
          "output_type": "stream",
          "text": [
            "\n"
          ]
        },
        {
          "name": "stdout",
          "output_type": "stream",
          "text": [
            "TESTING:\n",
            "Accuracy of the network on the test images: 79.22 %\n",
            "Average loss on the test images: 0.590\n",
            "New lowest test loss: 0.5901 with accuracy: 79.22%\n"
          ]
        },
        {
          "name": "stderr",
          "output_type": "stream",
          "text": [
            "Epoch 13/20: 100%|██████████| 391/391 [00:11<00:00, 33.13batch/s]"
          ]
        },
        {
          "name": "stdout",
          "output_type": "stream",
          "text": [
            "\n",
            "Epoch 13 finished: Avg. Loss: 0.566, Avg. Acc.: 80.35%, Time: 11.81s\n"
          ]
        },
        {
          "name": "stderr",
          "output_type": "stream",
          "text": [
            "\n"
          ]
        },
        {
          "name": "stdout",
          "output_type": "stream",
          "text": [
            "TESTING:\n",
            "Accuracy of the network on the test images: 80.31 %\n",
            "Average loss on the test images: 0.580\n",
            "New lowest test loss: 0.5805 with accuracy: 80.31%\n"
          ]
        },
        {
          "name": "stderr",
          "output_type": "stream",
          "text": [
            "Epoch 14/20: 100%|██████████| 391/391 [00:11<00:00, 33.13batch/s]"
          ]
        },
        {
          "name": "stdout",
          "output_type": "stream",
          "text": [
            "\n",
            "Epoch 14 finished: Avg. Loss: 0.542, Avg. Acc.: 81.14%, Time: 11.81s\n"
          ]
        },
        {
          "name": "stderr",
          "output_type": "stream",
          "text": [
            "\n"
          ]
        },
        {
          "name": "stdout",
          "output_type": "stream",
          "text": [
            "TESTING:\n",
            "Accuracy of the network on the test images: 80.76 %\n",
            "Average loss on the test images: 0.557\n",
            "New lowest test loss: 0.5571 with accuracy: 80.76%\n"
          ]
        },
        {
          "name": "stderr",
          "output_type": "stream",
          "text": [
            "Epoch 15/20: 100%|██████████| 391/391 [00:11<00:00, 32.85batch/s]"
          ]
        },
        {
          "name": "stdout",
          "output_type": "stream",
          "text": [
            "\n",
            "Epoch 15 finished: Avg. Loss: 0.525, Avg. Acc.: 82.00%, Time: 11.91s\n"
          ]
        },
        {
          "name": "stderr",
          "output_type": "stream",
          "text": [
            "\n"
          ]
        },
        {
          "name": "stdout",
          "output_type": "stream",
          "text": [
            "TESTING:\n",
            "Accuracy of the network on the test images: 80.64 %\n",
            "Average loss on the test images: 0.553\n",
            "New lowest test loss: 0.5527 with accuracy: 80.64%\n"
          ]
        },
        {
          "name": "stderr",
          "output_type": "stream",
          "text": [
            "Epoch 16/20: 100%|██████████| 391/391 [00:11<00:00, 33.37batch/s]"
          ]
        },
        {
          "name": "stdout",
          "output_type": "stream",
          "text": [
            "\n",
            "Epoch 16 finished: Avg. Loss: 0.509, Avg. Acc.: 82.33%, Time: 11.72s\n"
          ]
        },
        {
          "name": "stderr",
          "output_type": "stream",
          "text": [
            "\n"
          ]
        },
        {
          "name": "stdout",
          "output_type": "stream",
          "text": [
            "TESTING:\n",
            "Accuracy of the network on the test images: 81.42 %\n",
            "Average loss on the test images: 0.542\n",
            "New lowest test loss: 0.5423 with accuracy: 81.42%\n"
          ]
        },
        {
          "name": "stderr",
          "output_type": "stream",
          "text": [
            "Epoch 17/20: 100%|██████████| 391/391 [00:11<00:00, 33.15batch/s]"
          ]
        },
        {
          "name": "stdout",
          "output_type": "stream",
          "text": [
            "\n",
            "Epoch 17 finished: Avg. Loss: 0.492, Avg. Acc.: 83.11%, Time: 11.80s\n"
          ]
        },
        {
          "name": "stderr",
          "output_type": "stream",
          "text": [
            "\n"
          ]
        },
        {
          "name": "stdout",
          "output_type": "stream",
          "text": [
            "TESTING:\n",
            "Accuracy of the network on the test images: 81.94 %\n",
            "Average loss on the test images: 0.525\n",
            "New lowest test loss: 0.5246 with accuracy: 81.94%\n"
          ]
        },
        {
          "name": "stderr",
          "output_type": "stream",
          "text": [
            "Epoch 18/20: 100%|██████████| 391/391 [00:11<00:00, 32.84batch/s]"
          ]
        },
        {
          "name": "stdout",
          "output_type": "stream",
          "text": [
            "\n",
            "Epoch 18 finished: Avg. Loss: 0.478, Avg. Acc.: 83.38%, Time: 11.91s\n"
          ]
        },
        {
          "name": "stderr",
          "output_type": "stream",
          "text": [
            "\n"
          ]
        },
        {
          "name": "stdout",
          "output_type": "stream",
          "text": [
            "TESTING:\n",
            "Accuracy of the network on the test images: 81.11 %\n",
            "Average loss on the test images: 0.548\n"
          ]
        },
        {
          "name": "stderr",
          "output_type": "stream",
          "text": [
            "Epoch 19/20: 100%|██████████| 391/391 [00:12<00:00, 32.55batch/s]"
          ]
        },
        {
          "name": "stdout",
          "output_type": "stream",
          "text": [
            "\n",
            "Epoch 19 finished: Avg. Loss: 0.471, Avg. Acc.: 83.64%, Time: 12.02s\n"
          ]
        },
        {
          "name": "stderr",
          "output_type": "stream",
          "text": [
            "\n"
          ]
        },
        {
          "name": "stdout",
          "output_type": "stream",
          "text": [
            "TESTING:\n",
            "Accuracy of the network on the test images: 81.74 %\n",
            "Average loss on the test images: 0.531\n"
          ]
        },
        {
          "name": "stderr",
          "output_type": "stream",
          "text": [
            "Epoch 20/20: 100%|██████████| 391/391 [00:11<00:00, 33.34batch/s]"
          ]
        },
        {
          "name": "stdout",
          "output_type": "stream",
          "text": [
            "\n",
            "Epoch 20 finished: Avg. Loss: 0.458, Avg. Acc.: 84.21%, Time: 11.73s\n"
          ]
        },
        {
          "name": "stderr",
          "output_type": "stream",
          "text": [
            "\n"
          ]
        },
        {
          "name": "stdout",
          "output_type": "stream",
          "text": [
            "TESTING:\n",
            "Accuracy of the network on the test images: 81.12 %\n",
            "Average loss on the test images: 0.548\n",
            "Finished Training. Best Test Loss: 0.5246, Best Accuracy: 81.94%\n"
          ]
        }
      ],
      "source": [
        "model_path = '/content/assignment3/assignment3/assignment3_part1/resnet18_finetune_full_classification_task_best_model.pth'\n",
        "\n",
        "train(net, criterion, optimizer, num_epochs=20, decay_epochs=10, init_lr=0.01, task='classification', trainloader=trainloader, testloader=testloader, model_path=model_path)"
      ]
    },
    {
      "cell_type": "markdown",
      "metadata": {
        "id": "CYWhqty9AJIZ"
      },
      "source": [
        "# Supervised training on the randomly initialized model\n",
        "### In this section, we will randomly initialize a ResNet18 model and re-train the whole model on the classification task."
      ]
    },
    {
      "cell_type": "code",
      "execution_count": null,
      "metadata": {
        "id": "m78CcfhvDauz"
      },
      "outputs": [],
      "source": [
        "model = resnet18(pretrained=False)\n",
        "\n",
        "num_ftrs = model.fc.in_features\n",
        "model.fc = nn.Linear(num_ftrs, 10)\n",
        "\n",
        "model = model.to(device)"
      ]
    },
    {
      "cell_type": "code",
      "execution_count": null,
      "metadata": {
        "colab": {
          "base_uri": "https://localhost:8080/"
        },
        "id": "sl_GqbIdDgmV",
        "outputId": "62e03bae-8d80-4a10-feae-52634bbc91b3"
      },
      "outputs": [
        {
          "name": "stdout",
          "output_type": "stream",
          "text": [
            "Params to learn:\n",
            "\t conv1.weight\n",
            "\t bn1.weight\n",
            "\t bn1.bias\n",
            "\t layer1.0.conv1.weight\n",
            "\t layer1.0.bn1.weight\n",
            "\t layer1.0.bn1.bias\n",
            "\t layer1.0.conv2.weight\n",
            "\t layer1.0.bn2.weight\n",
            "\t layer1.0.bn2.bias\n",
            "\t layer1.1.conv1.weight\n",
            "\t layer1.1.bn1.weight\n",
            "\t layer1.1.bn1.bias\n",
            "\t layer1.1.conv2.weight\n",
            "\t layer1.1.bn2.weight\n",
            "\t layer1.1.bn2.bias\n",
            "\t layer2.0.conv1.weight\n",
            "\t layer2.0.bn1.weight\n",
            "\t layer2.0.bn1.bias\n",
            "\t layer2.0.conv2.weight\n",
            "\t layer2.0.bn2.weight\n",
            "\t layer2.0.bn2.bias\n",
            "\t layer2.0.downsample.0.weight\n",
            "\t layer2.0.downsample.1.weight\n",
            "\t layer2.0.downsample.1.bias\n",
            "\t layer2.1.conv1.weight\n",
            "\t layer2.1.bn1.weight\n",
            "\t layer2.1.bn1.bias\n",
            "\t layer2.1.conv2.weight\n",
            "\t layer2.1.bn2.weight\n",
            "\t layer2.1.bn2.bias\n",
            "\t layer3.0.conv1.weight\n",
            "\t layer3.0.bn1.weight\n",
            "\t layer3.0.bn1.bias\n",
            "\t layer3.0.conv2.weight\n",
            "\t layer3.0.bn2.weight\n",
            "\t layer3.0.bn2.bias\n",
            "\t layer3.0.downsample.0.weight\n",
            "\t layer3.0.downsample.1.weight\n",
            "\t layer3.0.downsample.1.bias\n",
            "\t layer3.1.conv1.weight\n",
            "\t layer3.1.bn1.weight\n",
            "\t layer3.1.bn1.bias\n",
            "\t layer3.1.conv2.weight\n",
            "\t layer3.1.bn2.weight\n",
            "\t layer3.1.bn2.bias\n",
            "\t layer4.0.conv1.weight\n",
            "\t layer4.0.bn1.weight\n",
            "\t layer4.0.bn1.bias\n",
            "\t layer4.0.conv2.weight\n",
            "\t layer4.0.bn2.weight\n",
            "\t layer4.0.bn2.bias\n",
            "\t layer4.0.downsample.0.weight\n",
            "\t layer4.0.downsample.1.weight\n",
            "\t layer4.0.downsample.1.bias\n",
            "\t layer4.1.conv1.weight\n",
            "\t layer4.1.bn1.weight\n",
            "\t layer4.1.bn1.bias\n",
            "\t layer4.1.conv2.weight\n",
            "\t layer4.1.bn2.weight\n",
            "\t layer4.1.bn2.bias\n",
            "\t fc.weight\n",
            "\t fc.bias\n"
          ]
        }
      ],
      "source": [
        "# Print all the trainable parameters\n",
        "params_to_update = model.parameters()\n",
        "print(\"Params to learn:\")\n",
        "params_to_update = []\n",
        "for name,param in model.named_parameters():\n",
        "    if param.requires_grad == True:\n",
        "        params_to_update.append(param)\n",
        "        print(\"\\t\",name)"
      ]
    },
    {
      "cell_type": "code",
      "execution_count": null,
      "metadata": {
        "id": "CNaan_6uDj2A"
      },
      "outputs": [],
      "source": [
        "criterion = nn.CrossEntropyLoss()\n",
        "optimizer = torch.optim.AdamW(model.parameters(), lr=0.01, weight_decay=1e-1)"
      ]
    },
    {
      "cell_type": "code",
      "execution_count": null,
      "metadata": {
        "colab": {
          "base_uri": "https://localhost:8080/"
        },
        "id": "5bEsaNDnDoKh",
        "outputId": "dfb89a6f-4ad4-4e4b-df22-cfb5da014e7d"
      },
      "outputs": [
        {
          "name": "stderr",
          "output_type": "stream",
          "text": [
            "Epoch 1/20: 100%|██████████| 391/391 [00:11<00:00, 32.66batch/s]"
          ]
        },
        {
          "name": "stdout",
          "output_type": "stream",
          "text": [
            "\n",
            "Epoch 1 finished: Avg. Loss: 1.857, Avg. Acc.: 32.91%, Time: 11.98s\n"
          ]
        },
        {
          "name": "stderr",
          "output_type": "stream",
          "text": [
            "\n"
          ]
        },
        {
          "name": "stdout",
          "output_type": "stream",
          "text": [
            "TESTING:\n",
            "Accuracy of the network on the test images: 43.11 %\n",
            "Average loss on the test images: 1.552\n",
            "New lowest test loss: 1.5517 with accuracy: 43.11%\n"
          ]
        },
        {
          "name": "stderr",
          "output_type": "stream",
          "text": [
            "Epoch 2/20: 100%|██████████| 391/391 [00:11<00:00, 32.82batch/s]"
          ]
        },
        {
          "name": "stdout",
          "output_type": "stream",
          "text": [
            "\n",
            "Epoch 2 finished: Avg. Loss: 1.428, Avg. Acc.: 47.76%, Time: 11.92s\n"
          ]
        },
        {
          "name": "stderr",
          "output_type": "stream",
          "text": [
            "\n"
          ]
        },
        {
          "name": "stdout",
          "output_type": "stream",
          "text": [
            "TESTING:\n",
            "Accuracy of the network on the test images: 45.54 %\n",
            "Average loss on the test images: 1.582\n"
          ]
        },
        {
          "name": "stderr",
          "output_type": "stream",
          "text": [
            "Epoch 3/20: 100%|██████████| 391/391 [00:11<00:00, 32.91batch/s]\n"
          ]
        },
        {
          "name": "stdout",
          "output_type": "stream",
          "text": [
            "\n",
            "Epoch 3 finished: Avg. Loss: 1.231, Avg. Acc.: 55.90%, Time: 11.89s\n",
            "TESTING:\n",
            "Accuracy of the network on the test images: 57.52 %\n",
            "Average loss on the test images: 1.228\n",
            "New lowest test loss: 1.2276 with accuracy: 57.52%\n"
          ]
        },
        {
          "name": "stderr",
          "output_type": "stream",
          "text": [
            "Epoch 4/20: 100%|██████████| 391/391 [00:11<00:00, 32.78batch/s]"
          ]
        },
        {
          "name": "stdout",
          "output_type": "stream",
          "text": [
            "\n",
            "Epoch 4 finished: Avg. Loss: 1.117, Avg. Acc.: 60.33%, Time: 11.94s\n"
          ]
        },
        {
          "name": "stderr",
          "output_type": "stream",
          "text": [
            "\n"
          ]
        },
        {
          "name": "stdout",
          "output_type": "stream",
          "text": [
            "TESTING:\n",
            "Accuracy of the network on the test images: 59.41 %\n",
            "Average loss on the test images: 1.210\n",
            "New lowest test loss: 1.2105 with accuracy: 59.41%\n"
          ]
        },
        {
          "name": "stderr",
          "output_type": "stream",
          "text": [
            "Epoch 5/20: 100%|██████████| 391/391 [00:11<00:00, 32.72batch/s]"
          ]
        },
        {
          "name": "stdout",
          "output_type": "stream",
          "text": [
            "\n",
            "Epoch 5 finished: Avg. Loss: 1.043, Avg. Acc.: 63.25%, Time: 11.95s\n"
          ]
        },
        {
          "name": "stderr",
          "output_type": "stream",
          "text": [
            "\n"
          ]
        },
        {
          "name": "stdout",
          "output_type": "stream",
          "text": [
            "TESTING:\n",
            "Accuracy of the network on the test images: 62.73 %\n",
            "Average loss on the test images: 1.127\n",
            "New lowest test loss: 1.1273 with accuracy: 62.73%\n"
          ]
        },
        {
          "name": "stderr",
          "output_type": "stream",
          "text": [
            "Epoch 6/20: 100%|██████████| 391/391 [00:11<00:00, 33.04batch/s]"
          ]
        },
        {
          "name": "stdout",
          "output_type": "stream",
          "text": [
            "\n",
            "Epoch 6 finished: Avg. Loss: 0.999, Avg. Acc.: 65.20%, Time: 11.84s\n"
          ]
        },
        {
          "name": "stderr",
          "output_type": "stream",
          "text": [
            "\n"
          ]
        },
        {
          "name": "stdout",
          "output_type": "stream",
          "text": [
            "TESTING:\n",
            "Accuracy of the network on the test images: 66.76 %\n",
            "Average loss on the test images: 0.952\n",
            "New lowest test loss: 0.9521 with accuracy: 66.76%\n"
          ]
        },
        {
          "name": "stderr",
          "output_type": "stream",
          "text": [
            "Epoch 7/20: 100%|██████████| 391/391 [00:12<00:00, 32.40batch/s]"
          ]
        },
        {
          "name": "stdout",
          "output_type": "stream",
          "text": [
            "\n",
            "Epoch 7 finished: Avg. Loss: 0.965, Avg. Acc.: 66.60%, Time: 12.07s\n"
          ]
        },
        {
          "name": "stderr",
          "output_type": "stream",
          "text": [
            "\n"
          ]
        },
        {
          "name": "stdout",
          "output_type": "stream",
          "text": [
            "TESTING:\n",
            "Accuracy of the network on the test images: 64.37 %\n",
            "Average loss on the test images: 1.070\n"
          ]
        },
        {
          "name": "stderr",
          "output_type": "stream",
          "text": [
            "Epoch 8/20: 100%|██████████| 391/391 [00:11<00:00, 33.41batch/s]"
          ]
        },
        {
          "name": "stdout",
          "output_type": "stream",
          "text": [
            "\n",
            "Epoch 8 finished: Avg. Loss: 0.944, Avg. Acc.: 67.47%, Time: 11.71s\n"
          ]
        },
        {
          "name": "stderr",
          "output_type": "stream",
          "text": [
            "\n"
          ]
        },
        {
          "name": "stdout",
          "output_type": "stream",
          "text": [
            "TESTING:\n",
            "Accuracy of the network on the test images: 64.45 %\n",
            "Average loss on the test images: 1.061\n"
          ]
        },
        {
          "name": "stderr",
          "output_type": "stream",
          "text": [
            "Epoch 9/20: 100%|██████████| 391/391 [00:11<00:00, 33.58batch/s]"
          ]
        },
        {
          "name": "stdout",
          "output_type": "stream",
          "text": [
            "\n",
            "Epoch 9 finished: Avg. Loss: 0.927, Avg. Acc.: 67.95%, Time: 11.65s\n"
          ]
        },
        {
          "name": "stderr",
          "output_type": "stream",
          "text": [
            "\n"
          ]
        },
        {
          "name": "stdout",
          "output_type": "stream",
          "text": [
            "TESTING:\n",
            "Accuracy of the network on the test images: 63.74 %\n",
            "Average loss on the test images: 1.053\n"
          ]
        },
        {
          "name": "stderr",
          "output_type": "stream",
          "text": [
            "Epoch 10/20: 100%|██████████| 391/391 [00:11<00:00, 33.09batch/s]"
          ]
        },
        {
          "name": "stdout",
          "output_type": "stream",
          "text": [
            "\n",
            "Epoch 10 finished: Avg. Loss: 0.912, Avg. Acc.: 68.72%, Time: 11.82s\n"
          ]
        },
        {
          "name": "stderr",
          "output_type": "stream",
          "text": [
            "\n"
          ]
        },
        {
          "name": "stdout",
          "output_type": "stream",
          "text": [
            "TESTING:\n",
            "Accuracy of the network on the test images: 69.09 %\n",
            "Average loss on the test images: 0.904\n",
            "New lowest test loss: 0.9036 with accuracy: 69.09%\n"
          ]
        },
        {
          "name": "stderr",
          "output_type": "stream",
          "text": [
            "Epoch 11/20: 100%|██████████| 391/391 [00:11<00:00, 32.61batch/s]"
          ]
        },
        {
          "name": "stdout",
          "output_type": "stream",
          "text": [
            "\n",
            "Epoch 11 finished: Avg. Loss: 0.692, Avg. Acc.: 76.14%, Time: 12.00s\n"
          ]
        },
        {
          "name": "stderr",
          "output_type": "stream",
          "text": [
            "\n"
          ]
        },
        {
          "name": "stdout",
          "output_type": "stream",
          "text": [
            "TESTING:\n",
            "Accuracy of the network on the test images: 78.05 %\n",
            "Average loss on the test images: 0.630\n",
            "New lowest test loss: 0.6301 with accuracy: 78.05%\n"
          ]
        },
        {
          "name": "stderr",
          "output_type": "stream",
          "text": [
            "Epoch 12/20: 100%|██████████| 391/391 [00:11<00:00, 32.89batch/s]"
          ]
        },
        {
          "name": "stdout",
          "output_type": "stream",
          "text": [
            "\n",
            "Epoch 12 finished: Avg. Loss: 0.617, Avg. Acc.: 78.47%, Time: 11.89s\n"
          ]
        },
        {
          "name": "stderr",
          "output_type": "stream",
          "text": [
            "\n"
          ]
        },
        {
          "name": "stdout",
          "output_type": "stream",
          "text": [
            "TESTING:\n",
            "Accuracy of the network on the test images: 79.09 %\n",
            "Average loss on the test images: 0.602\n",
            "New lowest test loss: 0.6019 with accuracy: 79.09%\n"
          ]
        },
        {
          "name": "stderr",
          "output_type": "stream",
          "text": [
            "Epoch 13/20: 100%|██████████| 391/391 [00:11<00:00, 32.70batch/s]"
          ]
        },
        {
          "name": "stdout",
          "output_type": "stream",
          "text": [
            "\n",
            "Epoch 13 finished: Avg. Loss: 0.587, Avg. Acc.: 79.73%, Time: 11.96s\n"
          ]
        },
        {
          "name": "stderr",
          "output_type": "stream",
          "text": [
            "\n"
          ]
        },
        {
          "name": "stdout",
          "output_type": "stream",
          "text": [
            "TESTING:\n",
            "Accuracy of the network on the test images: 79.89 %\n",
            "Average loss on the test images: 0.590\n",
            "New lowest test loss: 0.5903 with accuracy: 79.89%\n"
          ]
        },
        {
          "name": "stderr",
          "output_type": "stream",
          "text": [
            "Epoch 14/20: 100%|██████████| 391/391 [00:11<00:00, 32.94batch/s]"
          ]
        },
        {
          "name": "stdout",
          "output_type": "stream",
          "text": [
            "\n",
            "Epoch 14 finished: Avg. Loss: 0.566, Avg. Acc.: 80.33%, Time: 11.88s\n"
          ]
        },
        {
          "name": "stderr",
          "output_type": "stream",
          "text": [
            "\n"
          ]
        },
        {
          "name": "stdout",
          "output_type": "stream",
          "text": [
            "TESTING:\n",
            "Accuracy of the network on the test images: 79.87 %\n",
            "Average loss on the test images: 0.579\n",
            "New lowest test loss: 0.5787 with accuracy: 79.87%\n"
          ]
        },
        {
          "name": "stderr",
          "output_type": "stream",
          "text": [
            "Epoch 15/20: 100%|██████████| 391/391 [00:12<00:00, 32.49batch/s]"
          ]
        },
        {
          "name": "stdout",
          "output_type": "stream",
          "text": [
            "\n",
            "Epoch 15 finished: Avg. Loss: 0.547, Avg. Acc.: 80.90%, Time: 12.04s\n"
          ]
        },
        {
          "name": "stderr",
          "output_type": "stream",
          "text": [
            "\n"
          ]
        },
        {
          "name": "stdout",
          "output_type": "stream",
          "text": [
            "TESTING:\n",
            "Accuracy of the network on the test images: 80.46 %\n",
            "Average loss on the test images: 0.565\n",
            "New lowest test loss: 0.5650 with accuracy: 80.46%\n"
          ]
        },
        {
          "name": "stderr",
          "output_type": "stream",
          "text": [
            "Epoch 16/20: 100%|██████████| 391/391 [00:11<00:00, 32.85batch/s]"
          ]
        },
        {
          "name": "stdout",
          "output_type": "stream",
          "text": [
            "\n",
            "Epoch 16 finished: Avg. Loss: 0.529, Avg. Acc.: 81.70%, Time: 11.91s\n"
          ]
        },
        {
          "name": "stderr",
          "output_type": "stream",
          "text": [
            "\n"
          ]
        },
        {
          "name": "stdout",
          "output_type": "stream",
          "text": [
            "TESTING:\n",
            "Accuracy of the network on the test images: 80.57 %\n",
            "Average loss on the test images: 0.557\n",
            "New lowest test loss: 0.5568 with accuracy: 80.57%\n"
          ]
        },
        {
          "name": "stderr",
          "output_type": "stream",
          "text": [
            "Epoch 17/20: 100%|██████████| 391/391 [00:11<00:00, 32.85batch/s]"
          ]
        },
        {
          "name": "stdout",
          "output_type": "stream",
          "text": [
            "\n",
            "Epoch 17 finished: Avg. Loss: 0.514, Avg. Acc.: 82.19%, Time: 11.91s\n"
          ]
        },
        {
          "name": "stderr",
          "output_type": "stream",
          "text": [
            "\n"
          ]
        },
        {
          "name": "stdout",
          "output_type": "stream",
          "text": [
            "TESTING:\n",
            "Accuracy of the network on the test images: 80.80 %\n",
            "Average loss on the test images: 0.559\n"
          ]
        },
        {
          "name": "stderr",
          "output_type": "stream",
          "text": [
            "Epoch 18/20: 100%|██████████| 391/391 [00:11<00:00, 33.08batch/s]"
          ]
        },
        {
          "name": "stdout",
          "output_type": "stream",
          "text": [
            "\n",
            "Epoch 18 finished: Avg. Loss: 0.498, Avg. Acc.: 82.78%, Time: 11.82s\n"
          ]
        },
        {
          "name": "stderr",
          "output_type": "stream",
          "text": [
            "\n"
          ]
        },
        {
          "name": "stdout",
          "output_type": "stream",
          "text": [
            "TESTING:\n",
            "Accuracy of the network on the test images: 81.17 %\n",
            "Average loss on the test images: 0.538\n",
            "New lowest test loss: 0.5381 with accuracy: 81.17%\n"
          ]
        },
        {
          "name": "stderr",
          "output_type": "stream",
          "text": [
            "Epoch 19/20: 100%|██████████| 391/391 [00:11<00:00, 33.43batch/s]"
          ]
        },
        {
          "name": "stdout",
          "output_type": "stream",
          "text": [
            "\n",
            "Epoch 19 finished: Avg. Loss: 0.488, Avg. Acc.: 83.18%, Time: 11.70s\n"
          ]
        },
        {
          "name": "stderr",
          "output_type": "stream",
          "text": [
            "\n"
          ]
        },
        {
          "name": "stdout",
          "output_type": "stream",
          "text": [
            "TESTING:\n",
            "Accuracy of the network on the test images: 81.26 %\n",
            "Average loss on the test images: 0.536\n",
            "New lowest test loss: 0.5359 with accuracy: 81.26%\n"
          ]
        },
        {
          "name": "stderr",
          "output_type": "stream",
          "text": [
            "Epoch 20/20: 100%|██████████| 391/391 [00:12<00:00, 32.46batch/s]"
          ]
        },
        {
          "name": "stdout",
          "output_type": "stream",
          "text": [
            "\n",
            "Epoch 20 finished: Avg. Loss: 0.477, Avg. Acc.: 83.26%, Time: 12.05s\n"
          ]
        },
        {
          "name": "stderr",
          "output_type": "stream",
          "text": [
            "\n"
          ]
        },
        {
          "name": "stdout",
          "output_type": "stream",
          "text": [
            "TESTING:\n",
            "Accuracy of the network on the test images: 81.72 %\n",
            "Average loss on the test images: 0.538\n",
            "Finished Training. Best Test Loss: 0.5359, Best Accuracy: 81.26%\n"
          ]
        }
      ],
      "source": [
        "model_path = '/content/assignment3/assignment3/assignment3_part1/resnet18_random_full_classification_task_best_model.pth'\n",
        "\n",
        "train(model, criterion, optimizer, num_epochs=20, decay_epochs=10, init_lr=0.01, task='classification', trainloader=trainloader, testloader=testloader, model_path=model_path)"
      ]
    },
    {
      "cell_type": "markdown",
      "metadata": {
        "id": "kOJlxX2Rq8Ih"
      },
      "source": [
        "---"
      ]
    },
    {
      "cell_type": "markdown",
      "metadata": {
        "id": "4wDT8iuldyZT"
      },
      "source": [
        "# Extra Credit Part 1"
      ]
    },
    {
      "cell_type": "markdown",
      "metadata": {
        "id": "kIAb5LvdVINt"
      },
      "source": [
        "## Vision Transformer from Scratch\n",
        "### Fine-tune ViT on rotation task and then use pre-trained model for full classification task\n",
        "#### *Note that I worked on this ViT from scratch over winter break and not just during this assignment*"
      ]
    },
    {
      "cell_type": "code",
      "execution_count": null,
      "metadata": {
        "id": "4CPzgZNaVpxu"
      },
      "outputs": [],
      "source": [
        "%%capture\n",
        "!pip install fvcore\n",
        "!pip install einops\n",
        "!pip install pytorch-ignite\n",
        "!pip install wandb"
      ]
    },
    {
      "cell_type": "code",
      "execution_count": null,
      "metadata": {
        "id": "RIoBGuA2WOZ7"
      },
      "outputs": [],
      "source": [
        "import numpy as np\n",
        "import matplotlib.pyplot as plt\n",
        "import math\n",
        "import seaborn as sns\n",
        "import argparse\n",
        "import tqdm\n",
        "import random\n",
        "import os\n",
        "import logging\n",
        "import time\n",
        "import wandb\n",
        "from tqdm import tqdm\n",
        "\n",
        "import torch\n",
        "import torch.nn as nn\n",
        "import torch.optim as optim\n",
        "import torch.nn.functional as F\n",
        "import torchvision\n",
        "from torch.optim.optimizer import Optimizer\n",
        "from torch.optim.lr_scheduler import _LRScheduler\n",
        "from torchvision import datasets, transforms\n",
        "from torch.optim import AdamW, Adam\n",
        "from torch.cuda.amp import autocast, GradScaler\n",
        "from torch.nn.utils import clip_grad_norm_\n",
        "\n",
        "from typing import Tuple, Optional, Callable, Iterable\n",
        "from collections import defaultdict\n",
        "\n",
        "from __future__ import division\n",
        "from __future__ import unicode_literals\n",
        "\n",
        "import weakref\n",
        "import copy\n",
        "import contextlib\n",
        "\n",
        "from einops import rearrange, repeat\n",
        "from einops.layers.torch import Rearrange\n",
        "\n",
        "from functools import partial\n",
        "\n",
        "from PIL import ImageFilter, ImageOps, Image\n",
        "from fvcore.nn import FlopCountAnalysis, ActivationCountAnalysis, flop_count_table\n",
        "\n",
        "from ignite.utils import convert_tensor\n",
        "\n",
        "import warnings\n",
        "warnings.filterwarnings(\"ignore\")"
      ]
    },
    {
      "cell_type": "code",
      "execution_count": null,
      "metadata": {
        "id": "dR594_VaWOX_"
      },
      "outputs": [],
      "source": [
        "parser = argparse.ArgumentParser(description='PyTorch Vision Transformer Model from Scratch')\n",
        "\n",
        "parser.add_argument('--DATA_DIR', type=str, default='./data',\n",
        "                    help='Data directory')\n",
        "parser.add_argument('--BATCH_SIZE', type=int, default=128,\n",
        "                    help='batch size')\n",
        "parser.add_argument('--IMAGE_SIZE', type=int, default=32,\n",
        "                    help='image size')\n",
        "parser.add_argument('--EPOCHS', type=int, default=60,\n",
        "                    help='number of epochs')\n",
        "parser.add_argument('--LEARNING_RATE', type=float, default=1e-3,\n",
        "                    help='learning rate')\n",
        "parser.add_argument('--WEIGHT_DECAY', type=float, default=1e-1,\n",
        "                    help='weight decay')\n",
        "parser.add_argument('--CYCLE_MULT', type=int, default = 1.0,\n",
        "                    help='cycle mult for Cosine LR schedule')\n",
        "parser.add_argument('--MIN_LR', type=float, default=1e-6,\n",
        "                    help='Minimum learning rate for Cosine LR schedule')\n",
        "parser.add_argument('--WARM_UP', type=int, default=10,\n",
        "                    help='Warm up steps for Cosine LR schedule')\n",
        "parser.add_argument('--GAMMA', type=float, default=1.0,\n",
        "                    help='Gamma value for Cosine LR schedule')\n",
        "parser.add_argument('--LABEL_SMOOTHING', type=float, default=0.1,\n",
        "                    help='Label smoothing for optimizer')\n",
        "parser.add_argument('--NUM_CLASSES', type=int, default=4,\n",
        "                    help='Number of classes in the data')\n",
        "parser.add_argument('--NUM_WORKERS', type=int, default=4,\n",
        "                    help='Number of workers for GPU')\n",
        "parser.add_argument('--CHANNELS', type=int, default=256,\n",
        "                    help='Embedding dimension')\n",
        "parser.add_argument('--HEAD_CHANNELS', type=int, default=32,\n",
        "                    help='Head embedding dimension')\n",
        "parser.add_argument('--NUM_BLOCKS', type=int, default=8,\n",
        "                    help='Number of transformer blocks')\n",
        "parser.add_argument('--PATCH_SIZE', type=int, default=2,\n",
        "                    help='Patch size for patch embedding')\n",
        "parser.add_argument('--EMB_P_DROP', type=float, default=0.,\n",
        "                    help='Embedding dropout probability')\n",
        "parser.add_argument('--TRANS_P_DROP', type=float, default=0.,\n",
        "                    help='Transformer block droout probability')\n",
        "parser.add_argument('--HEAD_P_DROP', type=float, default=0.3,\n",
        "                    help='Head dropout probability')\n",
        "\n",
        "args, unknown = parser.parse_known_args()"
      ]
    },
    {
      "cell_type": "markdown",
      "metadata": {
        "id": "Tp11ZOQx-9aB"
      },
      "source": [
        "# Utils"
      ]
    },
    {
      "cell_type": "code",
      "execution_count": null,
      "metadata": {
        "id": "tirEHyvKWOV3"
      },
      "outputs": [],
      "source": [
        "def clip_gradients(model, clip):\n",
        "    norms = []\n",
        "    for name, p in model.named_parameters():\n",
        "        if p.grad is not None:\n",
        "            param_norm = p.grad.data.norm(2)\n",
        "            norms.append(param_norm.item())\n",
        "            clip_coef = clip / (param_norm + 1e-6)\n",
        "            if clip_coef < 1:\n",
        "                p.grad.data.mul_(clip_coef)\n",
        "    return norms"
      ]
    },
    {
      "cell_type": "code",
      "execution_count": null,
      "metadata": {
        "id": "oUisfOq6WOTm"
      },
      "outputs": [],
      "source": [
        "def save_checkpoint(model, optimizer, lr_scheduler, epoch, checkpoint_dir, best=False):\n",
        "    checkpoint = {\n",
        "        'epoch': epoch + 1,\n",
        "        'state_dict': model.state_dict(),\n",
        "        'optimizer': optimizer.state_dict(),\n",
        "        'lr_scheduler': lr_scheduler.state_dict(),\n",
        "    }\n",
        "    filename = os.path.join(checkpoint_dir, f\"checkpoint_epoch_{epoch + 1}.pth\")\n",
        "    torch.save(checkpoint, filename)\n",
        "    if best:\n",
        "        best_filename = os.path.join(checkpoint_dir, 'best_model.pth')\n",
        "        torch.save(checkpoint, best_filename)\n",
        "\n",
        "def load_checkpoint(self, filename=\"checkpoint.pth.tar\"):\n",
        "    \"\"\" Load the state of the model, optimizer, and lr_scheduler from a checkpoint. \"\"\"\n",
        "    if os.path.isfile(filename):\n",
        "        checkpoint = torch.load(filename)\n",
        "        self.model.load_state_dict(checkpoint['state_dict'])\n",
        "        self.optimizer.load_state_dict(checkpoint['optimizer'])\n",
        "        self.lr_scheduler.load_state_dict(checkpoint['lr_scheduler'])\n",
        "        self.logger.info(f\"Loaded checkpoint '{filename}' (epoch {checkpoint['epoch']})\")\n",
        "    else:\n",
        "        self.logger.info(f\"No checkpoint found at '{filename}'\")"
      ]
    },
    {
      "cell_type": "code",
      "execution_count": null,
      "metadata": {
        "id": "cIzGe5Eqc4fz"
      },
      "outputs": [],
      "source": [
        "def setup_seed(seed):\n",
        "    torch.manual_seed(seed)\n",
        "    torch.cuda.manual_seed(seed)\n",
        "    np.random.seed(seed)\n",
        "    random.seed(seed)\n",
        "    torch.backends.cudnn.benchmark = False\n",
        "    torch.backends.cudnn.deterministic = True\n",
        "\n",
        "def print_gpu_info(device):\n",
        "    print(\"\\n--- GPU Information ---\\n\")\n",
        "    if torch.cuda.is_available():\n",
        "        print(f\"Model is using device: {device}\")\n",
        "        print(f\"CUDA Device: {torch.cuda.get_device_name(device)}\")\n",
        "        print(f\"Total Memory: {torch.cuda.get_device_properties(device).total_memory / 1024 ** 2} MB\")\n",
        "    else:\n",
        "        print(\"Model is using CPU\")\n",
        "\n",
        "def get_transforms():\n",
        "    transform_train = transforms.Compose([\n",
        "        transforms.RandomCrop(32, padding=4),\n",
        "        transforms.RandomHorizontalFlip(),\n",
        "        transforms.ToTensor(),\n",
        "        transforms.Normalize((0.4914, 0.4822, 0.4465), (0.2023, 0.1994, 0.2010)),\n",
        "    ])\n",
        "    transform_test = transforms.Compose([\n",
        "        transforms.ToTensor(),\n",
        "        transforms.Normalize((0.4914, 0.4822, 0.4465), (0.2023, 0.1994, 0.2010)),\n",
        "    ])\n",
        "    return transform_train, transform_test"
      ]
    },
    {
      "cell_type": "markdown",
      "metadata": {
        "id": "cyany83o-_vd"
      },
      "source": [
        "# ViT Model"
      ]
    },
    {
      "cell_type": "code",
      "execution_count": null,
      "metadata": {
        "id": "B9x7RCKyWORe"
      },
      "outputs": [],
      "source": [
        "class Residual(nn.Module):\n",
        "    def __init__(self, *layers):\n",
        "        super().__init__()\n",
        "        self.residual = nn.Sequential(*layers)\n",
        "        self.gamma = nn.Parameter(torch.zeros(1))\n",
        "\n",
        "    def forward(self, x):\n",
        "        return x + self.gamma * self.residual(x)\n",
        "\n",
        "\n",
        "class LayerNormChannels(nn.Module):\n",
        "    def __init__(self, channels):\n",
        "        super().__init__()\n",
        "        self.norm = nn.LayerNorm(channels)\n",
        "\n",
        "    def forward(self, x):\n",
        "        x = x.transpose(1, -1)\n",
        "        x = self.norm(x)\n",
        "        x = x.transpose(-1, 1)\n",
        "        return x"
      ]
    },
    {
      "cell_type": "code",
      "execution_count": null,
      "metadata": {
        "id": "3Sx8DYdlWOPR"
      },
      "outputs": [],
      "source": [
        "# Modified from https://github.com/huggingface/pytorch-image-models/blob/main/timm/models/vision_transformer.py\n",
        "class SelfAttention2d(nn.Module):\n",
        "    def __init__(self, in_channels, out_channels, head_channels, shape):\n",
        "        super().__init__()\n",
        "        self.heads = out_channels // head_channels\n",
        "        self.head_channels = head_channels\n",
        "        self.scale = head_channels**-0.5\n",
        "\n",
        "        self.to_keys = nn.Conv2d(in_channels, out_channels, 1)\n",
        "        self.to_queries = nn.Conv2d(in_channels, out_channels, 1)\n",
        "        self.to_values = nn.Conv2d(in_channels, out_channels, 1)\n",
        "        self.unifyheads = nn.Conv2d(out_channels, out_channels, 1)\n",
        "\n",
        "        height, width = shape\n",
        "        self.pos_enc = nn.Parameter(torch.Tensor(self.heads, (2 * height - 1) * (2 * width - 1)))\n",
        "        self.register_buffer(\"relative_indices\", self.get_indices(height, width))\n",
        "\n",
        "    def forward(self, x):\n",
        "        b, _, h, w = x.shape\n",
        "\n",
        "        keys = self.to_keys(x).view(b, self.heads, self.head_channels, -1)\n",
        "        values = self.to_values(x).view(b, self.heads, self.head_channels, -1)\n",
        "        queries = self.to_queries(x).view(b, self.heads, self.head_channels, -1)\n",
        "\n",
        "        att = keys.transpose(-2, -1) @ queries\n",
        "\n",
        "        indices = self.relative_indices.expand(self.heads, -1)\n",
        "        rel_pos_enc = self.pos_enc.gather(-1, indices)\n",
        "        rel_pos_enc = rel_pos_enc.unflatten(-1, (h * w, h * w))\n",
        "\n",
        "        att = att * self.scale + rel_pos_enc\n",
        "        att = F.softmax(att, dim=-2)\n",
        "\n",
        "        out = values @ att\n",
        "        out = out.view(b, -1, h, w)\n",
        "        out = self.unifyheads(out)\n",
        "        return out\n",
        "\n",
        "    @staticmethod\n",
        "    def get_indices(h, w):\n",
        "        y = torch.arange(h, dtype=torch.long)\n",
        "        x = torch.arange(w, dtype=torch.long)\n",
        "\n",
        "        y1, x1, y2, x2 = torch.meshgrid(y, x, y, x, indexing='ij')\n",
        "        indices = (y1 - y2 + h - 1) * (2 * w - 1) + x1 - x2 + w - 1\n",
        "        indices = indices.flatten()\n",
        "\n",
        "        return indices"
      ]
    },
    {
      "cell_type": "code",
      "execution_count": null,
      "metadata": {
        "id": "P38TfrFIWOMy"
      },
      "outputs": [],
      "source": [
        "class FeedForward(nn.Sequential):\n",
        "    def __init__(self, in_channels, out_channels, mult=4):\n",
        "        hidden_channels = in_channels * mult\n",
        "        super().__init__(\n",
        "            nn.Conv2d(in_channels, hidden_channels, 1),\n",
        "            nn.GELU(),\n",
        "            nn.Conv2d(hidden_channels, out_channels, 1)\n",
        "        )"
      ]
    },
    {
      "cell_type": "code",
      "execution_count": null,
      "metadata": {
        "id": "5ZXLh0giW2bZ"
      },
      "outputs": [],
      "source": [
        "class TransformerBlock(nn.Sequential):\n",
        "    def __init__(self, channels, head_channels, shape, p_drop=0.):\n",
        "        super().__init__(\n",
        "            Residual(\n",
        "                LayerNormChannels(channels),\n",
        "                SelfAttention2d(channels, channels, head_channels, shape),\n",
        "                nn.Dropout(p_drop)\n",
        "            ),\n",
        "            Residual(\n",
        "                LayerNormChannels(channels),\n",
        "                FeedForward(channels, channels),\n",
        "                nn.Dropout(p_drop)\n",
        "            )\n",
        "        )"
      ]
    },
    {
      "cell_type": "code",
      "execution_count": null,
      "metadata": {
        "id": "CcYzKprxW2Yy"
      },
      "outputs": [],
      "source": [
        "class TransformerStack(nn.Sequential):\n",
        "    def __init__(self, num_blocks, channels, head_channels, shape, p_drop=0.):\n",
        "        layers = [TransformerBlock(channels, head_channels, shape, p_drop) for _ in range(num_blocks)]\n",
        "        super().__init__(*layers)"
      ]
    },
    {
      "cell_type": "code",
      "execution_count": null,
      "metadata": {
        "id": "VfeC3blsW2UP"
      },
      "outputs": [],
      "source": [
        "class ToPatches(nn.Sequential):\n",
        "    def __init__(self, in_channels, channels, patch_size, hidden_channels=32):\n",
        "        super().__init__(\n",
        "            nn.Conv2d(in_channels, hidden_channels, 3, padding=1),\n",
        "            nn.GELU(),\n",
        "            nn.Conv2d(hidden_channels, channels, patch_size, stride=patch_size)\n",
        "        )"
      ]
    },
    {
      "cell_type": "code",
      "execution_count": null,
      "metadata": {
        "id": "tgRaWfjFW2SK"
      },
      "outputs": [],
      "source": [
        "class AddPositionEmbedding(nn.Module):\n",
        "    def __init__(self, channels, shape):\n",
        "        super().__init__()\n",
        "        self.pos_embedding = nn.Parameter(torch.Tensor(channels, *shape))\n",
        "\n",
        "    def forward(self, x):\n",
        "        return x + self.pos_embedding"
      ]
    },
    {
      "cell_type": "code",
      "execution_count": null,
      "metadata": {
        "id": "CJlrdD3DW2P4"
      },
      "outputs": [],
      "source": [
        "class ToEmbedding(nn.Sequential):\n",
        "    def __init__(self, in_channels, channels, patch_size, shape, p_drop=0.):\n",
        "        super().__init__(\n",
        "            ToPatches(in_channels, channels, patch_size),\n",
        "            AddPositionEmbedding(channels, shape),\n",
        "            nn.Dropout(p_drop)\n",
        "        )"
      ]
    },
    {
      "cell_type": "code",
      "execution_count": null,
      "metadata": {
        "id": "6au1HWQfW2N0"
      },
      "outputs": [],
      "source": [
        "class Head(nn.Sequential):\n",
        "    def __init__(self, in_channels, classes, p_drop=0.):\n",
        "        super().__init__(\n",
        "            LayerNormChannels(in_channels),\n",
        "            nn.GELU(),\n",
        "            nn.AdaptiveAvgPool2d(1),\n",
        "            nn.Flatten(),\n",
        "            nn.Dropout(p_drop),\n",
        "            nn.Linear(in_channels, classes)\n",
        "        )"
      ]
    },
    {
      "cell_type": "code",
      "execution_count": null,
      "metadata": {
        "id": "hQ50MeghW2Hs"
      },
      "outputs": [],
      "source": [
        "class ViT(nn.Sequential):\n",
        "    \"\"\"\n",
        "    Vision Transformer model.\n",
        "\n",
        "    Args:\n",
        "        classes (int): Number of output classes.\n",
        "        image_size (int): The size of the input images (assumed to be square).\n",
        "        channels (int): The number of channels in the input images.\n",
        "        head_channels (int): The number of channels in the transformer heads.\n",
        "        num_blocks (int): The number of transformer blocks.\n",
        "        patch_size (int): The size of the patches to divide the images into.\n",
        "        in_channels (int, optional): The number of input channels. Default is 3 (RGB).\n",
        "        emb_p_drop (float, optional): Dropout probability for the embedding layer. Default is 0.\n",
        "        trans_p_drop (float, optional): Dropout probability for the transformer layer. Default is 0.\n",
        "        head_p_drop (float, optional): Dropout probability for the head layer. Default is 0.\n",
        "\n",
        "    Attributes:\n",
        "        parameters_decay (set): Set of parameters that will have weight decay applied during optimization.\n",
        "        parameters_no_decay (set): Set of parameters that will not have weight decay applied during optimization.\n",
        "    \"\"\"\n",
        "\n",
        "    def __init__(self, classes, image_size, channels, head_channels, num_blocks, patch_size,\n",
        "                 in_channels=3, emb_p_drop=0., trans_p_drop=0., head_p_drop=0.):\n",
        "        reduced_size = image_size // patch_size\n",
        "        shape = (reduced_size, reduced_size)\n",
        "        super().__init__(\n",
        "            ToEmbedding(in_channels, channels, patch_size, shape, emb_p_drop),\n",
        "            TransformerStack(num_blocks, channels, head_channels, shape, trans_p_drop),\n",
        "            Head(channels, classes, head_p_drop)\n",
        "        )\n",
        "        self.reset_parameters()\n",
        "\n",
        "    def reset_parameters(self):\n",
        "        for m in self.modules():\n",
        "            if isinstance(m, (nn.Conv2d, nn.Linear)):\n",
        "                nn.init.kaiming_normal_(m.weight)\n",
        "                if m.bias is not None: nn.init.zeros_(m.bias)\n",
        "            elif isinstance(m, nn.LayerNorm):\n",
        "                nn.init.constant_(m.weight, 1.)\n",
        "                nn.init.zeros_(m.bias)\n",
        "            elif isinstance(m, AddPositionEmbedding):\n",
        "                nn.init.normal_(m.pos_embedding, mean=0.0, std=0.02)\n",
        "            elif isinstance(m, SelfAttention2d):\n",
        "                nn.init.normal_(m.pos_enc, mean=0.0, std=0.02)\n",
        "            elif isinstance(m, Residual):\n",
        "                nn.init.zeros_(m.gamma)"
      ]
    },
    {
      "cell_type": "code",
      "execution_count": null,
      "metadata": {
        "id": "GoWC-yegbSyK"
      },
      "outputs": [],
      "source": [
        "device = torch.device(\"cuda\") if torch.cuda.is_available() else torch.device(\"cpu\")"
      ]
    },
    {
      "cell_type": "code",
      "execution_count": null,
      "metadata": {
        "colab": {
          "base_uri": "https://localhost:8080/"
        },
        "id": "I1bl90OHbLsF",
        "outputId": "b42e1aa7-8198-4650-f820-9168ba5819ed"
      },
      "outputs": [
        {
          "data": {
            "text/plain": [
              "ViT(\n",
              "  (0): ToEmbedding(\n",
              "    (0): ToPatches(\n",
              "      (0): Conv2d(3, 32, kernel_size=(3, 3), stride=(1, 1), padding=(1, 1))\n",
              "      (1): GELU(approximate='none')\n",
              "      (2): Conv2d(32, 256, kernel_size=(2, 2), stride=(2, 2))\n",
              "    )\n",
              "    (1): AddPositionEmbedding()\n",
              "    (2): Dropout(p=0.0, inplace=False)\n",
              "  )\n",
              "  (1): TransformerStack(\n",
              "    (0): TransformerBlock(\n",
              "      (0): Residual(\n",
              "        (residual): Sequential(\n",
              "          (0): LayerNormChannels(\n",
              "            (norm): LayerNorm((256,), eps=1e-05, elementwise_affine=True)\n",
              "          )\n",
              "          (1): SelfAttention2d(\n",
              "            (to_keys): Conv2d(256, 256, kernel_size=(1, 1), stride=(1, 1))\n",
              "            (to_queries): Conv2d(256, 256, kernel_size=(1, 1), stride=(1, 1))\n",
              "            (to_values): Conv2d(256, 256, kernel_size=(1, 1), stride=(1, 1))\n",
              "            (unifyheads): Conv2d(256, 256, kernel_size=(1, 1), stride=(1, 1))\n",
              "          )\n",
              "          (2): Dropout(p=0.0, inplace=False)\n",
              "        )\n",
              "      )\n",
              "      (1): Residual(\n",
              "        (residual): Sequential(\n",
              "          (0): LayerNormChannels(\n",
              "            (norm): LayerNorm((256,), eps=1e-05, elementwise_affine=True)\n",
              "          )\n",
              "          (1): FeedForward(\n",
              "            (0): Conv2d(256, 1024, kernel_size=(1, 1), stride=(1, 1))\n",
              "            (1): GELU(approximate='none')\n",
              "            (2): Conv2d(1024, 256, kernel_size=(1, 1), stride=(1, 1))\n",
              "          )\n",
              "          (2): Dropout(p=0.0, inplace=False)\n",
              "        )\n",
              "      )\n",
              "    )\n",
              "    (1): TransformerBlock(\n",
              "      (0): Residual(\n",
              "        (residual): Sequential(\n",
              "          (0): LayerNormChannels(\n",
              "            (norm): LayerNorm((256,), eps=1e-05, elementwise_affine=True)\n",
              "          )\n",
              "          (1): SelfAttention2d(\n",
              "            (to_keys): Conv2d(256, 256, kernel_size=(1, 1), stride=(1, 1))\n",
              "            (to_queries): Conv2d(256, 256, kernel_size=(1, 1), stride=(1, 1))\n",
              "            (to_values): Conv2d(256, 256, kernel_size=(1, 1), stride=(1, 1))\n",
              "            (unifyheads): Conv2d(256, 256, kernel_size=(1, 1), stride=(1, 1))\n",
              "          )\n",
              "          (2): Dropout(p=0.0, inplace=False)\n",
              "        )\n",
              "      )\n",
              "      (1): Residual(\n",
              "        (residual): Sequential(\n",
              "          (0): LayerNormChannels(\n",
              "            (norm): LayerNorm((256,), eps=1e-05, elementwise_affine=True)\n",
              "          )\n",
              "          (1): FeedForward(\n",
              "            (0): Conv2d(256, 1024, kernel_size=(1, 1), stride=(1, 1))\n",
              "            (1): GELU(approximate='none')\n",
              "            (2): Conv2d(1024, 256, kernel_size=(1, 1), stride=(1, 1))\n",
              "          )\n",
              "          (2): Dropout(p=0.0, inplace=False)\n",
              "        )\n",
              "      )\n",
              "    )\n",
              "    (2): TransformerBlock(\n",
              "      (0): Residual(\n",
              "        (residual): Sequential(\n",
              "          (0): LayerNormChannels(\n",
              "            (norm): LayerNorm((256,), eps=1e-05, elementwise_affine=True)\n",
              "          )\n",
              "          (1): SelfAttention2d(\n",
              "            (to_keys): Conv2d(256, 256, kernel_size=(1, 1), stride=(1, 1))\n",
              "            (to_queries): Conv2d(256, 256, kernel_size=(1, 1), stride=(1, 1))\n",
              "            (to_values): Conv2d(256, 256, kernel_size=(1, 1), stride=(1, 1))\n",
              "            (unifyheads): Conv2d(256, 256, kernel_size=(1, 1), stride=(1, 1))\n",
              "          )\n",
              "          (2): Dropout(p=0.0, inplace=False)\n",
              "        )\n",
              "      )\n",
              "      (1): Residual(\n",
              "        (residual): Sequential(\n",
              "          (0): LayerNormChannels(\n",
              "            (norm): LayerNorm((256,), eps=1e-05, elementwise_affine=True)\n",
              "          )\n",
              "          (1): FeedForward(\n",
              "            (0): Conv2d(256, 1024, kernel_size=(1, 1), stride=(1, 1))\n",
              "            (1): GELU(approximate='none')\n",
              "            (2): Conv2d(1024, 256, kernel_size=(1, 1), stride=(1, 1))\n",
              "          )\n",
              "          (2): Dropout(p=0.0, inplace=False)\n",
              "        )\n",
              "      )\n",
              "    )\n",
              "    (3): TransformerBlock(\n",
              "      (0): Residual(\n",
              "        (residual): Sequential(\n",
              "          (0): LayerNormChannels(\n",
              "            (norm): LayerNorm((256,), eps=1e-05, elementwise_affine=True)\n",
              "          )\n",
              "          (1): SelfAttention2d(\n",
              "            (to_keys): Conv2d(256, 256, kernel_size=(1, 1), stride=(1, 1))\n",
              "            (to_queries): Conv2d(256, 256, kernel_size=(1, 1), stride=(1, 1))\n",
              "            (to_values): Conv2d(256, 256, kernel_size=(1, 1), stride=(1, 1))\n",
              "            (unifyheads): Conv2d(256, 256, kernel_size=(1, 1), stride=(1, 1))\n",
              "          )\n",
              "          (2): Dropout(p=0.0, inplace=False)\n",
              "        )\n",
              "      )\n",
              "      (1): Residual(\n",
              "        (residual): Sequential(\n",
              "          (0): LayerNormChannels(\n",
              "            (norm): LayerNorm((256,), eps=1e-05, elementwise_affine=True)\n",
              "          )\n",
              "          (1): FeedForward(\n",
              "            (0): Conv2d(256, 1024, kernel_size=(1, 1), stride=(1, 1))\n",
              "            (1): GELU(approximate='none')\n",
              "            (2): Conv2d(1024, 256, kernel_size=(1, 1), stride=(1, 1))\n",
              "          )\n",
              "          (2): Dropout(p=0.0, inplace=False)\n",
              "        )\n",
              "      )\n",
              "    )\n",
              "    (4): TransformerBlock(\n",
              "      (0): Residual(\n",
              "        (residual): Sequential(\n",
              "          (0): LayerNormChannels(\n",
              "            (norm): LayerNorm((256,), eps=1e-05, elementwise_affine=True)\n",
              "          )\n",
              "          (1): SelfAttention2d(\n",
              "            (to_keys): Conv2d(256, 256, kernel_size=(1, 1), stride=(1, 1))\n",
              "            (to_queries): Conv2d(256, 256, kernel_size=(1, 1), stride=(1, 1))\n",
              "            (to_values): Conv2d(256, 256, kernel_size=(1, 1), stride=(1, 1))\n",
              "            (unifyheads): Conv2d(256, 256, kernel_size=(1, 1), stride=(1, 1))\n",
              "          )\n",
              "          (2): Dropout(p=0.0, inplace=False)\n",
              "        )\n",
              "      )\n",
              "      (1): Residual(\n",
              "        (residual): Sequential(\n",
              "          (0): LayerNormChannels(\n",
              "            (norm): LayerNorm((256,), eps=1e-05, elementwise_affine=True)\n",
              "          )\n",
              "          (1): FeedForward(\n",
              "            (0): Conv2d(256, 1024, kernel_size=(1, 1), stride=(1, 1))\n",
              "            (1): GELU(approximate='none')\n",
              "            (2): Conv2d(1024, 256, kernel_size=(1, 1), stride=(1, 1))\n",
              "          )\n",
              "          (2): Dropout(p=0.0, inplace=False)\n",
              "        )\n",
              "      )\n",
              "    )\n",
              "    (5): TransformerBlock(\n",
              "      (0): Residual(\n",
              "        (residual): Sequential(\n",
              "          (0): LayerNormChannels(\n",
              "            (norm): LayerNorm((256,), eps=1e-05, elementwise_affine=True)\n",
              "          )\n",
              "          (1): SelfAttention2d(\n",
              "            (to_keys): Conv2d(256, 256, kernel_size=(1, 1), stride=(1, 1))\n",
              "            (to_queries): Conv2d(256, 256, kernel_size=(1, 1), stride=(1, 1))\n",
              "            (to_values): Conv2d(256, 256, kernel_size=(1, 1), stride=(1, 1))\n",
              "            (unifyheads): Conv2d(256, 256, kernel_size=(1, 1), stride=(1, 1))\n",
              "          )\n",
              "          (2): Dropout(p=0.0, inplace=False)\n",
              "        )\n",
              "      )\n",
              "      (1): Residual(\n",
              "        (residual): Sequential(\n",
              "          (0): LayerNormChannels(\n",
              "            (norm): LayerNorm((256,), eps=1e-05, elementwise_affine=True)\n",
              "          )\n",
              "          (1): FeedForward(\n",
              "            (0): Conv2d(256, 1024, kernel_size=(1, 1), stride=(1, 1))\n",
              "            (1): GELU(approximate='none')\n",
              "            (2): Conv2d(1024, 256, kernel_size=(1, 1), stride=(1, 1))\n",
              "          )\n",
              "          (2): Dropout(p=0.0, inplace=False)\n",
              "        )\n",
              "      )\n",
              "    )\n",
              "    (6): TransformerBlock(\n",
              "      (0): Residual(\n",
              "        (residual): Sequential(\n",
              "          (0): LayerNormChannels(\n",
              "            (norm): LayerNorm((256,), eps=1e-05, elementwise_affine=True)\n",
              "          )\n",
              "          (1): SelfAttention2d(\n",
              "            (to_keys): Conv2d(256, 256, kernel_size=(1, 1), stride=(1, 1))\n",
              "            (to_queries): Conv2d(256, 256, kernel_size=(1, 1), stride=(1, 1))\n",
              "            (to_values): Conv2d(256, 256, kernel_size=(1, 1), stride=(1, 1))\n",
              "            (unifyheads): Conv2d(256, 256, kernel_size=(1, 1), stride=(1, 1))\n",
              "          )\n",
              "          (2): Dropout(p=0.0, inplace=False)\n",
              "        )\n",
              "      )\n",
              "      (1): Residual(\n",
              "        (residual): Sequential(\n",
              "          (0): LayerNormChannels(\n",
              "            (norm): LayerNorm((256,), eps=1e-05, elementwise_affine=True)\n",
              "          )\n",
              "          (1): FeedForward(\n",
              "            (0): Conv2d(256, 1024, kernel_size=(1, 1), stride=(1, 1))\n",
              "            (1): GELU(approximate='none')\n",
              "            (2): Conv2d(1024, 256, kernel_size=(1, 1), stride=(1, 1))\n",
              "          )\n",
              "          (2): Dropout(p=0.0, inplace=False)\n",
              "        )\n",
              "      )\n",
              "    )\n",
              "    (7): TransformerBlock(\n",
              "      (0): Residual(\n",
              "        (residual): Sequential(\n",
              "          (0): LayerNormChannels(\n",
              "            (norm): LayerNorm((256,), eps=1e-05, elementwise_affine=True)\n",
              "          )\n",
              "          (1): SelfAttention2d(\n",
              "            (to_keys): Conv2d(256, 256, kernel_size=(1, 1), stride=(1, 1))\n",
              "            (to_queries): Conv2d(256, 256, kernel_size=(1, 1), stride=(1, 1))\n",
              "            (to_values): Conv2d(256, 256, kernel_size=(1, 1), stride=(1, 1))\n",
              "            (unifyheads): Conv2d(256, 256, kernel_size=(1, 1), stride=(1, 1))\n",
              "          )\n",
              "          (2): Dropout(p=0.0, inplace=False)\n",
              "        )\n",
              "      )\n",
              "      (1): Residual(\n",
              "        (residual): Sequential(\n",
              "          (0): LayerNormChannels(\n",
              "            (norm): LayerNorm((256,), eps=1e-05, elementwise_affine=True)\n",
              "          )\n",
              "          (1): FeedForward(\n",
              "            (0): Conv2d(256, 1024, kernel_size=(1, 1), stride=(1, 1))\n",
              "            (1): GELU(approximate='none')\n",
              "            (2): Conv2d(1024, 256, kernel_size=(1, 1), stride=(1, 1))\n",
              "          )\n",
              "          (2): Dropout(p=0.0, inplace=False)\n",
              "        )\n",
              "      )\n",
              "    )\n",
              "  )\n",
              "  (2): Head(\n",
              "    (0): LayerNormChannels(\n",
              "      (norm): LayerNorm((256,), eps=1e-05, elementwise_affine=True)\n",
              "    )\n",
              "    (1): GELU(approximate='none')\n",
              "    (2): AdaptiveAvgPool2d(output_size=1)\n",
              "    (3): Flatten(start_dim=1, end_dim=-1)\n",
              "    (4): Dropout(p=0.3, inplace=False)\n",
              "    (5): Linear(in_features=256, out_features=4, bias=True)\n",
              "  )\n",
              ")"
            ]
          },
          "execution_count": 20,
          "metadata": {},
          "output_type": "execute_result"
        }
      ],
      "source": [
        "model = ViT(args.NUM_CLASSES, args.IMAGE_SIZE, channels=args.CHANNELS, head_channels=args.HEAD_CHANNELS, num_blocks=args.NUM_BLOCKS, patch_size=args.PATCH_SIZE,\n",
        "               emb_p_drop=args.EMB_P_DROP, trans_p_drop=args.TRANS_P_DROP, head_p_drop=args.HEAD_P_DROP)\n",
        "model.to(device)"
      ]
    },
    {
      "cell_type": "code",
      "execution_count": null,
      "metadata": {
        "colab": {
          "base_uri": "https://localhost:8080/"
        },
        "id": "sUTNGm_jXGQe",
        "outputId": "4a1fcb34-8227-4075-d0db-3afa7744c815"
      },
      "outputs": [
        {
          "name": "stderr",
          "output_type": "stream",
          "text": [
            "WARNING:fvcore.nn.jit_analysis:Unsupported operator aten::gelu encountered 10 time(s)\n",
            "WARNING:fvcore.nn.jit_analysis:Unsupported operator aten::add encountered 25 time(s)\n",
            "WARNING:fvcore.nn.jit_analysis:Unsupported operator aten::mul encountered 40 time(s)\n",
            "WARNING:fvcore.nn.jit_analysis:Unsupported operator aten::unflatten encountered 8 time(s)\n",
            "WARNING:fvcore.nn.jit_analysis:Unsupported operator aten::softmax encountered 8 time(s)\n"
          ]
        },
        {
          "name": "stdout",
          "output_type": "stream",
          "text": [
            "total flops : 1893958656\n"
          ]
        },
        {
          "name": "stderr",
          "output_type": "stream",
          "text": [
            "WARNING:fvcore.nn.jit_analysis:Unsupported operator aten::gelu encountered 10 time(s)\n",
            "WARNING:fvcore.nn.jit_analysis:Unsupported operator aten::add encountered 25 time(s)\n",
            "WARNING:fvcore.nn.jit_analysis:Unsupported operator aten::layer_norm encountered 17 time(s)\n",
            "WARNING:fvcore.nn.jit_analysis:Unsupported operator aten::mul encountered 40 time(s)\n",
            "WARNING:fvcore.nn.jit_analysis:Unsupported operator aten::unflatten encountered 8 time(s)\n",
            "WARNING:fvcore.nn.jit_analysis:Unsupported operator aten::softmax encountered 8 time(s)\n",
            "WARNING:fvcore.nn.jit_analysis:Unsupported operator aten::adaptive_avg_pool2d encountered 1 time(s)\n"
          ]
        },
        {
          "name": "stdout",
          "output_type": "stream",
          "text": [
            "total activations: 9535492\n",
            "number of parameter: 6480596\n",
            "| module   | #parameters or shape   | #flops   |\n",
            "|:---------|:-----------------------|:---------|\n",
            "| model    | 6.481M                 | 1.894G   |\n",
            "|  0       |  99.456K               |  9.273M  |\n",
            "|  1       |  6.38M                 |  1.884G  |\n",
            "|  2       |  1.54K                 |  0.394M  |\n"
          ]
        }
      ],
      "source": [
        "import warnings\n",
        "warnings.filterwarnings(\"ignore\")\n",
        "\n",
        "if __name__ == \"__main__\":\n",
        "    DEVICE = torch.device(\"cuda\") if torch.cuda.is_available() else torch.device(\"cpu\")\n",
        "    model = ViT(args.NUM_CLASSES, args.IMAGE_SIZE, channels=args.CHANNELS, head_channels=args.HEAD_CHANNELS, num_blocks=args.NUM_BLOCKS, patch_size=args.PATCH_SIZE,\n",
        "               emb_p_drop=args.EMB_P_DROP, trans_p_drop=args.TRANS_P_DROP, head_p_drop=args.HEAD_P_DROP).to(DEVICE)\n",
        "    model.eval()\n",
        "    inputs = torch.randn(1, 3, 32, 32).to(DEVICE)\n",
        "    model(inputs)\n",
        "\n",
        "    from fvcore.nn import FlopCountAnalysis, ActivationCountAnalysis, flop_count_table\n",
        "\n",
        "    flops = FlopCountAnalysis(model, inputs)\n",
        "    param = sum(p.numel() for p in model.parameters() if p.requires_grad)\n",
        "    acts = ActivationCountAnalysis(model, inputs)\n",
        "\n",
        "    print(f\"total flops : {flops.total()}\")\n",
        "    print(f\"total activations: {acts.total()}\")\n",
        "    print(f\"number of parameter: {param}\")\n",
        "\n",
        "    print(flop_count_table(flops, max_depth=1))"
      ]
    },
    {
      "cell_type": "code",
      "execution_count": null,
      "metadata": {
        "id": "EVzT84AFXGOc"
      },
      "outputs": [],
      "source": [
        "# Wrapper for Adam parameters and optimizer\n",
        "def separate_weight_decayable_params(params):\n",
        "    wd_params, no_wd_params = [], []\n",
        "\n",
        "    for param in params:\n",
        "        param_list = no_wd_params if param.ndim < 2 else wd_params\n",
        "        param_list.append(param)\n",
        "\n",
        "    return wd_params, no_wd_params\n",
        "\n",
        "def get_adam_optimizer(\n",
        "    params,\n",
        "    lr: float = 1e-4,\n",
        "    wd: float = 1e-2,\n",
        "    betas: Tuple[int, int] = (0.9, 0.99),\n",
        "    eps: float = 1e-8,\n",
        "    filter_by_requires_grad = False,\n",
        "    omit_gammas_and_betas_from_wd = True,\n",
        "    **kwargs\n",
        "):\n",
        "    has_weight_decay = wd > 0.\n",
        "\n",
        "    if filter_by_requires_grad:\n",
        "        params = [t for t in params if t.requires_grad]\n",
        "\n",
        "    opt_kwargs = dict(\n",
        "        lr = lr,\n",
        "        betas = betas,\n",
        "        eps = eps\n",
        "    )\n",
        "\n",
        "    if not has_weight_decay:\n",
        "        return Adam(params, **opt_kwargs)\n",
        "\n",
        "    opt_kwargs = {'weight_decay': wd, **opt_kwargs}\n",
        "\n",
        "    if not omit_gammas_and_betas_from_wd:\n",
        "        return AdamW(params, **opt_kwargs)\n",
        "\n",
        "    wd_params, no_wd_params = separate_weight_decayable_params(params)\n",
        "\n",
        "    params = [\n",
        "        {'params': wd_params},\n",
        "        {'params': no_wd_params, 'weight_decay': 0},\n",
        "    ]\n",
        "\n",
        "    return AdamW(params, **opt_kwargs)"
      ]
    },
    {
      "cell_type": "markdown",
      "metadata": {
        "id": "8hLWlwAfDWEc"
      },
      "source": [
        "Note we use mixed-precision training for this assignment. I wouldn't expect a massive difference in accuracy from this on CIFAR-10."
      ]
    },
    {
      "cell_type": "code",
      "execution_count": null,
      "metadata": {
        "id": "Bx8mckDMaecP"
      },
      "outputs": [],
      "source": [
        "def eval_epoch(net, testloader, criterion, task, scaler, ema=None):\n",
        "    if ema:\n",
        "        with ema.average_parameters():\n",
        "            net.eval()\n",
        "    else:\n",
        "        net.eval()\n",
        "\n",
        "    correct = 0\n",
        "    total = 0\n",
        "    total_loss = 0.0\n",
        "\n",
        "    with torch.no_grad():\n",
        "        for images, images_rotated, labels, cls_labels in testloader:\n",
        "            if task == 'rotation':\n",
        "                images, labels = images_rotated.to(device), labels.to(device)\n",
        "            elif task == 'classification':\n",
        "                images, labels = images.to(device), cls_labels.to(device)\n",
        "\n",
        "            with autocast():\n",
        "                outputs = net(images)\n",
        "                loss = criterion(outputs, labels)\n",
        "\n",
        "            total_loss += loss.item()\n",
        "            _, predicted = torch.max(outputs.data, 1)\n",
        "            total += labels.size(0)\n",
        "            correct += (predicted == labels).sum().item()\n",
        "\n",
        "    avg_test_loss = total_loss / len(testloader)\n",
        "    accuracy = 100 * correct / total\n",
        "\n",
        "    log_prefix = \"EMA \" if ema else \"\"\n",
        "    wandb.log({f\"{log_prefix}Test Loss\": avg_test_loss, f\"{log_prefix}Test Accuracy\": accuracy})\n",
        "\n",
        "    print(f'TESTING{\" WITH EMA\" if ema else \"\"}:')\n",
        "    print(f'Accuracy of the network on the test images: {accuracy:.2f} %')\n",
        "    print(f'Average loss on the test images: {avg_test_loss:.3f}')\n",
        "\n",
        "    return avg_test_loss, accuracy\n",
        "\n",
        "def train(net, criterion, optimizer, num_epochs, lr_scheduler, init_lr, task, trainloader, testloader, model_path, ema=None):\n",
        "    lowest_loss = float('inf')\n",
        "    best_accuracy = 0.0\n",
        "    scaler = GradScaler()\n",
        "\n",
        "    wandb.init(project=\"cs_mp3\", entity=\"jdeklerk10\")\n",
        "\n",
        "    print(f'TRAINING{\" WITH EMA\" if ema else \" WITHOUT EMA\"}:')\n",
        "\n",
        "    for epoch in range(num_epochs):\n",
        "        running_loss = 0.0\n",
        "        running_correct = 0.0\n",
        "        running_total = 0.0\n",
        "        start_time = time.time()\n",
        "\n",
        "        net.train()\n",
        "        for i, (imgs, imgs_rotated, rotation_label, cls_label) in enumerate(tqdm(trainloader, desc=f'Epoch {epoch+1}/{num_epochs}', unit='batch'), 0):\n",
        "\n",
        "            if task == 'rotation':\n",
        "                inputs, labels = imgs_rotated.to(device), rotation_label.to(device)\n",
        "            elif task == 'classification':\n",
        "                inputs, labels = imgs.to(device), cls_label.to(device)\n",
        "\n",
        "            optimizer.zero_grad()\n",
        "\n",
        "            with autocast():\n",
        "                outputs = net(inputs)\n",
        "                loss = criterion(outputs, labels)\n",
        "\n",
        "            scaler.scale(loss).backward()\n",
        "            clip_grad_norm_(net.parameters(), max_norm=1.0)\n",
        "            scaler.step(optimizer)\n",
        "\n",
        "            if ema:\n",
        "                ema.update()\n",
        "            scaler.update()\n",
        "\n",
        "            lr_scheduler.step()\n",
        "            current_lr = optimizer.param_groups[0]['lr']\n",
        "\n",
        "            _, predicted = torch.max(outputs.data, 1)\n",
        "            running_loss += loss.item()\n",
        "            running_total += labels.size(0)\n",
        "            running_correct += (predicted == labels).sum().item()\n",
        "\n",
        "        avg_loss = running_loss / len(trainloader)\n",
        "        avg_acc = 100 * running_correct / running_total\n",
        "\n",
        "        wandb.log({\"Epoch\": epoch + 1, \"Loss\": avg_loss, \"Accuracy\": avg_acc, \"Learning Rate\": current_lr})\n",
        "\n",
        "        print(f'\\nEpoch {epoch+1} finished: Avg. Loss: {avg_loss:.3f}, Avg. Acc.: {avg_acc:.2f}%, Time: {time.time() - start_time:.2f}s')\n",
        "\n",
        "        test_loss, test_accuracy = eval_epoch(net, testloader, criterion, task, scaler, ema)\n",
        "        if test_loss < lowest_loss:\n",
        "            lowest_loss = test_loss\n",
        "            best_accuracy = test_accuracy\n",
        "            torch.save(net.state_dict(), model_path)\n",
        "\n",
        "            wandb.log({\"Best Test Loss\": lowest_loss, \"Best Accuracy\": best_accuracy})\n",
        "        print(f'New lowest test loss: {lowest_loss:.4f} with accuracy: {best_accuracy:.2f}%')\n",
        "\n",
        "    print(f'Finished Training. Best Test Loss: {lowest_loss:.4f}, Best Accuracy: {best_accuracy:.2f}%')\n",
        "    wandb.finish()"
      ]
    },
    {
      "cell_type": "markdown",
      "metadata": {
        "id": "s0hCOMS4PE8y"
      },
      "source": [
        "## Rotation ViT"
      ]
    },
    {
      "cell_type": "markdown",
      "metadata": {
        "id": "ylGiqxetxoEb"
      },
      "source": [
        "From my experience, ViTs typically take longer to reach ResNet level accuracy. So with that in mind, we will train the ViT for slightly more epochs and use a learning rate scheduler that differs from the one we used in the assignment. We will use the OneCycleLR scheduler because I've gotten better results with it than cosine annealing with ViTs in particular."
      ]
    },
    {
      "cell_type": "code",
      "execution_count": null,
      "metadata": {
        "colab": {
          "background_save": true,
          "base_uri": "https://localhost:8080/",
          "height": 1000,
          "referenced_widgets": [
            "1c4a0c02d48f4ef6a3e0cd9ccf0ee76e",
            "5a25154a7ec8484aa03c9b4c8a021008",
            "b5cffa0ddadb4098a59863977e66af33",
            "818084feb1294988a41dea60b46382f7"
          ]
        },
        "id": "35K5mQRQX398",
        "outputId": "beed18d7-424f-4075-c51d-ba12a4c5e1d2"
      },
      "outputs": [
        {
          "name": "stdout",
          "output_type": "stream",
          "text": [
            "\n",
            "--- GPU Information ---\n",
            "\n",
            "Model is using device: cuda\n",
            "CUDA Device: Tesla V100-SXM2-16GB\n",
            "Total Memory: 16151.125 MB\n",
            "\n",
            "--- Preparing Data for Rotation Task ---\n",
            "\n",
            "Files already downloaded and verified\n",
            "Files already downloaded and verified\n",
            "\n",
            "--- Training ViT on Rotation Task ---\n",
            "\n"
          ]
        },
        {
          "data": {
            "application/javascript": "\n        window._wandbApiKey = new Promise((resolve, reject) => {\n            function loadScript(url) {\n            return new Promise(function(resolve, reject) {\n                let newScript = document.createElement(\"script\");\n                newScript.onerror = reject;\n                newScript.onload = resolve;\n                document.body.appendChild(newScript);\n                newScript.src = url;\n            });\n            }\n            loadScript(\"https://cdn.jsdelivr.net/npm/postmate/build/postmate.min.js\").then(() => {\n            const iframe = document.createElement('iframe')\n            iframe.style.cssText = \"width:0;height:0;border:none\"\n            document.body.appendChild(iframe)\n            const handshake = new Postmate({\n                container: iframe,\n                url: 'https://wandb.ai/authorize'\n            });\n            const timeout = setTimeout(() => reject(\"Couldn't auto authenticate\"), 5000)\n            handshake.then(function(child) {\n                child.on('authorize', data => {\n                    clearTimeout(timeout)\n                    resolve(data)\n                });\n            });\n            })\n        });\n    ",
            "text/plain": [
              "<IPython.core.display.Javascript object>"
            ]
          },
          "metadata": {},
          "output_type": "display_data"
        },
        {
          "name": "stderr",
          "output_type": "stream",
          "text": [
            "\u001b[34m\u001b[1mwandb\u001b[0m: Logging into wandb.ai. (Learn how to deploy a W&B server locally: https://wandb.me/wandb-server)\n",
            "\u001b[34m\u001b[1mwandb\u001b[0m: You can find your API key in your browser here: https://wandb.ai/authorize\n",
            "wandb: Paste an API key from your profile and hit enter, or press ctrl+c to quit:\u001b[34m\u001b[1mwandb\u001b[0m: Appending key for api.wandb.ai to your netrc file: /root/.netrc\n"
          ]
        },
        {
          "data": {
            "text/html": [
              "Tracking run with wandb version 0.16.4"
            ],
            "text/plain": [
              "<IPython.core.display.HTML object>"
            ]
          },
          "metadata": {},
          "output_type": "display_data"
        },
        {
          "data": {
            "text/html": [
              "Run data is saved locally in <code>/content/drive/MyDrive/assignment3/wandb/run-20240320_204801-tnw24l5i</code>"
            ],
            "text/plain": [
              "<IPython.core.display.HTML object>"
            ]
          },
          "metadata": {},
          "output_type": "display_data"
        },
        {
          "data": {
            "text/html": [
              "Syncing run <strong><a href='https://wandb.ai/jdeklerk10/cs_mp3/runs/tnw24l5i' target=\"_blank\">hearty-gorge-24</a></strong> to <a href='https://wandb.ai/jdeklerk10/cs_mp3' target=\"_blank\">Weights & Biases</a> (<a href='https://wandb.me/run' target=\"_blank\">docs</a>)<br/>"
            ],
            "text/plain": [
              "<IPython.core.display.HTML object>"
            ]
          },
          "metadata": {},
          "output_type": "display_data"
        },
        {
          "data": {
            "text/html": [
              " View project at <a href='https://wandb.ai/jdeklerk10/cs_mp3' target=\"_blank\">https://wandb.ai/jdeklerk10/cs_mp3</a>"
            ],
            "text/plain": [
              "<IPython.core.display.HTML object>"
            ]
          },
          "metadata": {},
          "output_type": "display_data"
        },
        {
          "data": {
            "text/html": [
              " View run at <a href='https://wandb.ai/jdeklerk10/cs_mp3/runs/tnw24l5i' target=\"_blank\">https://wandb.ai/jdeklerk10/cs_mp3/runs/tnw24l5i</a>"
            ],
            "text/plain": [
              "<IPython.core.display.HTML object>"
            ]
          },
          "metadata": {},
          "output_type": "display_data"
        },
        {
          "name": "stdout",
          "output_type": "stream",
          "text": [
            "TRAINING WITHOUT EMA:\n"
          ]
        },
        {
          "name": "stderr",
          "output_type": "stream",
          "text": [
            "Epoch 1/60: 100%|██████████| 391/391 [01:07<00:00,  5.75batch/s]"
          ]
        },
        {
          "name": "stdout",
          "output_type": "stream",
          "text": [
            "\n",
            "Epoch 1 finished: Avg. Loss: 1.455, Avg. Acc.: 25.52%, Time: 67.97s\n"
          ]
        },
        {
          "name": "stderr",
          "output_type": "stream",
          "text": [
            "\n"
          ]
        },
        {
          "name": "stdout",
          "output_type": "stream",
          "text": [
            "TESTING:\n",
            "Accuracy of the network on the test images: 29.15 %\n",
            "Average loss on the test images: 1.381\n",
            "New lowest test loss: 1.3815 with accuracy: 29.15%\n"
          ]
        },
        {
          "name": "stderr",
          "output_type": "stream",
          "text": [
            "Epoch 2/60: 100%|██████████| 391/391 [01:05<00:00,  6.00batch/s]"
          ]
        },
        {
          "name": "stdout",
          "output_type": "stream",
          "text": [
            "\n",
            "Epoch 2 finished: Avg. Loss: 1.420, Avg. Acc.: 26.41%, Time: 65.13s\n"
          ]
        },
        {
          "name": "stderr",
          "output_type": "stream",
          "text": [
            "\n"
          ]
        },
        {
          "name": "stdout",
          "output_type": "stream",
          "text": [
            "TESTING:\n",
            "Accuracy of the network on the test images: 35.39 %\n",
            "Average loss on the test images: 1.370\n",
            "New lowest test loss: 1.3701 with accuracy: 35.39%\n"
          ]
        },
        {
          "name": "stderr",
          "output_type": "stream",
          "text": [
            "Epoch 3/60: 100%|██████████| 391/391 [01:05<00:00,  6.01batch/s]"
          ]
        },
        {
          "name": "stdout",
          "output_type": "stream",
          "text": [
            "\n",
            "Epoch 3 finished: Avg. Loss: 1.398, Avg. Acc.: 27.78%, Time: 65.11s\n"
          ]
        },
        {
          "name": "stderr",
          "output_type": "stream",
          "text": [
            "\n"
          ]
        },
        {
          "name": "stdout",
          "output_type": "stream",
          "text": [
            "TESTING:\n",
            "Accuracy of the network on the test images: 38.96 %\n",
            "Average loss on the test images: 1.358\n",
            "New lowest test loss: 1.3579 with accuracy: 38.96%\n"
          ]
        },
        {
          "name": "stderr",
          "output_type": "stream",
          "text": [
            "Epoch 4/60: 100%|██████████| 391/391 [01:04<00:00,  6.03batch/s]"
          ]
        },
        {
          "name": "stdout",
          "output_type": "stream",
          "text": [
            "\n",
            "Epoch 4 finished: Avg. Loss: 1.373, Avg. Acc.: 31.02%, Time: 64.87s\n"
          ]
        },
        {
          "name": "stderr",
          "output_type": "stream",
          "text": [
            "\n"
          ]
        },
        {
          "name": "stdout",
          "output_type": "stream",
          "text": [
            "TESTING:\n",
            "Accuracy of the network on the test images: 40.28 %\n",
            "Average loss on the test images: 1.335\n",
            "New lowest test loss: 1.3348 with accuracy: 40.28%\n"
          ]
        },
        {
          "name": "stderr",
          "output_type": "stream",
          "text": [
            "Epoch 5/60: 100%|██████████| 391/391 [01:04<00:00,  6.02batch/s]"
          ]
        },
        {
          "name": "stdout",
          "output_type": "stream",
          "text": [
            "\n",
            "Epoch 5 finished: Avg. Loss: 1.334, Avg. Acc.: 36.10%, Time: 64.94s\n"
          ]
        },
        {
          "name": "stderr",
          "output_type": "stream",
          "text": [
            "\n"
          ]
        },
        {
          "name": "stdout",
          "output_type": "stream",
          "text": [
            "TESTING:\n",
            "Accuracy of the network on the test images: 44.08 %\n",
            "Average loss on the test images: 1.272\n",
            "New lowest test loss: 1.2724 with accuracy: 44.08%\n"
          ]
        },
        {
          "name": "stderr",
          "output_type": "stream",
          "text": [
            "Epoch 6/60: 100%|██████████| 391/391 [01:05<00:00,  6.01batch/s]"
          ]
        },
        {
          "name": "stdout",
          "output_type": "stream",
          "text": [
            "\n",
            "Epoch 6 finished: Avg. Loss: 1.278, Avg. Acc.: 41.98%, Time: 65.01s\n"
          ]
        },
        {
          "name": "stderr",
          "output_type": "stream",
          "text": [
            "\n"
          ]
        },
        {
          "name": "stdout",
          "output_type": "stream",
          "text": [
            "TESTING:\n",
            "Accuracy of the network on the test images: 47.24 %\n",
            "Average loss on the test images: 1.220\n",
            "New lowest test loss: 1.2196 with accuracy: 47.24%\n"
          ]
        },
        {
          "name": "stderr",
          "output_type": "stream",
          "text": [
            "Epoch 7/60: 100%|██████████| 391/391 [01:05<00:00,  6.01batch/s]"
          ]
        },
        {
          "name": "stdout",
          "output_type": "stream",
          "text": [
            "\n",
            "Epoch 7 finished: Avg. Loss: 1.230, Avg. Acc.: 46.05%, Time: 65.08s\n"
          ]
        },
        {
          "name": "stderr",
          "output_type": "stream",
          "text": [
            "\n"
          ]
        },
        {
          "name": "stdout",
          "output_type": "stream",
          "text": [
            "TESTING:\n",
            "Accuracy of the network on the test images: 48.63 %\n",
            "Average loss on the test images: 1.195\n",
            "New lowest test loss: 1.1955 with accuracy: 48.63%\n"
          ]
        },
        {
          "name": "stderr",
          "output_type": "stream",
          "text": [
            "Epoch 8/60: 100%|██████████| 391/391 [01:05<00:00,  6.00batch/s]"
          ]
        },
        {
          "name": "stdout",
          "output_type": "stream",
          "text": [
            "\n",
            "Epoch 8 finished: Avg. Loss: 1.195, Avg. Acc.: 48.44%, Time: 65.15s\n"
          ]
        },
        {
          "name": "stderr",
          "output_type": "stream",
          "text": [
            "\n"
          ]
        },
        {
          "name": "stdout",
          "output_type": "stream",
          "text": [
            "TESTING:\n",
            "Accuracy of the network on the test images: 49.52 %\n",
            "Average loss on the test images: 1.179\n",
            "New lowest test loss: 1.1789 with accuracy: 49.52%\n"
          ]
        },
        {
          "name": "stderr",
          "output_type": "stream",
          "text": [
            "Epoch 9/60: 100%|██████████| 391/391 [01:05<00:00,  5.97batch/s]"
          ]
        },
        {
          "name": "stdout",
          "output_type": "stream",
          "text": [
            "\n",
            "Epoch 9 finished: Avg. Loss: 1.164, Avg. Acc.: 50.77%, Time: 65.45s\n"
          ]
        },
        {
          "name": "stderr",
          "output_type": "stream",
          "text": [
            "\n"
          ]
        },
        {
          "name": "stdout",
          "output_type": "stream",
          "text": [
            "TESTING:\n",
            "Accuracy of the network on the test images: 54.77 %\n",
            "Average loss on the test images: 1.102\n",
            "New lowest test loss: 1.1015 with accuracy: 54.77%\n"
          ]
        },
        {
          "name": "stderr",
          "output_type": "stream",
          "text": [
            "Epoch 10/60: 100%|██████████| 391/391 [01:05<00:00,  5.99batch/s]"
          ]
        },
        {
          "name": "stdout",
          "output_type": "stream",
          "text": [
            "\n",
            "Epoch 10 finished: Avg. Loss: 1.125, Avg. Acc.: 53.72%, Time: 65.34s\n"
          ]
        },
        {
          "name": "stderr",
          "output_type": "stream",
          "text": [
            "\n"
          ]
        },
        {
          "name": "stdout",
          "output_type": "stream",
          "text": [
            "TESTING:\n",
            "Accuracy of the network on the test images: 56.95 %\n",
            "Average loss on the test images: 1.082\n",
            "New lowest test loss: 1.0820 with accuracy: 56.95%\n"
          ]
        },
        {
          "name": "stderr",
          "output_type": "stream",
          "text": [
            "Epoch 11/60: 100%|██████████| 391/391 [01:05<00:00,  5.99batch/s]"
          ]
        },
        {
          "name": "stdout",
          "output_type": "stream",
          "text": [
            "\n",
            "Epoch 11 finished: Avg. Loss: 1.098, Avg. Acc.: 55.75%, Time: 65.33s\n"
          ]
        },
        {
          "name": "stderr",
          "output_type": "stream",
          "text": [
            "\n"
          ]
        },
        {
          "name": "stdout",
          "output_type": "stream",
          "text": [
            "TESTING:\n",
            "Accuracy of the network on the test images: 56.37 %\n",
            "Average loss on the test images: 1.083\n",
            "New lowest test loss: 1.0820 with accuracy: 56.95%\n"
          ]
        },
        {
          "name": "stderr",
          "output_type": "stream",
          "text": [
            "Epoch 12/60: 100%|██████████| 391/391 [01:05<00:00,  5.99batch/s]"
          ]
        },
        {
          "name": "stdout",
          "output_type": "stream",
          "text": [
            "\n",
            "Epoch 12 finished: Avg. Loss: 1.068, Avg. Acc.: 57.94%, Time: 65.33s\n"
          ]
        },
        {
          "name": "stderr",
          "output_type": "stream",
          "text": [
            "\n"
          ]
        },
        {
          "name": "stdout",
          "output_type": "stream",
          "text": [
            "TESTING:\n",
            "Accuracy of the network on the test images: 57.87 %\n",
            "Average loss on the test images: 1.067\n",
            "New lowest test loss: 1.0674 with accuracy: 57.87%\n"
          ]
        },
        {
          "name": "stderr",
          "output_type": "stream",
          "text": [
            "Epoch 13/60: 100%|██████████| 391/391 [01:05<00:00,  6.00batch/s]"
          ]
        },
        {
          "name": "stdout",
          "output_type": "stream",
          "text": [
            "\n",
            "Epoch 13 finished: Avg. Loss: 1.041, Avg. Acc.: 59.69%, Time: 65.20s\n"
          ]
        },
        {
          "name": "stderr",
          "output_type": "stream",
          "text": [
            "\n"
          ]
        },
        {
          "name": "stdout",
          "output_type": "stream",
          "text": [
            "TESTING:\n",
            "Accuracy of the network on the test images: 60.58 %\n",
            "Average loss on the test images: 1.018\n",
            "New lowest test loss: 1.0177 with accuracy: 60.58%\n"
          ]
        },
        {
          "name": "stderr",
          "output_type": "stream",
          "text": [
            "Epoch 14/60: 100%|██████████| 391/391 [01:05<00:00,  6.00batch/s]"
          ]
        },
        {
          "name": "stdout",
          "output_type": "stream",
          "text": [
            "\n",
            "Epoch 14 finished: Avg. Loss: 1.024, Avg. Acc.: 60.78%, Time: 65.19s\n"
          ]
        },
        {
          "name": "stderr",
          "output_type": "stream",
          "text": [
            "\n"
          ]
        },
        {
          "name": "stdout",
          "output_type": "stream",
          "text": [
            "TESTING:\n",
            "Accuracy of the network on the test images: 62.80 %\n",
            "Average loss on the test images: 0.994\n",
            "New lowest test loss: 0.9937 with accuracy: 62.80%\n"
          ]
        },
        {
          "name": "stderr",
          "output_type": "stream",
          "text": [
            "Epoch 15/60: 100%|██████████| 391/391 [01:05<00:00,  6.00batch/s]"
          ]
        },
        {
          "name": "stdout",
          "output_type": "stream",
          "text": [
            "\n",
            "Epoch 15 finished: Avg. Loss: 1.003, Avg. Acc.: 62.16%, Time: 65.13s\n"
          ]
        },
        {
          "name": "stderr",
          "output_type": "stream",
          "text": [
            "\n"
          ]
        },
        {
          "name": "stdout",
          "output_type": "stream",
          "text": [
            "TESTING:\n",
            "Accuracy of the network on the test images: 64.63 %\n",
            "Average loss on the test images: 0.970\n",
            "New lowest test loss: 0.9702 with accuracy: 64.63%\n"
          ]
        },
        {
          "name": "stderr",
          "output_type": "stream",
          "text": [
            "Epoch 16/60: 100%|██████████| 391/391 [01:05<00:00,  6.00batch/s]"
          ]
        },
        {
          "name": "stdout",
          "output_type": "stream",
          "text": [
            "\n",
            "Epoch 16 finished: Avg. Loss: 0.990, Avg. Acc.: 63.10%, Time: 65.14s\n"
          ]
        },
        {
          "name": "stderr",
          "output_type": "stream",
          "text": [
            "\n"
          ]
        },
        {
          "name": "stdout",
          "output_type": "stream",
          "text": [
            "TESTING:\n",
            "Accuracy of the network on the test images: 65.45 %\n",
            "Average loss on the test images: 0.947\n",
            "New lowest test loss: 0.9471 with accuracy: 65.45%\n"
          ]
        },
        {
          "name": "stderr",
          "output_type": "stream",
          "text": [
            "Epoch 17/60: 100%|██████████| 391/391 [01:05<00:00,  6.00batch/s]"
          ]
        },
        {
          "name": "stdout",
          "output_type": "stream",
          "text": [
            "\n",
            "Epoch 17 finished: Avg. Loss: 0.973, Avg. Acc.: 64.15%, Time: 65.22s\n"
          ]
        },
        {
          "name": "stderr",
          "output_type": "stream",
          "text": [
            "\n"
          ]
        },
        {
          "name": "stdout",
          "output_type": "stream",
          "text": [
            "TESTING:\n",
            "Accuracy of the network on the test images: 65.34 %\n",
            "Average loss on the test images: 0.955\n",
            "New lowest test loss: 0.9471 with accuracy: 65.45%\n"
          ]
        },
        {
          "name": "stderr",
          "output_type": "stream",
          "text": [
            "Epoch 18/60: 100%|██████████| 391/391 [01:05<00:00,  6.00batch/s]"
          ]
        },
        {
          "name": "stdout",
          "output_type": "stream",
          "text": [
            "\n",
            "Epoch 18 finished: Avg. Loss: 0.963, Avg. Acc.: 65.17%, Time: 65.22s\n"
          ]
        },
        {
          "name": "stderr",
          "output_type": "stream",
          "text": [
            "\n"
          ]
        },
        {
          "name": "stdout",
          "output_type": "stream",
          "text": [
            "TESTING:\n",
            "Accuracy of the network on the test images: 67.38 %\n",
            "Average loss on the test images: 0.928\n",
            "New lowest test loss: 0.9279 with accuracy: 67.38%\n"
          ]
        },
        {
          "name": "stderr",
          "output_type": "stream",
          "text": [
            "Epoch 19/60: 100%|██████████| 391/391 [01:05<00:00,  6.00batch/s]"
          ]
        },
        {
          "name": "stdout",
          "output_type": "stream",
          "text": [
            "\n",
            "Epoch 19 finished: Avg. Loss: 0.939, Avg. Acc.: 66.58%, Time: 65.13s\n"
          ]
        },
        {
          "name": "stderr",
          "output_type": "stream",
          "text": [
            "\n"
          ]
        },
        {
          "name": "stdout",
          "output_type": "stream",
          "text": [
            "TESTING:\n",
            "Accuracy of the network on the test images: 65.95 %\n",
            "Average loss on the test images: 0.943\n",
            "New lowest test loss: 0.9279 with accuracy: 67.38%\n"
          ]
        },
        {
          "name": "stderr",
          "output_type": "stream",
          "text": [
            "Epoch 20/60: 100%|██████████| 391/391 [01:05<00:00,  6.01batch/s]"
          ]
        },
        {
          "name": "stdout",
          "output_type": "stream",
          "text": [
            "\n",
            "Epoch 20 finished: Avg. Loss: 0.932, Avg. Acc.: 67.04%, Time: 65.07s\n"
          ]
        },
        {
          "name": "stderr",
          "output_type": "stream",
          "text": [
            "\n"
          ]
        },
        {
          "name": "stdout",
          "output_type": "stream",
          "text": [
            "TESTING:\n",
            "Accuracy of the network on the test images: 69.49 %\n",
            "Average loss on the test images: 0.895\n",
            "New lowest test loss: 0.8955 with accuracy: 69.49%\n"
          ]
        },
        {
          "name": "stderr",
          "output_type": "stream",
          "text": [
            "Epoch 21/60: 100%|██████████| 391/391 [01:05<00:00,  6.01batch/s]"
          ]
        },
        {
          "name": "stdout",
          "output_type": "stream",
          "text": [
            "\n",
            "Epoch 21 finished: Avg. Loss: 0.918, Avg. Acc.: 68.08%, Time: 65.10s\n"
          ]
        },
        {
          "name": "stderr",
          "output_type": "stream",
          "text": [
            "\n"
          ]
        },
        {
          "name": "stdout",
          "output_type": "stream",
          "text": [
            "TESTING:\n",
            "Accuracy of the network on the test images: 68.29 %\n",
            "Average loss on the test images: 0.918\n",
            "New lowest test loss: 0.8955 with accuracy: 69.49%\n"
          ]
        },
        {
          "name": "stderr",
          "output_type": "stream",
          "text": [
            "Epoch 22/60: 100%|██████████| 391/391 [01:05<00:00,  6.01batch/s]"
          ]
        },
        {
          "name": "stdout",
          "output_type": "stream",
          "text": [
            "\n",
            "Epoch 22 finished: Avg. Loss: 0.907, Avg. Acc.: 68.74%, Time: 65.10s\n"
          ]
        },
        {
          "name": "stderr",
          "output_type": "stream",
          "text": [
            "\n"
          ]
        },
        {
          "name": "stdout",
          "output_type": "stream",
          "text": [
            "TESTING:\n",
            "Accuracy of the network on the test images: 69.62 %\n",
            "Average loss on the test images: 0.894\n",
            "New lowest test loss: 0.8944 with accuracy: 69.62%\n"
          ]
        },
        {
          "name": "stderr",
          "output_type": "stream",
          "text": [
            "Epoch 23/60: 100%|██████████| 391/391 [01:05<00:00,  6.01batch/s]"
          ]
        },
        {
          "name": "stdout",
          "output_type": "stream",
          "text": [
            "\n",
            "Epoch 23 finished: Avg. Loss: 0.893, Avg. Acc.: 69.51%, Time: 65.05s\n"
          ]
        },
        {
          "name": "stderr",
          "output_type": "stream",
          "text": [
            "\n"
          ]
        },
        {
          "name": "stdout",
          "output_type": "stream",
          "text": [
            "TESTING:\n",
            "Accuracy of the network on the test images: 71.22 %\n",
            "Average loss on the test images: 0.865\n",
            "New lowest test loss: 0.8652 with accuracy: 71.22%\n"
          ]
        },
        {
          "name": "stderr",
          "output_type": "stream",
          "text": [
            "Epoch 24/60: 100%|██████████| 391/391 [01:05<00:00,  6.01batch/s]"
          ]
        },
        {
          "name": "stdout",
          "output_type": "stream",
          "text": [
            "\n",
            "Epoch 24 finished: Avg. Loss: 0.877, Avg. Acc.: 70.49%, Time: 65.05s\n"
          ]
        },
        {
          "name": "stderr",
          "output_type": "stream",
          "text": [
            "\n"
          ]
        },
        {
          "name": "stdout",
          "output_type": "stream",
          "text": [
            "TESTING:\n",
            "Accuracy of the network on the test images: 70.97 %\n",
            "Average loss on the test images: 0.877\n",
            "New lowest test loss: 0.8652 with accuracy: 71.22%\n"
          ]
        },
        {
          "name": "stderr",
          "output_type": "stream",
          "text": [
            "Epoch 25/60: 100%|██████████| 391/391 [01:05<00:00,  6.01batch/s]"
          ]
        },
        {
          "name": "stdout",
          "output_type": "stream",
          "text": [
            "\n",
            "Epoch 25 finished: Avg. Loss: 0.848, Avg. Acc.: 72.42%, Time: 65.03s\n"
          ]
        },
        {
          "name": "stderr",
          "output_type": "stream",
          "text": [
            "\n"
          ]
        },
        {
          "name": "stdout",
          "output_type": "stream",
          "text": [
            "TESTING:\n",
            "Accuracy of the network on the test images: 73.44 %\n",
            "Average loss on the test images: 0.828\n",
            "New lowest test loss: 0.8279 with accuracy: 73.44%\n"
          ]
        },
        {
          "name": "stderr",
          "output_type": "stream",
          "text": [
            "Epoch 26/60: 100%|██████████| 391/391 [01:05<00:00,  6.01batch/s]"
          ]
        },
        {
          "name": "stdout",
          "output_type": "stream",
          "text": [
            "\n",
            "Epoch 26 finished: Avg. Loss: 0.845, Avg. Acc.: 72.76%, Time: 65.02s\n"
          ]
        },
        {
          "name": "stderr",
          "output_type": "stream",
          "text": [
            "\n"
          ]
        },
        {
          "name": "stdout",
          "output_type": "stream",
          "text": [
            "TESTING:\n",
            "Accuracy of the network on the test images: 74.28 %\n",
            "Average loss on the test images: 0.812\n",
            "New lowest test loss: 0.8125 with accuracy: 74.28%\n"
          ]
        },
        {
          "name": "stderr",
          "output_type": "stream",
          "text": [
            "Epoch 27/60: 100%|██████████| 391/391 [01:05<00:00,  6.01batch/s]"
          ]
        },
        {
          "name": "stdout",
          "output_type": "stream",
          "text": [
            "\n",
            "Epoch 27 finished: Avg. Loss: 0.838, Avg. Acc.: 72.93%, Time: 65.12s\n"
          ]
        },
        {
          "name": "stderr",
          "output_type": "stream",
          "text": [
            "\n"
          ]
        },
        {
          "name": "stdout",
          "output_type": "stream",
          "text": [
            "TESTING:\n",
            "Accuracy of the network on the test images: 71.86 %\n",
            "Average loss on the test images: 0.852\n",
            "New lowest test loss: 0.8125 with accuracy: 74.28%\n"
          ]
        },
        {
          "name": "stderr",
          "output_type": "stream",
          "text": [
            "Epoch 28/60: 100%|██████████| 391/391 [01:05<00:00,  6.01batch/s]"
          ]
        },
        {
          "name": "stdout",
          "output_type": "stream",
          "text": [
            "\n",
            "Epoch 28 finished: Avg. Loss: 0.834, Avg. Acc.: 73.44%, Time: 65.04s\n"
          ]
        },
        {
          "name": "stderr",
          "output_type": "stream",
          "text": [
            "\n"
          ]
        },
        {
          "name": "stdout",
          "output_type": "stream",
          "text": [
            "TESTING:\n",
            "Accuracy of the network on the test images: 74.27 %\n",
            "Average loss on the test images: 0.813\n",
            "New lowest test loss: 0.8125 with accuracy: 74.28%\n"
          ]
        },
        {
          "name": "stderr",
          "output_type": "stream",
          "text": [
            "Epoch 29/60: 100%|██████████| 391/391 [01:05<00:00,  6.01batch/s]"
          ]
        },
        {
          "name": "stdout",
          "output_type": "stream",
          "text": [
            "\n",
            "Epoch 29 finished: Avg. Loss: 0.853, Avg. Acc.: 72.25%, Time: 65.08s\n"
          ]
        },
        {
          "name": "stderr",
          "output_type": "stream",
          "text": [
            "\n"
          ]
        },
        {
          "name": "stdout",
          "output_type": "stream",
          "text": [
            "TESTING:\n",
            "Accuracy of the network on the test images: 73.00 %\n",
            "Average loss on the test images: 0.836\n",
            "New lowest test loss: 0.8125 with accuracy: 74.28%\n"
          ]
        },
        {
          "name": "stderr",
          "output_type": "stream",
          "text": [
            "Epoch 30/60: 100%|██████████| 391/391 [01:05<00:00,  6.01batch/s]"
          ]
        },
        {
          "name": "stdout",
          "output_type": "stream",
          "text": [
            "\n",
            "Epoch 30 finished: Avg. Loss: 0.838, Avg. Acc.: 72.96%, Time: 65.03s\n"
          ]
        },
        {
          "name": "stderr",
          "output_type": "stream",
          "text": [
            "\n"
          ]
        },
        {
          "name": "stdout",
          "output_type": "stream",
          "text": [
            "TESTING:\n",
            "Accuracy of the network on the test images: 74.48 %\n",
            "Average loss on the test images: 0.808\n",
            "New lowest test loss: 0.8081 with accuracy: 74.48%\n"
          ]
        },
        {
          "name": "stderr",
          "output_type": "stream",
          "text": [
            "Epoch 31/60: 100%|██████████| 391/391 [01:05<00:00,  6.01batch/s]"
          ]
        },
        {
          "name": "stdout",
          "output_type": "stream",
          "text": [
            "\n",
            "Epoch 31 finished: Avg. Loss: 0.831, Avg. Acc.: 73.65%, Time: 65.10s\n"
          ]
        },
        {
          "name": "stderr",
          "output_type": "stream",
          "text": [
            "\n"
          ]
        },
        {
          "name": "stdout",
          "output_type": "stream",
          "text": [
            "TESTING:\n",
            "Accuracy of the network on the test images: 75.28 %\n",
            "Average loss on the test images: 0.806\n",
            "New lowest test loss: 0.8065 with accuracy: 75.28%\n"
          ]
        },
        {
          "name": "stderr",
          "output_type": "stream",
          "text": [
            "Epoch 32/60: 100%|██████████| 391/391 [01:05<00:00,  6.01batch/s]"
          ]
        },
        {
          "name": "stdout",
          "output_type": "stream",
          "text": [
            "\n",
            "Epoch 32 finished: Avg. Loss: 0.822, Avg. Acc.: 74.08%, Time: 65.09s\n"
          ]
        },
        {
          "name": "stderr",
          "output_type": "stream",
          "text": [
            "\n"
          ]
        },
        {
          "name": "stdout",
          "output_type": "stream",
          "text": [
            "TESTING:\n",
            "Accuracy of the network on the test images: 74.12 %\n",
            "Average loss on the test images: 0.813\n",
            "New lowest test loss: 0.8065 with accuracy: 75.28%\n"
          ]
        },
        {
          "name": "stderr",
          "output_type": "stream",
          "text": [
            "Epoch 33/60: 100%|██████████| 391/391 [01:05<00:00,  6.01batch/s]"
          ]
        },
        {
          "name": "stdout",
          "output_type": "stream",
          "text": [
            "\n",
            "Epoch 33 finished: Avg. Loss: 0.815, Avg. Acc.: 74.50%, Time: 65.10s\n"
          ]
        },
        {
          "name": "stderr",
          "output_type": "stream",
          "text": [
            "\n"
          ]
        },
        {
          "name": "stdout",
          "output_type": "stream",
          "text": [
            "TESTING:\n",
            "Accuracy of the network on the test images: 75.86 %\n",
            "Average loss on the test images: 0.787\n",
            "New lowest test loss: 0.7871 with accuracy: 75.86%\n"
          ]
        },
        {
          "name": "stderr",
          "output_type": "stream",
          "text": [
            "Epoch 34/60: 100%|██████████| 391/391 [01:05<00:00,  6.00batch/s]"
          ]
        },
        {
          "name": "stdout",
          "output_type": "stream",
          "text": [
            "\n",
            "Epoch 34 finished: Avg. Loss: 0.787, Avg. Acc.: 76.06%, Time: 65.15s\n"
          ]
        },
        {
          "name": "stderr",
          "output_type": "stream",
          "text": [
            "\n"
          ]
        },
        {
          "name": "stdout",
          "output_type": "stream",
          "text": [
            "TESTING:\n",
            "Accuracy of the network on the test images: 77.63 %\n",
            "Average loss on the test images: 0.753\n",
            "New lowest test loss: 0.7532 with accuracy: 77.63%\n"
          ]
        },
        {
          "name": "stderr",
          "output_type": "stream",
          "text": [
            "Epoch 35/60: 100%|██████████| 391/391 [01:05<00:00,  6.01batch/s]"
          ]
        },
        {
          "name": "stdout",
          "output_type": "stream",
          "text": [
            "\n",
            "Epoch 35 finished: Avg. Loss: 0.780, Avg. Acc.: 76.41%, Time: 65.08s\n"
          ]
        },
        {
          "name": "stderr",
          "output_type": "stream",
          "text": [
            "\n"
          ]
        },
        {
          "name": "stdout",
          "output_type": "stream",
          "text": [
            "TESTING:\n",
            "Accuracy of the network on the test images: 78.63 %\n",
            "Average loss on the test images: 0.742\n",
            "New lowest test loss: 0.7417 with accuracy: 78.63%\n"
          ]
        },
        {
          "name": "stderr",
          "output_type": "stream",
          "text": [
            "Epoch 36/60: 100%|██████████| 391/391 [01:05<00:00,  6.01batch/s]"
          ]
        },
        {
          "name": "stdout",
          "output_type": "stream",
          "text": [
            "\n",
            "Epoch 36 finished: Avg. Loss: 0.773, Avg. Acc.: 76.93%, Time: 65.09s\n"
          ]
        },
        {
          "name": "stderr",
          "output_type": "stream",
          "text": [
            "\n"
          ]
        },
        {
          "name": "stdout",
          "output_type": "stream",
          "text": [
            "TESTING:\n",
            "Accuracy of the network on the test images: 78.31 %\n",
            "Average loss on the test images: 0.747\n",
            "New lowest test loss: 0.7417 with accuracy: 78.63%\n"
          ]
        },
        {
          "name": "stderr",
          "output_type": "stream",
          "text": [
            "Epoch 37/60: 100%|██████████| 391/391 [01:05<00:00,  6.02batch/s]"
          ]
        },
        {
          "name": "stdout",
          "output_type": "stream",
          "text": [
            "\n",
            "Epoch 37 finished: Avg. Loss: 0.769, Avg. Acc.: 77.20%, Time: 65.01s\n"
          ]
        },
        {
          "name": "stderr",
          "output_type": "stream",
          "text": [
            "\n"
          ]
        },
        {
          "name": "stdout",
          "output_type": "stream",
          "text": [
            "TESTING:\n",
            "Accuracy of the network on the test images: 78.11 %\n",
            "Average loss on the test images: 0.744\n",
            "New lowest test loss: 0.7417 with accuracy: 78.63%\n"
          ]
        },
        {
          "name": "stderr",
          "output_type": "stream",
          "text": [
            "Epoch 38/60: 100%|██████████| 391/391 [01:04<00:00,  6.04batch/s]"
          ]
        },
        {
          "name": "stdout",
          "output_type": "stream",
          "text": [
            "\n",
            "Epoch 38 finished: Avg. Loss: 0.760, Avg. Acc.: 77.77%, Time: 64.75s\n"
          ]
        },
        {
          "name": "stderr",
          "output_type": "stream",
          "text": [
            "\n"
          ]
        },
        {
          "name": "stdout",
          "output_type": "stream",
          "text": [
            "TESTING:\n",
            "Accuracy of the network on the test images: 79.14 %\n",
            "Average loss on the test images: 0.738\n",
            "New lowest test loss: 0.7384 with accuracy: 79.14%\n"
          ]
        },
        {
          "name": "stderr",
          "output_type": "stream",
          "text": [
            "Epoch 39/60: 100%|██████████| 391/391 [01:04<00:00,  6.03batch/s]"
          ]
        },
        {
          "name": "stdout",
          "output_type": "stream",
          "text": [
            "\n",
            "Epoch 39 finished: Avg. Loss: 0.753, Avg. Acc.: 78.18%, Time: 64.82s\n"
          ]
        },
        {
          "name": "stderr",
          "output_type": "stream",
          "text": [
            "\n"
          ]
        },
        {
          "name": "stdout",
          "output_type": "stream",
          "text": [
            "TESTING:\n",
            "Accuracy of the network on the test images: 79.60 %\n",
            "Average loss on the test images: 0.724\n",
            "New lowest test loss: 0.7240 with accuracy: 79.60%\n"
          ]
        },
        {
          "name": "stderr",
          "output_type": "stream",
          "text": [
            "Epoch 40/60: 100%|██████████| 391/391 [01:04<00:00,  6.04batch/s]"
          ]
        },
        {
          "name": "stdout",
          "output_type": "stream",
          "text": [
            "\n",
            "Epoch 40 finished: Avg. Loss: 0.745, Avg. Acc.: 78.63%, Time: 64.73s\n"
          ]
        },
        {
          "name": "stderr",
          "output_type": "stream",
          "text": [
            "\n"
          ]
        },
        {
          "name": "stdout",
          "output_type": "stream",
          "text": [
            "TESTING:\n",
            "Accuracy of the network on the test images: 79.29 %\n",
            "Average loss on the test images: 0.732\n",
            "New lowest test loss: 0.7240 with accuracy: 79.60%\n"
          ]
        },
        {
          "name": "stderr",
          "output_type": "stream",
          "text": [
            "Epoch 41/60: 100%|██████████| 391/391 [01:04<00:00,  6.04batch/s]"
          ]
        },
        {
          "name": "stdout",
          "output_type": "stream",
          "text": [
            "\n",
            "Epoch 41 finished: Avg. Loss: 0.742, Avg. Acc.: 78.80%, Time: 64.73s\n"
          ]
        },
        {
          "name": "stderr",
          "output_type": "stream",
          "text": [
            "\n"
          ]
        },
        {
          "name": "stdout",
          "output_type": "stream",
          "text": [
            "TESTING:\n",
            "Accuracy of the network on the test images: 79.07 %\n",
            "Average loss on the test images: 0.731\n",
            "New lowest test loss: 0.7240 with accuracy: 79.60%\n"
          ]
        },
        {
          "name": "stderr",
          "output_type": "stream",
          "text": [
            "Epoch 42/60: 100%|██████████| 391/391 [01:04<00:00,  6.04batch/s]"
          ]
        },
        {
          "name": "stdout",
          "output_type": "stream",
          "text": [
            "\n",
            "Epoch 42 finished: Avg. Loss: 0.734, Avg. Acc.: 79.27%, Time: 64.74s\n"
          ]
        },
        {
          "name": "stderr",
          "output_type": "stream",
          "text": [
            "\n"
          ]
        },
        {
          "name": "stdout",
          "output_type": "stream",
          "text": [
            "TESTING:\n",
            "Accuracy of the network on the test images: 80.34 %\n",
            "Average loss on the test images: 0.709\n",
            "New lowest test loss: 0.7095 with accuracy: 80.34%\n"
          ]
        },
        {
          "name": "stderr",
          "output_type": "stream",
          "text": [
            "Epoch 43/60: 100%|██████████| 391/391 [01:04<00:00,  6.04batch/s]"
          ]
        },
        {
          "name": "stdout",
          "output_type": "stream",
          "text": [
            "\n",
            "Epoch 43 finished: Avg. Loss: 0.730, Avg. Acc.: 79.27%, Time: 64.72s\n"
          ]
        },
        {
          "name": "stderr",
          "output_type": "stream",
          "text": [
            "\n"
          ]
        },
        {
          "name": "stdout",
          "output_type": "stream",
          "text": [
            "TESTING:\n",
            "Accuracy of the network on the test images: 79.94 %\n",
            "Average loss on the test images: 0.713\n",
            "New lowest test loss: 0.7095 with accuracy: 80.34%\n"
          ]
        },
        {
          "name": "stderr",
          "output_type": "stream",
          "text": [
            "Epoch 44/60: 100%|██████████| 391/391 [01:04<00:00,  6.04batch/s]"
          ]
        },
        {
          "name": "stdout",
          "output_type": "stream",
          "text": [
            "\n",
            "Epoch 44 finished: Avg. Loss: 0.719, Avg. Acc.: 80.05%, Time: 64.75s\n"
          ]
        },
        {
          "name": "stderr",
          "output_type": "stream",
          "text": [
            "\n"
          ]
        },
        {
          "name": "stdout",
          "output_type": "stream",
          "text": [
            "TESTING:\n",
            "Accuracy of the network on the test images: 80.76 %\n",
            "Average loss on the test images: 0.707\n",
            "New lowest test loss: 0.7067 with accuracy: 80.76%\n"
          ]
        },
        {
          "name": "stderr",
          "output_type": "stream",
          "text": [
            "Epoch 45/60: 100%|██████████| 391/391 [01:04<00:00,  6.03batch/s]"
          ]
        },
        {
          "name": "stdout",
          "output_type": "stream",
          "text": [
            "\n",
            "Epoch 45 finished: Avg. Loss: 0.712, Avg. Acc.: 80.46%, Time: 64.81s\n"
          ]
        },
        {
          "name": "stderr",
          "output_type": "stream",
          "text": [
            "\n"
          ]
        },
        {
          "name": "stdout",
          "output_type": "stream",
          "text": [
            "TESTING:\n",
            "Accuracy of the network on the test images: 81.45 %\n",
            "Average loss on the test images: 0.694\n",
            "New lowest test loss: 0.6942 with accuracy: 81.45%\n"
          ]
        },
        {
          "name": "stderr",
          "output_type": "stream",
          "text": [
            "Epoch 46/60: 100%|██████████| 391/391 [01:04<00:00,  6.04batch/s]"
          ]
        },
        {
          "name": "stdout",
          "output_type": "stream",
          "text": [
            "\n",
            "Epoch 46 finished: Avg. Loss: 0.708, Avg. Acc.: 80.74%, Time: 64.79s\n"
          ]
        },
        {
          "name": "stderr",
          "output_type": "stream",
          "text": [
            "\n"
          ]
        },
        {
          "name": "stdout",
          "output_type": "stream",
          "text": [
            "TESTING:\n",
            "Accuracy of the network on the test images: 82.02 %\n",
            "Average loss on the test images: 0.686\n",
            "New lowest test loss: 0.6861 with accuracy: 82.02%\n"
          ]
        },
        {
          "name": "stderr",
          "output_type": "stream",
          "text": [
            "Epoch 47/60: 100%|██████████| 391/391 [01:04<00:00,  6.04batch/s]"
          ]
        },
        {
          "name": "stdout",
          "output_type": "stream",
          "text": [
            "\n",
            "Epoch 47 finished: Avg. Loss: 0.700, Avg. Acc.: 81.23%, Time: 64.78s\n"
          ]
        },
        {
          "name": "stderr",
          "output_type": "stream",
          "text": [
            "\n"
          ]
        },
        {
          "name": "stdout",
          "output_type": "stream",
          "text": [
            "TESTING:\n",
            "Accuracy of the network on the test images: 81.68 %\n",
            "Average loss on the test images: 0.688\n",
            "New lowest test loss: 0.6861 with accuracy: 82.02%\n"
          ]
        },
        {
          "name": "stderr",
          "output_type": "stream",
          "text": [
            "Epoch 48/60: 100%|██████████| 391/391 [01:04<00:00,  6.04batch/s]"
          ]
        },
        {
          "name": "stdout",
          "output_type": "stream",
          "text": [
            "\n",
            "Epoch 48 finished: Avg. Loss: 0.695, Avg. Acc.: 81.50%, Time: 64.78s\n"
          ]
        },
        {
          "name": "stderr",
          "output_type": "stream",
          "text": [
            "\n"
          ]
        },
        {
          "name": "stdout",
          "output_type": "stream",
          "text": [
            "TESTING:\n",
            "Accuracy of the network on the test images: 81.55 %\n",
            "Average loss on the test images: 0.688\n",
            "New lowest test loss: 0.6861 with accuracy: 82.02%\n"
          ]
        },
        {
          "name": "stderr",
          "output_type": "stream",
          "text": [
            "Epoch 49/60: 100%|██████████| 391/391 [01:04<00:00,  6.03batch/s]"
          ]
        },
        {
          "name": "stdout",
          "output_type": "stream",
          "text": [
            "\n",
            "Epoch 49 finished: Avg. Loss: 0.687, Avg. Acc.: 82.00%, Time: 64.83s\n"
          ]
        },
        {
          "name": "stderr",
          "output_type": "stream",
          "text": [
            "\n"
          ]
        },
        {
          "name": "stdout",
          "output_type": "stream",
          "text": [
            "TESTING:\n",
            "Accuracy of the network on the test images: 81.56 %\n",
            "Average loss on the test images: 0.692\n",
            "New lowest test loss: 0.6861 with accuracy: 82.02%\n"
          ]
        },
        {
          "name": "stderr",
          "output_type": "stream",
          "text": [
            "Epoch 50/60: 100%|██████████| 391/391 [01:04<00:00,  6.04batch/s]"
          ]
        },
        {
          "name": "stdout",
          "output_type": "stream",
          "text": [
            "\n",
            "Epoch 50 finished: Avg. Loss: 0.685, Avg. Acc.: 82.09%, Time: 64.74s\n"
          ]
        },
        {
          "name": "stderr",
          "output_type": "stream",
          "text": [
            "\n"
          ]
        },
        {
          "name": "stdout",
          "output_type": "stream",
          "text": [
            "TESTING:\n",
            "Accuracy of the network on the test images: 82.63 %\n",
            "Average loss on the test images: 0.672\n",
            "New lowest test loss: 0.6724 with accuracy: 82.63%\n"
          ]
        },
        {
          "name": "stderr",
          "output_type": "stream",
          "text": [
            "Epoch 51/60: 100%|██████████| 391/391 [01:04<00:00,  6.04batch/s]"
          ]
        },
        {
          "name": "stdout",
          "output_type": "stream",
          "text": [
            "\n",
            "Epoch 51 finished: Avg. Loss: 0.679, Avg. Acc.: 82.37%, Time: 64.75s\n"
          ]
        },
        {
          "name": "stderr",
          "output_type": "stream",
          "text": [
            "\n"
          ]
        },
        {
          "name": "stdout",
          "output_type": "stream",
          "text": [
            "TESTING:\n",
            "Accuracy of the network on the test images: 82.49 %\n",
            "Average loss on the test images: 0.671\n",
            "New lowest test loss: 0.6713 with accuracy: 82.49%\n"
          ]
        },
        {
          "name": "stderr",
          "output_type": "stream",
          "text": [
            "Epoch 52/60: 100%|██████████| 391/391 [01:04<00:00,  6.04batch/s]"
          ]
        },
        {
          "name": "stdout",
          "output_type": "stream",
          "text": [
            "\n",
            "Epoch 52 finished: Avg. Loss: 0.673, Avg. Acc.: 82.72%, Time: 64.75s\n"
          ]
        },
        {
          "name": "stderr",
          "output_type": "stream",
          "text": [
            "\n"
          ]
        },
        {
          "name": "stdout",
          "output_type": "stream",
          "text": [
            "TESTING:\n",
            "Accuracy of the network on the test images: 83.03 %\n",
            "Average loss on the test images: 0.668\n",
            "New lowest test loss: 0.6678 with accuracy: 83.03%\n"
          ]
        },
        {
          "name": "stderr",
          "output_type": "stream",
          "text": [
            "Epoch 53/60: 100%|██████████| 391/391 [01:04<00:00,  6.04batch/s]"
          ]
        },
        {
          "name": "stdout",
          "output_type": "stream",
          "text": [
            "\n",
            "Epoch 53 finished: Avg. Loss: 0.675, Avg. Acc.: 82.81%, Time: 64.74s\n"
          ]
        },
        {
          "name": "stderr",
          "output_type": "stream",
          "text": [
            "\n"
          ]
        },
        {
          "name": "stdout",
          "output_type": "stream",
          "text": [
            "TESTING:\n",
            "Accuracy of the network on the test images: 82.64 %\n",
            "Average loss on the test images: 0.667\n",
            "New lowest test loss: 0.6672 with accuracy: 82.64%\n"
          ]
        },
        {
          "name": "stderr",
          "output_type": "stream",
          "text": [
            "Epoch 54/60: 100%|██████████| 391/391 [01:04<00:00,  6.04batch/s]"
          ]
        },
        {
          "name": "stdout",
          "output_type": "stream",
          "text": [
            "\n",
            "Epoch 54 finished: Avg. Loss: 0.668, Avg. Acc.: 83.10%, Time: 64.76s\n"
          ]
        },
        {
          "name": "stderr",
          "output_type": "stream",
          "text": [
            "\n"
          ]
        },
        {
          "name": "stdout",
          "output_type": "stream",
          "text": [
            "TESTING:\n",
            "Accuracy of the network on the test images: 83.22 %\n",
            "Average loss on the test images: 0.661\n",
            "New lowest test loss: 0.6611 with accuracy: 83.22%\n"
          ]
        },
        {
          "name": "stderr",
          "output_type": "stream",
          "text": [
            "Epoch 55/60: 100%|██████████| 391/391 [01:04<00:00,  6.04batch/s]"
          ]
        },
        {
          "name": "stdout",
          "output_type": "stream",
          "text": [
            "\n",
            "Epoch 55 finished: Avg. Loss: 0.662, Avg. Acc.: 83.45%, Time: 64.79s\n"
          ]
        },
        {
          "name": "stderr",
          "output_type": "stream",
          "text": [
            "\n"
          ]
        },
        {
          "name": "stdout",
          "output_type": "stream",
          "text": [
            "TESTING:\n",
            "Accuracy of the network on the test images: 82.89 %\n",
            "Average loss on the test images: 0.665\n",
            "New lowest test loss: 0.6611 with accuracy: 83.22%\n"
          ]
        },
        {
          "name": "stderr",
          "output_type": "stream",
          "text": [
            "Epoch 56/60: 100%|██████████| 391/391 [01:04<00:00,  6.04batch/s]"
          ]
        },
        {
          "name": "stdout",
          "output_type": "stream",
          "text": [
            "\n",
            "Epoch 56 finished: Avg. Loss: 0.661, Avg. Acc.: 83.62%, Time: 64.79s\n"
          ]
        },
        {
          "name": "stderr",
          "output_type": "stream",
          "text": [
            "\n"
          ]
        },
        {
          "name": "stdout",
          "output_type": "stream",
          "text": [
            "TESTING:\n",
            "Accuracy of the network on the test images: 83.41 %\n",
            "Average loss on the test images: 0.655\n",
            "New lowest test loss: 0.6547 with accuracy: 83.41%\n"
          ]
        },
        {
          "name": "stderr",
          "output_type": "stream",
          "text": [
            "Epoch 57/60: 100%|██████████| 391/391 [01:04<00:00,  6.04batch/s]"
          ]
        },
        {
          "name": "stdout",
          "output_type": "stream",
          "text": [
            "\n",
            "Epoch 57 finished: Avg. Loss: 0.654, Avg. Acc.: 83.76%, Time: 64.78s\n"
          ]
        },
        {
          "name": "stderr",
          "output_type": "stream",
          "text": [
            "\n"
          ]
        },
        {
          "name": "stdout",
          "output_type": "stream",
          "text": [
            "TESTING:\n",
            "Accuracy of the network on the test images: 83.99 %\n",
            "Average loss on the test images: 0.652\n",
            "New lowest test loss: 0.6522 with accuracy: 83.99%\n"
          ]
        },
        {
          "name": "stderr",
          "output_type": "stream",
          "text": [
            "Epoch 58/60: 100%|██████████| 391/391 [01:04<00:00,  6.03batch/s]"
          ]
        },
        {
          "name": "stdout",
          "output_type": "stream",
          "text": [
            "\n",
            "Epoch 58 finished: Avg. Loss: 0.651, Avg. Acc.: 83.94%, Time: 64.81s\n"
          ]
        },
        {
          "name": "stderr",
          "output_type": "stream",
          "text": [
            "\n"
          ]
        },
        {
          "name": "stdout",
          "output_type": "stream",
          "text": [
            "TESTING:\n",
            "Accuracy of the network on the test images: 83.95 %\n",
            "Average loss on the test images: 0.648\n",
            "New lowest test loss: 0.6480 with accuracy: 83.95%\n"
          ]
        },
        {
          "name": "stderr",
          "output_type": "stream",
          "text": [
            "Epoch 59/60: 100%|██████████| 391/391 [01:04<00:00,  6.04batch/s]"
          ]
        },
        {
          "name": "stdout",
          "output_type": "stream",
          "text": [
            "\n",
            "Epoch 59 finished: Avg. Loss: 0.652, Avg. Acc.: 84.01%, Time: 64.74s\n"
          ]
        },
        {
          "name": "stderr",
          "output_type": "stream",
          "text": [
            "\n"
          ]
        },
        {
          "name": "stdout",
          "output_type": "stream",
          "text": [
            "TESTING:\n",
            "Accuracy of the network on the test images: 83.80 %\n",
            "Average loss on the test images: 0.651\n",
            "New lowest test loss: 0.6480 with accuracy: 83.95%\n"
          ]
        },
        {
          "name": "stderr",
          "output_type": "stream",
          "text": [
            "Epoch 60/60: 100%|██████████| 391/391 [01:04<00:00,  6.05batch/s]"
          ]
        },
        {
          "name": "stdout",
          "output_type": "stream",
          "text": [
            "\n",
            "Epoch 60 finished: Avg. Loss: 0.648, Avg. Acc.: 84.30%, Time: 64.68s\n"
          ]
        },
        {
          "name": "stderr",
          "output_type": "stream",
          "text": [
            "\n"
          ]
        },
        {
          "name": "stdout",
          "output_type": "stream",
          "text": [
            "TESTING:\n",
            "Accuracy of the network on the test images: 83.84 %\n",
            "Average loss on the test images: 0.648\n",
            "New lowest test loss: 0.6479 with accuracy: 83.84%\n",
            "Finished Training. Best Test Loss: 0.6479, Best Accuracy: 83.84%\n"
          ]
        },
        {
          "data": {
            "application/vnd.jupyter.widget-view+json": {
              "model_id": "1c4a0c02d48f4ef6a3e0cd9ccf0ee76e",
              "version_major": 2,
              "version_minor": 0
            },
            "text/plain": [
              "VBox(children=(Label(value='0.002 MB of 0.002 MB uploaded\\r'), FloatProgress(value=1.0, max=1.0)))"
            ]
          },
          "metadata": {},
          "output_type": "display_data"
        },
        {
          "data": {
            "text/html": [
              "<style>\n",
              "    table.wandb td:nth-child(1) { padding: 0 10px; text-align: left ; width: auto;} td:nth-child(2) {text-align: left ; width: 100%}\n",
              "    .wandb-row { display: flex; flex-direction: row; flex-wrap: wrap; justify-content: flex-start; width: 100% }\n",
              "    .wandb-col { display: flex; flex-direction: column; flex-basis: 100%; flex: 1; padding: 10px; }\n",
              "    </style>\n",
              "<div class=\"wandb-row\"><div class=\"wandb-col\"><h3>Run history:</h3><br/><table class=\"wandb\"><tr><td>Accuracy</td><td>▁▁▂▂▃▄▄▅▅▅▅▆▆▆▆▆▇▇▇▇▇▇▇▇▇▇▇▇▇▇██████████</td></tr><tr><td>Best Accuracy</td><td>▁▂▂▂▃▃▃▄▄▅▅▅▅▆▆▆▆▆▆▇▇▇▇▇▇▇▇▇████████████</td></tr><tr><td>Best Test Loss</td><td>████▇▆▆▆▅▅▅▅▄▄▄▄▃▃▃▃▃▃▃▂▂▂▂▂▂▂▁▁▁▁▁▁▁▁▁▁</td></tr><tr><td>Epoch</td><td>▁▁▁▁▂▂▂▂▂▃▃▃▃▃▃▄▄▄▄▄▅▅▅▅▅▅▆▆▆▆▆▆▇▇▇▇▇███</td></tr><tr><td>Learning Rate</td><td>▁▁▂▂▃▄▅▆▇▇███████▇▇▇▆▆▆▆▅▅▄▄▃▃▃▃▂▂▂▁▁▁▁▁</td></tr><tr><td>Loss</td><td>██▇▇▆▆▅▅▄▄▄▄▄▃▃▃▃▃▃▃▃▃▂▂▂▂▂▂▂▂▂▁▁▁▁▁▁▁▁▁</td></tr><tr><td>Test Accuracy</td><td>▁▂▂▃▃▄▅▄▅▅▆▆▆▆▆▆▇▇▇▇▇▇▇▇▇▇▇▇▇███████████</td></tr><tr><td>Test Loss</td><td>███▇▆▆▅▅▅▄▄▄▄▃▃▃▃▃▃▃▃▃▂▂▂▂▂▂▂▂▁▁▁▁▁▁▁▁▁▁</td></tr></table><br/></div><div class=\"wandb-col\"><h3>Run summary:</h3><br/><table class=\"wandb\"><tr><td>Accuracy</td><td>84.304</td></tr><tr><td>Best Accuracy</td><td>83.84</td></tr><tr><td>Best Test Loss</td><td>0.64788</td></tr><tr><td>Epoch</td><td>60</td></tr><tr><td>Learning Rate</td><td>0.0</td></tr><tr><td>Loss</td><td>0.64833</td></tr><tr><td>Test Accuracy</td><td>83.84</td></tr><tr><td>Test Loss</td><td>0.64788</td></tr></table><br/></div></div>"
            ],
            "text/plain": [
              "<IPython.core.display.HTML object>"
            ]
          },
          "metadata": {},
          "output_type": "display_data"
        },
        {
          "data": {
            "text/html": [
              " View run <strong style=\"color:#cdcd00\">hearty-gorge-24</strong> at: <a href='https://wandb.ai/jdeklerk10/cs_mp3/runs/tnw24l5i' target=\"_blank\">https://wandb.ai/jdeklerk10/cs_mp3/runs/tnw24l5i</a><br/>Synced 5 W&B file(s), 0 media file(s), 0 artifact file(s) and 0 other file(s)"
            ],
            "text/plain": [
              "<IPython.core.display.HTML object>"
            ]
          },
          "metadata": {},
          "output_type": "display_data"
        },
        {
          "data": {
            "text/html": [
              "Find logs at: <code>./wandb/run-20240320_204801-tnw24l5i/logs</code>"
            ],
            "text/plain": [
              "<IPython.core.display.HTML object>"
            ]
          },
          "metadata": {},
          "output_type": "display_data"
        }
      ],
      "source": [
        "def main():\n",
        "    args, unknown = parser.parse_known_args()\n",
        "    args.checkpoint_dir = '/content/assignment3/assignment3/assignment3_part1/Checkpoints'\n",
        "    args.seed = 315\n",
        "\n",
        "    setup_seed(args.seed)\n",
        "    print_gpu_info(device)\n",
        "\n",
        "    print(\"\\n--- Preparing Data for Rotation Task ---\\n\")\n",
        "\n",
        "    transform_train, transform_test = get_transforms()\n",
        "\n",
        "    trainset = CIFAR10Rotation(root='./data', train=True,\n",
        "                                            download=True, transform=transform_train)\n",
        "    trainloader = torch.utils.data.DataLoader(trainset, batch_size=args.BATCH_SIZE,\n",
        "                                              shuffle=True, num_workers=args.NUM_WORKERS)\n",
        "\n",
        "    testset = CIFAR10Rotation(root='./data', train=False,\n",
        "                                          download=True, transform=transform_test)\n",
        "    testloader = torch.utils.data.DataLoader(testset, batch_size=args.BATCH_SIZE,\n",
        "                                            shuffle=False, num_workers=args.NUM_WORKERS)\n",
        "\n",
        "    print(\"\\n--- Training ViT on Rotation Task ---\\n\")\n",
        "\n",
        "    model_path = '/content/assignment3/assignment3/assignment3_part1/ViT_rotation_task_best_model.pth'\n",
        "    project_name = 'cs_mp3'\n",
        "\n",
        "    model = ViT(args.NUM_CLASSES, args.IMAGE_SIZE, channels=args.CHANNELS, head_channels=args.HEAD_CHANNELS, num_blocks=args.NUM_BLOCKS, patch_size=args.PATCH_SIZE,\n",
        "               emb_p_drop=args.EMB_P_DROP, trans_p_drop=args.TRANS_P_DROP, head_p_drop=args.HEAD_P_DROP).to(device)\n",
        "\n",
        "    criterion = nn.CrossEntropyLoss(label_smoothing=0.1)\n",
        "    optimizer = get_adam_optimizer(model.parameters(), lr=args.LEARNING_RATE, wd=args.WEIGHT_DECAY)\n",
        "    lr_scheduler = torch.optim.lr_scheduler.OneCycleLR(optimizer, max_lr=args.LEARNING_RATE, steps_per_epoch=len(trainloader), epochs=args.EPOCHS)\n",
        "\n",
        "    train(model, criterion, optimizer, ema=None, num_epochs=args.EPOCHS, lr_scheduler=lr_scheduler, init_lr=args.LEARNING_RATE, task='rotation', trainloader=trainloader, testloader=testloader, model_path=model_path)\n",
        "\n",
        "if __name__ == \"__main__\":\n",
        "    main()"
      ]
    },
    {
      "cell_type": "markdown",
      "metadata": {
        "id": "8dwGPie6PHxz"
      },
      "source": [
        "## Classification ViT"
      ]
    },
    {
      "cell_type": "code",
      "execution_count": null,
      "metadata": {
        "colab": {
          "background_save": true,
          "base_uri": "https://localhost:8080/",
          "referenced_widgets": [
            "199284fe907246639cc0741e8e78d463"
          ]
        },
        "id": "a-5qBDy_CUIz",
        "outputId": "01768972-5c85-4320-a52b-8a2a0b8571a8"
      },
      "outputs": [
        {
          "name": "stdout",
          "output_type": "stream",
          "text": [
            "\n",
            "--- GPU Information ---\n",
            "\n",
            "Model is using device: cuda\n",
            "CUDA Device: Tesla V100-SXM2-16GB\n",
            "Total Memory: 16151.125 MB\n",
            "\n",
            "--- Preparing Data for Classification Task ---\n",
            "\n",
            "Files already downloaded and verified\n",
            "Files already downloaded and verified\n"
          ]
        },
        {
          "name": "stderr",
          "output_type": "stream",
          "text": [
            "\u001b[34m\u001b[1mwandb\u001b[0m: Currently logged in as: \u001b[33mjdeklerk10\u001b[0m. Use \u001b[1m`wandb login --relogin`\u001b[0m to force relogin\n"
          ]
        },
        {
          "name": "stdout",
          "output_type": "stream",
          "text": [
            "\n",
            "--- Training ViT on Classification Task ---\n",
            "\n",
            "Replaced Linear Layer: 5\n"
          ]
        },
        {
          "data": {
            "text/html": [
              "Tracking run with wandb version 0.16.4"
            ],
            "text/plain": [
              "<IPython.core.display.HTML object>"
            ]
          },
          "metadata": {},
          "output_type": "display_data"
        },
        {
          "data": {
            "text/html": [
              "Run data is saved locally in <code>/content/drive/MyDrive/assignment3/wandb/run-20240320_215820-dnpssmue</code>"
            ],
            "text/plain": [
              "<IPython.core.display.HTML object>"
            ]
          },
          "metadata": {},
          "output_type": "display_data"
        },
        {
          "data": {
            "text/html": [
              "Syncing run <strong><a href='https://wandb.ai/jdeklerk10/cs_mp3/runs/dnpssmue' target=\"_blank\">earthy-universe-25</a></strong> to <a href='https://wandb.ai/jdeklerk10/cs_mp3' target=\"_blank\">Weights & Biases</a> (<a href='https://wandb.me/run' target=\"_blank\">docs</a>)<br/>"
            ],
            "text/plain": [
              "<IPython.core.display.HTML object>"
            ]
          },
          "metadata": {},
          "output_type": "display_data"
        },
        {
          "data": {
            "text/html": [
              " View project at <a href='https://wandb.ai/jdeklerk10/cs_mp3' target=\"_blank\">https://wandb.ai/jdeklerk10/cs_mp3</a>"
            ],
            "text/plain": [
              "<IPython.core.display.HTML object>"
            ]
          },
          "metadata": {},
          "output_type": "display_data"
        },
        {
          "data": {
            "text/html": [
              " View run at <a href='https://wandb.ai/jdeklerk10/cs_mp3/runs/dnpssmue' target=\"_blank\">https://wandb.ai/jdeklerk10/cs_mp3/runs/dnpssmue</a>"
            ],
            "text/plain": [
              "<IPython.core.display.HTML object>"
            ]
          },
          "metadata": {},
          "output_type": "display_data"
        },
        {
          "name": "stdout",
          "output_type": "stream",
          "text": [
            "TRAINING WITHOUT EMA:\n"
          ]
        },
        {
          "name": "stderr",
          "output_type": "stream",
          "text": [
            "Epoch 1/30: 100%|██████████| 391/391 [01:04<00:00,  6.04batch/s]"
          ]
        },
        {
          "name": "stdout",
          "output_type": "stream",
          "text": [
            "\n",
            "Epoch 1 finished: Avg. Loss: 1.739, Avg. Acc.: 44.32%, Time: 64.70s\n"
          ]
        },
        {
          "name": "stderr",
          "output_type": "stream",
          "text": [
            "\n"
          ]
        },
        {
          "name": "stdout",
          "output_type": "stream",
          "text": [
            "TESTING:\n",
            "Accuracy of the network on the test images: 56.41 %\n",
            "Average loss on the test images: 1.474\n",
            "New lowest test loss: 1.4745 with accuracy: 56.41%\n"
          ]
        },
        {
          "name": "stderr",
          "output_type": "stream",
          "text": [
            "Epoch 2/30: 100%|██████████| 391/391 [01:04<00:00,  6.05batch/s]"
          ]
        },
        {
          "name": "stdout",
          "output_type": "stream",
          "text": [
            "\n",
            "Epoch 2 finished: Avg. Loss: 1.402, Avg. Acc.: 59.43%, Time: 64.69s\n"
          ]
        },
        {
          "name": "stderr",
          "output_type": "stream",
          "text": [
            "\n"
          ]
        },
        {
          "name": "stdout",
          "output_type": "stream",
          "text": [
            "TESTING:\n",
            "Accuracy of the network on the test images: 63.16 %\n",
            "Average loss on the test images: 1.316\n",
            "New lowest test loss: 1.3155 with accuracy: 63.16%\n"
          ]
        },
        {
          "name": "stderr",
          "output_type": "stream",
          "text": [
            "Epoch 3/30: 100%|██████████| 391/391 [01:04<00:00,  6.04batch/s]"
          ]
        },
        {
          "name": "stdout",
          "output_type": "stream",
          "text": [
            "\n",
            "Epoch 3 finished: Avg. Loss: 1.296, Avg. Acc.: 63.86%, Time: 64.75s\n"
          ]
        },
        {
          "name": "stderr",
          "output_type": "stream",
          "text": [
            "\n"
          ]
        },
        {
          "name": "stdout",
          "output_type": "stream",
          "text": [
            "TESTING:\n",
            "Accuracy of the network on the test images: 66.55 %\n",
            "Average loss on the test images: 1.233\n",
            "New lowest test loss: 1.2329 with accuracy: 66.55%\n"
          ]
        },
        {
          "name": "stderr",
          "output_type": "stream",
          "text": [
            "Epoch 4/30: 100%|██████████| 391/391 [01:04<00:00,  6.04batch/s]"
          ]
        },
        {
          "name": "stdout",
          "output_type": "stream",
          "text": [
            "\n",
            "Epoch 4 finished: Avg. Loss: 1.226, Avg. Acc.: 67.59%, Time: 64.71s\n"
          ]
        },
        {
          "name": "stderr",
          "output_type": "stream",
          "text": [
            "\n"
          ]
        },
        {
          "name": "stdout",
          "output_type": "stream",
          "text": [
            "TESTING:\n",
            "Accuracy of the network on the test images: 69.84 %\n",
            "Average loss on the test images: 1.176\n",
            "New lowest test loss: 1.1759 with accuracy: 69.84%\n"
          ]
        },
        {
          "name": "stderr",
          "output_type": "stream",
          "text": [
            "Epoch 5/30: 100%|██████████| 391/391 [01:04<00:00,  6.05batch/s]"
          ]
        },
        {
          "name": "stdout",
          "output_type": "stream",
          "text": [
            "\n",
            "Epoch 5 finished: Avg. Loss: 1.172, Avg. Acc.: 70.23%, Time: 64.68s\n"
          ]
        },
        {
          "name": "stderr",
          "output_type": "stream",
          "text": [
            "\n"
          ]
        },
        {
          "name": "stdout",
          "output_type": "stream",
          "text": [
            "TESTING:\n",
            "Accuracy of the network on the test images: 71.34 %\n",
            "Average loss on the test images: 1.135\n",
            "New lowest test loss: 1.1347 with accuracy: 71.34%\n"
          ]
        },
        {
          "name": "stderr",
          "output_type": "stream",
          "text": [
            "Epoch 6/30: 100%|██████████| 391/391 [01:04<00:00,  6.05batch/s]"
          ]
        },
        {
          "name": "stdout",
          "output_type": "stream",
          "text": [
            "\n",
            "Epoch 6 finished: Avg. Loss: 1.133, Avg. Acc.: 71.96%, Time: 64.63s\n"
          ]
        },
        {
          "name": "stderr",
          "output_type": "stream",
          "text": [
            "\n"
          ]
        },
        {
          "name": "stdout",
          "output_type": "stream",
          "text": [
            "TESTING:\n",
            "Accuracy of the network on the test images: 72.11 %\n",
            "Average loss on the test images: 1.127\n",
            "New lowest test loss: 1.1271 with accuracy: 72.11%\n"
          ]
        },
        {
          "name": "stderr",
          "output_type": "stream",
          "text": [
            "Epoch 7/30: 100%|██████████| 391/391 [01:04<00:00,  6.04batch/s]"
          ]
        },
        {
          "name": "stdout",
          "output_type": "stream",
          "text": [
            "\n",
            "Epoch 7 finished: Avg. Loss: 1.107, Avg. Acc.: 73.21%, Time: 64.69s\n"
          ]
        },
        {
          "name": "stderr",
          "output_type": "stream",
          "text": [
            "\n"
          ]
        },
        {
          "name": "stdout",
          "output_type": "stream",
          "text": [
            "TESTING:\n",
            "Accuracy of the network on the test images: 73.69 %\n",
            "Average loss on the test images: 1.091\n",
            "New lowest test loss: 1.0905 with accuracy: 73.69%\n"
          ]
        },
        {
          "name": "stderr",
          "output_type": "stream",
          "text": [
            "Epoch 8/30: 100%|██████████| 391/391 [01:04<00:00,  6.04batch/s]"
          ]
        },
        {
          "name": "stdout",
          "output_type": "stream",
          "text": [
            "\n",
            "Epoch 8 finished: Avg. Loss: 1.087, Avg. Acc.: 73.92%, Time: 64.71s\n"
          ]
        },
        {
          "name": "stderr",
          "output_type": "stream",
          "text": [
            "\n"
          ]
        },
        {
          "name": "stdout",
          "output_type": "stream",
          "text": [
            "TESTING:\n",
            "Accuracy of the network on the test images: 71.72 %\n",
            "Average loss on the test images: 1.129\n",
            "New lowest test loss: 1.0905 with accuracy: 73.69%\n"
          ]
        },
        {
          "name": "stderr",
          "output_type": "stream",
          "text": [
            "Epoch 9/30: 100%|██████████| 391/391 [01:04<00:00,  6.05batch/s]"
          ]
        },
        {
          "name": "stdout",
          "output_type": "stream",
          "text": [
            "\n",
            "Epoch 9 finished: Avg. Loss: 1.064, Avg. Acc.: 75.10%, Time: 64.67s\n"
          ]
        },
        {
          "name": "stderr",
          "output_type": "stream",
          "text": [
            "\n"
          ]
        },
        {
          "name": "stdout",
          "output_type": "stream",
          "text": [
            "TESTING:\n",
            "Accuracy of the network on the test images: 73.21 %\n",
            "Average loss on the test images: 1.099\n",
            "New lowest test loss: 1.0905 with accuracy: 73.69%\n"
          ]
        },
        {
          "name": "stderr",
          "output_type": "stream",
          "text": [
            "Epoch 10/30: 100%|██████████| 391/391 [01:04<00:00,  6.05batch/s]"
          ]
        },
        {
          "name": "stdout",
          "output_type": "stream",
          "text": [
            "\n",
            "Epoch 10 finished: Avg. Loss: 1.048, Avg. Acc.: 75.81%, Time: 64.66s\n"
          ]
        },
        {
          "name": "stderr",
          "output_type": "stream",
          "text": [
            "\n"
          ]
        },
        {
          "name": "stdout",
          "output_type": "stream",
          "text": [
            "TESTING:\n",
            "Accuracy of the network on the test images: 74.13 %\n",
            "Average loss on the test images: 1.081\n",
            "New lowest test loss: 1.0809 with accuracy: 74.13%\n"
          ]
        },
        {
          "name": "stderr",
          "output_type": "stream",
          "text": [
            "Epoch 11/30: 100%|██████████| 391/391 [01:04<00:00,  6.04batch/s]"
          ]
        },
        {
          "name": "stdout",
          "output_type": "stream",
          "text": [
            "\n",
            "Epoch 11 finished: Avg. Loss: 0.999, Avg. Acc.: 77.94%, Time: 64.72s\n"
          ]
        },
        {
          "name": "stderr",
          "output_type": "stream",
          "text": [
            "\n"
          ]
        },
        {
          "name": "stdout",
          "output_type": "stream",
          "text": [
            "TESTING:\n",
            "Accuracy of the network on the test images: 77.50 %\n",
            "Average loss on the test images: 1.011\n",
            "New lowest test loss: 1.0110 with accuracy: 77.50%\n"
          ]
        },
        {
          "name": "stderr",
          "output_type": "stream",
          "text": [
            "Epoch 12/30: 100%|██████████| 391/391 [01:04<00:00,  6.05batch/s]"
          ]
        },
        {
          "name": "stdout",
          "output_type": "stream",
          "text": [
            "\n",
            "Epoch 12 finished: Avg. Loss: 0.985, Avg. Acc.: 78.73%, Time: 64.69s\n"
          ]
        },
        {
          "name": "stderr",
          "output_type": "stream",
          "text": [
            "\n"
          ]
        },
        {
          "name": "stdout",
          "output_type": "stream",
          "text": [
            "TESTING:\n",
            "Accuracy of the network on the test images: 78.82 %\n",
            "Average loss on the test images: 0.972\n",
            "New lowest test loss: 0.9724 with accuracy: 78.82%\n"
          ]
        },
        {
          "name": "stderr",
          "output_type": "stream",
          "text": [
            "Epoch 13/30: 100%|██████████| 391/391 [01:04<00:00,  6.04batch/s]"
          ]
        },
        {
          "name": "stdout",
          "output_type": "stream",
          "text": [
            "\n",
            "Epoch 13 finished: Avg. Loss: 1.018, Avg. Acc.: 77.38%, Time: 64.69s\n"
          ]
        },
        {
          "name": "stderr",
          "output_type": "stream",
          "text": [
            "\n"
          ]
        },
        {
          "name": "stdout",
          "output_type": "stream",
          "text": [
            "TESTING:\n",
            "Accuracy of the network on the test images: 75.06 %\n",
            "Average loss on the test images: 1.045\n",
            "New lowest test loss: 0.9724 with accuracy: 78.82%\n"
          ]
        },
        {
          "name": "stderr",
          "output_type": "stream",
          "text": [
            "Epoch 14/30: 100%|██████████| 391/391 [01:04<00:00,  6.04batch/s]"
          ]
        },
        {
          "name": "stdout",
          "output_type": "stream",
          "text": [
            "\n",
            "Epoch 14 finished: Avg. Loss: 1.023, Avg. Acc.: 77.06%, Time: 64.74s\n"
          ]
        },
        {
          "name": "stderr",
          "output_type": "stream",
          "text": [
            "\n"
          ]
        },
        {
          "name": "stdout",
          "output_type": "stream",
          "text": [
            "TESTING:\n",
            "Accuracy of the network on the test images: 75.69 %\n",
            "Average loss on the test images: 1.048\n",
            "New lowest test loss: 0.9724 with accuracy: 78.82%\n"
          ]
        },
        {
          "name": "stderr",
          "output_type": "stream",
          "text": [
            "Epoch 15/30: 100%|██████████| 391/391 [01:04<00:00,  6.05batch/s]"
          ]
        },
        {
          "name": "stdout",
          "output_type": "stream",
          "text": [
            "\n",
            "Epoch 15 finished: Avg. Loss: 1.010, Avg. Acc.: 77.64%, Time: 64.66s\n"
          ]
        },
        {
          "name": "stderr",
          "output_type": "stream",
          "text": [
            "\n"
          ]
        },
        {
          "name": "stdout",
          "output_type": "stream",
          "text": [
            "TESTING:\n",
            "Accuracy of the network on the test images: 76.79 %\n",
            "Average loss on the test images: 1.012\n",
            "New lowest test loss: 0.9724 with accuracy: 78.82%\n"
          ]
        },
        {
          "name": "stderr",
          "output_type": "stream",
          "text": [
            "Epoch 16/30: 100%|██████████| 391/391 [01:04<00:00,  6.05batch/s]"
          ]
        },
        {
          "name": "stdout",
          "output_type": "stream",
          "text": [
            "\n",
            "Epoch 16 finished: Avg. Loss: 1.001, Avg. Acc.: 78.10%, Time: 64.68s\n"
          ]
        },
        {
          "name": "stderr",
          "output_type": "stream",
          "text": [
            "\n"
          ]
        },
        {
          "name": "stdout",
          "output_type": "stream",
          "text": [
            "TESTING:\n",
            "Accuracy of the network on the test images: 77.88 %\n",
            "Average loss on the test images: 0.997\n",
            "New lowest test loss: 0.9724 with accuracy: 78.82%\n"
          ]
        },
        {
          "name": "stderr",
          "output_type": "stream",
          "text": [
            "Epoch 17/30: 100%|██████████| 391/391 [01:04<00:00,  6.04batch/s]"
          ]
        },
        {
          "name": "stdout",
          "output_type": "stream",
          "text": [
            "\n",
            "Epoch 17 finished: Avg. Loss: 0.990, Avg. Acc.: 78.52%, Time: 64.73s\n"
          ]
        },
        {
          "name": "stderr",
          "output_type": "stream",
          "text": [
            "\n"
          ]
        },
        {
          "name": "stdout",
          "output_type": "stream",
          "text": [
            "TESTING:\n",
            "Accuracy of the network on the test images: 76.19 %\n",
            "Average loss on the test images: 1.028\n",
            "New lowest test loss: 0.9724 with accuracy: 78.82%\n"
          ]
        },
        {
          "name": "stderr",
          "output_type": "stream",
          "text": [
            "Epoch 18/30: 100%|██████████| 391/391 [01:04<00:00,  6.05batch/s]"
          ]
        },
        {
          "name": "stdout",
          "output_type": "stream",
          "text": [
            "\n",
            "Epoch 18 finished: Avg. Loss: 0.943, Avg. Acc.: 80.65%, Time: 64.68s\n"
          ]
        },
        {
          "name": "stderr",
          "output_type": "stream",
          "text": [
            "\n"
          ]
        },
        {
          "name": "stdout",
          "output_type": "stream",
          "text": [
            "TESTING:\n",
            "Accuracy of the network on the test images: 80.73 %\n",
            "Average loss on the test images: 0.937\n",
            "New lowest test loss: 0.9370 with accuracy: 80.73%\n"
          ]
        },
        {
          "name": "stderr",
          "output_type": "stream",
          "text": [
            "Epoch 19/30: 100%|██████████| 391/391 [01:04<00:00,  6.05batch/s]"
          ]
        },
        {
          "name": "stdout",
          "output_type": "stream",
          "text": [
            "\n",
            "Epoch 19 finished: Avg. Loss: 0.947, Avg. Acc.: 80.56%, Time: 64.66s\n"
          ]
        },
        {
          "name": "stderr",
          "output_type": "stream",
          "text": [
            "\n"
          ]
        },
        {
          "name": "stdout",
          "output_type": "stream",
          "text": [
            "TESTING:\n",
            "Accuracy of the network on the test images: 78.97 %\n",
            "Average loss on the test images: 0.971\n",
            "New lowest test loss: 0.9370 with accuracy: 80.73%\n"
          ]
        },
        {
          "name": "stderr",
          "output_type": "stream",
          "text": [
            "Epoch 20/30: 100%|██████████| 391/391 [01:04<00:00,  6.04batch/s]"
          ]
        },
        {
          "name": "stdout",
          "output_type": "stream",
          "text": [
            "\n",
            "Epoch 20 finished: Avg. Loss: 0.941, Avg. Acc.: 80.66%, Time: 64.69s\n"
          ]
        },
        {
          "name": "stderr",
          "output_type": "stream",
          "text": [
            "\n"
          ]
        },
        {
          "name": "stdout",
          "output_type": "stream",
          "text": [
            "TESTING:\n",
            "Accuracy of the network on the test images: 78.94 %\n",
            "Average loss on the test images: 0.973\n",
            "New lowest test loss: 0.9370 with accuracy: 80.73%\n"
          ]
        },
        {
          "name": "stderr",
          "output_type": "stream",
          "text": [
            "Epoch 21/30: 100%|██████████| 391/391 [01:04<00:00,  6.04batch/s]"
          ]
        },
        {
          "name": "stdout",
          "output_type": "stream",
          "text": [
            "\n",
            "Epoch 21 finished: Avg. Loss: 0.924, Avg. Acc.: 81.74%, Time: 64.72s\n"
          ]
        },
        {
          "name": "stderr",
          "output_type": "stream",
          "text": [
            "\n"
          ]
        },
        {
          "name": "stdout",
          "output_type": "stream",
          "text": [
            "TESTING:\n",
            "Accuracy of the network on the test images: 78.62 %\n",
            "Average loss on the test images: 0.979\n",
            "New lowest test loss: 0.9370 with accuracy: 80.73%\n"
          ]
        },
        {
          "name": "stderr",
          "output_type": "stream",
          "text": [
            "Epoch 22/30: 100%|██████████| 391/391 [01:04<00:00,  6.05batch/s]"
          ]
        },
        {
          "name": "stdout",
          "output_type": "stream",
          "text": [
            "\n",
            "Epoch 22 finished: Avg. Loss: 0.918, Avg. Acc.: 81.87%, Time: 64.67s\n"
          ]
        },
        {
          "name": "stderr",
          "output_type": "stream",
          "text": [
            "\n"
          ]
        },
        {
          "name": "stdout",
          "output_type": "stream",
          "text": [
            "TESTING:\n",
            "Accuracy of the network on the test images: 79.25 %\n",
            "Average loss on the test images: 0.959\n",
            "New lowest test loss: 0.9370 with accuracy: 80.73%\n"
          ]
        },
        {
          "name": "stderr",
          "output_type": "stream",
          "text": [
            "Epoch 23/30: 100%|██████████| 391/391 [01:04<00:00,  6.04batch/s]"
          ]
        },
        {
          "name": "stdout",
          "output_type": "stream",
          "text": [
            "\n",
            "Epoch 23 finished: Avg. Loss: 0.904, Avg. Acc.: 82.47%, Time: 64.71s\n"
          ]
        },
        {
          "name": "stderr",
          "output_type": "stream",
          "text": [
            "\n"
          ]
        },
        {
          "name": "stdout",
          "output_type": "stream",
          "text": [
            "TESTING:\n",
            "Accuracy of the network on the test images: 80.71 %\n",
            "Average loss on the test images: 0.938\n",
            "New lowest test loss: 0.9370 with accuracy: 80.73%\n"
          ]
        },
        {
          "name": "stderr",
          "output_type": "stream",
          "text": [
            "Epoch 24/30: 100%|██████████| 391/391 [01:04<00:00,  6.04batch/s]"
          ]
        },
        {
          "name": "stdout",
          "output_type": "stream",
          "text": [
            "\n",
            "Epoch 24 finished: Avg. Loss: 0.852, Avg. Acc.: 84.93%, Time: 64.72s\n"
          ]
        },
        {
          "name": "stderr",
          "output_type": "stream",
          "text": [
            "\n"
          ]
        },
        {
          "name": "stdout",
          "output_type": "stream",
          "text": [
            "TESTING:\n",
            "Accuracy of the network on the test images: 83.18 %\n",
            "Average loss on the test images: 0.885\n",
            "New lowest test loss: 0.8850 with accuracy: 83.18%\n"
          ]
        },
        {
          "name": "stderr",
          "output_type": "stream",
          "text": [
            "Epoch 25/30: 100%|██████████| 391/391 [01:04<00:00,  6.03batch/s]"
          ]
        },
        {
          "name": "stdout",
          "output_type": "stream",
          "text": [
            "\n",
            "Epoch 25 finished: Avg. Loss: 0.826, Avg. Acc.: 85.98%, Time: 64.85s\n"
          ]
        },
        {
          "name": "stderr",
          "output_type": "stream",
          "text": [
            "\n"
          ]
        },
        {
          "name": "stdout",
          "output_type": "stream",
          "text": [
            "TESTING:\n",
            "Accuracy of the network on the test images: 83.15 %\n",
            "Average loss on the test images: 0.886\n",
            "New lowest test loss: 0.8850 with accuracy: 83.18%\n"
          ]
        },
        {
          "name": "stderr",
          "output_type": "stream",
          "text": [
            "Epoch 26/30: 100%|██████████| 391/391 [01:04<00:00,  6.04batch/s]"
          ]
        },
        {
          "name": "stdout",
          "output_type": "stream",
          "text": [
            "\n",
            "Epoch 26 finished: Avg. Loss: 0.818, Avg. Acc.: 86.39%, Time: 64.70s\n"
          ]
        },
        {
          "name": "stderr",
          "output_type": "stream",
          "text": [
            "\n"
          ]
        },
        {
          "name": "stdout",
          "output_type": "stream",
          "text": [
            "TESTING:\n",
            "Accuracy of the network on the test images: 82.97 %\n",
            "Average loss on the test images: 0.897\n",
            "New lowest test loss: 0.8850 with accuracy: 83.18%\n"
          ]
        },
        {
          "name": "stderr",
          "output_type": "stream",
          "text": [
            "Epoch 27/30: 100%|██████████| 391/391 [01:04<00:00,  6.04batch/s]"
          ]
        },
        {
          "name": "stdout",
          "output_type": "stream",
          "text": [
            "\n",
            "Epoch 27 finished: Avg. Loss: 0.813, Avg. Acc.: 86.50%, Time: 64.72s\n"
          ]
        },
        {
          "name": "stderr",
          "output_type": "stream",
          "text": [
            "\n"
          ]
        },
        {
          "name": "stdout",
          "output_type": "stream",
          "text": [
            "TESTING:\n",
            "Accuracy of the network on the test images: 83.44 %\n",
            "Average loss on the test images: 0.884\n",
            "New lowest test loss: 0.8841 with accuracy: 83.44%\n"
          ]
        },
        {
          "name": "stderr",
          "output_type": "stream",
          "text": [
            "Epoch 28/30: 100%|██████████| 391/391 [01:04<00:00,  6.04batch/s]"
          ]
        },
        {
          "name": "stdout",
          "output_type": "stream",
          "text": [
            "\n",
            "Epoch 28 finished: Avg. Loss: 0.802, Avg. Acc.: 87.10%, Time: 64.76s\n"
          ]
        },
        {
          "name": "stderr",
          "output_type": "stream",
          "text": [
            "\n"
          ]
        },
        {
          "name": "stdout",
          "output_type": "stream",
          "text": [
            "TESTING:\n",
            "Accuracy of the network on the test images: 84.01 %\n",
            "Average loss on the test images: 0.864\n",
            "New lowest test loss: 0.8641 with accuracy: 84.01%\n"
          ]
        },
        {
          "name": "stderr",
          "output_type": "stream",
          "text": [
            "Epoch 29/30: 100%|██████████| 391/391 [01:04<00:00,  6.04batch/s]"
          ]
        },
        {
          "name": "stdout",
          "output_type": "stream",
          "text": [
            "\n",
            "Epoch 29 finished: Avg. Loss: 0.796, Avg. Acc.: 87.25%, Time: 64.75s\n"
          ]
        },
        {
          "name": "stderr",
          "output_type": "stream",
          "text": [
            "\n"
          ]
        },
        {
          "name": "stdout",
          "output_type": "stream",
          "text": [
            "TESTING:\n",
            "Accuracy of the network on the test images: 84.81 %\n",
            "Average loss on the test images: 0.853\n",
            "New lowest test loss: 0.8531 with accuracy: 84.81%\n"
          ]
        },
        {
          "name": "stderr",
          "output_type": "stream",
          "text": [
            "Epoch 30/30: 100%|██████████| 391/391 [01:04<00:00,  6.04batch/s]"
          ]
        },
        {
          "name": "stdout",
          "output_type": "stream",
          "text": [
            "\n",
            "Epoch 30 finished: Avg. Loss: 0.790, Avg. Acc.: 87.54%, Time: 64.75s\n"
          ]
        },
        {
          "name": "stderr",
          "output_type": "stream",
          "text": [
            "\n"
          ]
        },
        {
          "name": "stdout",
          "output_type": "stream",
          "text": [
            "TESTING:\n",
            "Accuracy of the network on the test images: 84.43 %\n",
            "Average loss on the test images: 0.863\n",
            "New lowest test loss: 0.8531 with accuracy: 84.81%\n",
            "Finished Training. Best Test Loss: 0.8531, Best Accuracy: 84.81%\n"
          ]
        },
        {
          "data": {
            "application/vnd.jupyter.widget-view+json": {
              "model_id": "199284fe907246639cc0741e8e78d463",
              "version_major": 2,
              "version_minor": 0
            },
            "text/plain": [
              "VBox(children=(Label(value='0.002 MB of 0.002 MB uploaded\\r'), FloatProgress(value=1.0, max=1.0)))"
            ]
          },
          "metadata": {},
          "output_type": "display_data"
        },
        {
          "data": {
            "text/html": [
              "<style>\n",
              "    table.wandb td:nth-child(1) { padding: 0 10px; text-align: left ; width: auto;} td:nth-child(2) {text-align: left ; width: 100%}\n",
              "    .wandb-row { display: flex; flex-direction: row; flex-wrap: wrap; justify-content: flex-start; width: 100% }\n",
              "    .wandb-col { display: flex; flex-direction: column; flex-basis: 100%; flex: 1; padding: 10px; }\n",
              "    </style>\n",
              "<div class=\"wandb-row\"><div class=\"wandb-col\"><h3>Run history:</h3><br/><table class=\"wandb\"><tr><td>Accuracy</td><td>▁▃▄▅▅▅▆▆▆▆▆▇▆▆▆▆▇▇▇▇▇▇▇███████</td></tr><tr><td>Best Accuracy</td><td>▁▃▃▄▅▅▅▅▆▇▇████</td></tr><tr><td>Best Test Loss</td><td>█▆▅▅▄▄▄▄▃▂▂▁▁▁▁</td></tr><tr><td>Epoch</td><td>▁▁▁▂▂▂▂▃▃▃▃▄▄▄▄▅▅▅▅▆▆▆▆▇▇▇▇███</td></tr><tr><td>Learning Rate</td><td>▁▁▁▂▂▃▃▄▄▅▆▆▇▇███████████▇▇▇▇▇</td></tr><tr><td>Loss</td><td>█▆▅▄▄▄▃▃▃▃▃▂▃▃▃▃▂▂▂▂▂▂▂▁▁▁▁▁▁▁</td></tr><tr><td>Test Accuracy</td><td>▁▃▃▄▅▅▅▅▅▅▆▇▆▆▆▆▆▇▇▇▆▇▇███████</td></tr><tr><td>Test Loss</td><td>█▆▅▅▄▄▄▄▄▄▃▂▃▃▃▃▃▂▂▂▂▂▂▁▁▁▁▁▁▁</td></tr></table><br/></div><div class=\"wandb-col\"><h3>Run summary:</h3><br/><table class=\"wandb\"><tr><td>Accuracy</td><td>87.536</td></tr><tr><td>Best Accuracy</td><td>84.81</td></tr><tr><td>Best Test Loss</td><td>0.85311</td></tr><tr><td>Epoch</td><td>30</td></tr><tr><td>Learning Rate</td><td>0.00081</td></tr><tr><td>Loss</td><td>0.7896</td></tr><tr><td>Test Accuracy</td><td>84.43</td></tr><tr><td>Test Loss</td><td>0.86319</td></tr></table><br/></div></div>"
            ],
            "text/plain": [
              "<IPython.core.display.HTML object>"
            ]
          },
          "metadata": {},
          "output_type": "display_data"
        },
        {
          "data": {
            "text/html": [
              " View run <strong style=\"color:#cdcd00\">earthy-universe-25</strong> at: <a href='https://wandb.ai/jdeklerk10/cs_mp3/runs/dnpssmue' target=\"_blank\">https://wandb.ai/jdeklerk10/cs_mp3/runs/dnpssmue</a><br/>Synced 5 W&B file(s), 0 media file(s), 0 artifact file(s) and 0 other file(s)"
            ],
            "text/plain": [
              "<IPython.core.display.HTML object>"
            ]
          },
          "metadata": {},
          "output_type": "display_data"
        },
        {
          "data": {
            "text/html": [
              "Find logs at: <code>./wandb/run-20240320_215820-dnpssmue/logs</code>"
            ],
            "text/plain": [
              "<IPython.core.display.HTML object>"
            ]
          },
          "metadata": {},
          "output_type": "display_data"
        }
      ],
      "source": [
        "def main():\n",
        "    args, unknown = parser.parse_known_args()\n",
        "    args.checkpoint_dir = '/content/assignment3/assignment3/assignment3_part1/Checkpoints'\n",
        "    args.seed = 315\n",
        "\n",
        "    setup_seed(args.seed)\n",
        "    print_gpu_info(device)\n",
        "\n",
        "    print(\"\\n--- Preparing Data for Classification Task ---\\n\")\n",
        "\n",
        "    transform_train, transform_test = get_transforms()\n",
        "\n",
        "    trainset = CIFAR10Rotation(root='./data', train=True,\n",
        "                                            download=True, transform=transform_train)\n",
        "    trainloader = torch.utils.data.DataLoader(trainset, batch_size=args.BATCH_SIZE,\n",
        "                                              shuffle=True, num_workers=args.NUM_WORKERS)\n",
        "\n",
        "    testset = CIFAR10Rotation(root='./data', train=False,\n",
        "                                          download=True, transform=transform_test)\n",
        "    testloader = torch.utils.data.DataLoader(testset, batch_size=args.BATCH_SIZE,\n",
        "                                            shuffle=False, num_workers=args.NUM_WORKERS)\n",
        "\n",
        "    print(\"\\n--- Training ViT on Classification Task ---\\n\")\n",
        "\n",
        "    path = '/content/assignment3/assignment3/assignment3_part1/ViT_rotation_task_best_model.pth'\n",
        "    model_path = '/content/assignment3/assignment3/assignment3_part1/ViT_classification_task_best_model.pth'\n",
        "    project_name = 'cs_mp3'\n",
        "\n",
        "    def replace_last_linear_layer(model, num_classes):\n",
        "        for name, module in reversed(model._modules.items()):\n",
        "            if hasattr(module, 'children') and list(module.children()):\n",
        "                replace_last_linear_layer(module, num_classes)\n",
        "                return\n",
        "            if isinstance(module, nn.Linear):\n",
        "                num_ftrs = module.in_features\n",
        "                setattr(model, name, nn.Linear(num_ftrs, num_classes))\n",
        "                print(f\"Replaced Linear Layer: {name}\")\n",
        "                return\n",
        "\n",
        "    model = ViT(args.NUM_CLASSES, args.IMAGE_SIZE, channels=args.CHANNELS, head_channels=args.HEAD_CHANNELS, num_blocks=args.NUM_BLOCKS, patch_size=args.PATCH_SIZE,\n",
        "               emb_p_drop=args.EMB_P_DROP, trans_p_drop=args.TRANS_P_DROP, head_p_drop=args.HEAD_P_DROP).to(device)\n",
        "\n",
        "    model.load_state_dict(torch.load(path), strict=False)\n",
        "\n",
        "    new_num_classes = 10\n",
        "    replace_last_linear_layer(model, new_num_classes)\n",
        "\n",
        "    model.to(device)\n",
        "\n",
        "    criterion = nn.CrossEntropyLoss(label_smoothing=0.1)\n",
        "    optimizer = get_adam_optimizer(model.parameters(), lr=args.LEARNING_RATE, wd=args.WEIGHT_DECAY)\n",
        "    lr_scheduler = torch.optim.lr_scheduler.OneCycleLR(optimizer, max_lr=args.LEARNING_RATE, steps_per_epoch=len(trainloader), epochs=args.EPOCHS)\n",
        "\n",
        "    train(model, criterion, optimizer, ema=None, num_epochs=30, lr_scheduler=lr_scheduler, init_lr=args.LEARNING_RATE, task='classification', trainloader=trainloader, testloader=testloader, model_path=model_path)\n",
        "\n",
        "if __name__ == \"__main__\":\n",
        "    main()"
      ]
    },
    {
      "cell_type": "markdown",
      "metadata": {
        "id": "G1gfB0KbAXbo"
      },
      "source": [
        "## Testing out ViT with EMA"
      ]
    },
    {
      "cell_type": "code",
      "execution_count": null,
      "metadata": {
        "id": "Io9pxvmJfY92"
      },
      "outputs": [],
      "source": [
        "# Partially based on:\n",
        "# https://github.com/tensorflow/tensorflow/blob/r1.13/tensorflow/python/training/moving_averages.py\n",
        "class ExponentialMovingAverage:\n",
        "    \"\"\"\n",
        "    Maintains (exponential) moving average of a set of parameters.\n",
        "\n",
        "    Args:\n",
        "        parameters: Iterable of `torch.nn.Parameter` (typically from\n",
        "            `model.parameters()`).\n",
        "            Note that EMA is computed on *all* provided parameters,\n",
        "            regardless of whether or not they have `requires_grad = True`;\n",
        "            this allows a single EMA object to be consistantly used even\n",
        "            if which parameters are trainable changes step to step.\n",
        "\n",
        "            If you want to some parameters in the EMA, do not pass them\n",
        "            to the object in the first place. For example:\n",
        "\n",
        "                ExponentialMovingAverage(\n",
        "                    parameters=[p for p in model.parameters() if p.requires_grad],\n",
        "                    decay=0.9\n",
        "                )\n",
        "\n",
        "            will ignore parameters that do not require grad.\n",
        "\n",
        "        decay: The exponential decay.\n",
        "\n",
        "        use_num_updates: Whether to use number of updates when computing\n",
        "            averages.\n",
        "    \"\"\"\n",
        "    def __init__(\n",
        "        self,\n",
        "        parameters: Iterable[torch.nn.Parameter],\n",
        "        decay: float,\n",
        "        use_num_updates: bool = True\n",
        "    ):\n",
        "        if decay < 0.0 or decay > 1.0:\n",
        "            raise ValueError('Decay must be between 0 and 1')\n",
        "        self.decay = decay\n",
        "        self.num_updates = 0 if use_num_updates else None\n",
        "        parameters = list(parameters)\n",
        "        self.shadow_params = [\n",
        "            p.clone().detach()\n",
        "            for p in parameters\n",
        "        ]\n",
        "        self.collected_params = None\n",
        "        self._params_refs = [weakref.ref(p) for p in parameters]\n",
        "\n",
        "    def _get_parameters(\n",
        "        self,\n",
        "        parameters: Optional[Iterable[torch.nn.Parameter]]\n",
        "    ) -> Iterable[torch.nn.Parameter]:\n",
        "        if parameters is None:\n",
        "            parameters = [p() for p in self._params_refs]\n",
        "            if any(p is None for p in parameters):\n",
        "                raise ValueError(\n",
        "                    \"(One of) the parameters with which this \"\n",
        "                    \"ExponentialMovingAverage \"\n",
        "                    \"was initialized no longer exists (was garbage collected);\"\n",
        "                    \" please either provide `parameters` explicitly or keep \"\n",
        "                    \"the model to which they belong from being garbage \"\n",
        "                    \"collected.\"\n",
        "                )\n",
        "            return parameters\n",
        "        else:\n",
        "            parameters = list(parameters)\n",
        "            if len(parameters) != len(self.shadow_params):\n",
        "                raise ValueError(\n",
        "                    \"Number of parameters passed as argument is different \"\n",
        "                    \"from number of shadow parameters maintained by this \"\n",
        "                    \"ExponentialMovingAverage\"\n",
        "                )\n",
        "            return parameters\n",
        "\n",
        "    def update(\n",
        "        self,\n",
        "        parameters: Optional[Iterable[torch.nn.Parameter]] = None\n",
        "    ) -> None:\n",
        "        \"\"\"\n",
        "        Update currently maintained parameters.\n",
        "\n",
        "        Call this every time the parameters are updated, such as the result of\n",
        "        the `optimizer.step()` call.\n",
        "\n",
        "        Args:\n",
        "            parameters: Iterable of `torch.nn.Parameter`; usually the same set of\n",
        "                parameters used to initialize this object. If `None`, the\n",
        "                parameters with which this `ExponentialMovingAverage` was\n",
        "                initialized will be used.\n",
        "        \"\"\"\n",
        "        parameters = self._get_parameters(parameters)\n",
        "        decay = self.decay\n",
        "        if self.num_updates is not None:\n",
        "            self.num_updates += 1\n",
        "            decay = min(\n",
        "                decay,\n",
        "                (1 + self.num_updates) / (10 + self.num_updates)\n",
        "            )\n",
        "        one_minus_decay = 1.0 - decay\n",
        "        with torch.no_grad():\n",
        "            for s_param, param in zip(self.shadow_params, parameters):\n",
        "                tmp = (s_param - param)\n",
        "                tmp.mul_(one_minus_decay)\n",
        "                s_param.sub_(tmp)\n",
        "\n",
        "    def copy_to(\n",
        "        self,\n",
        "        parameters: Optional[Iterable[torch.nn.Parameter]] = None\n",
        "    ) -> None:\n",
        "        \"\"\"\n",
        "        Copy current averaged parameters into given collection of parameters.\n",
        "\n",
        "        Args:\n",
        "            parameters: Iterable of `torch.nn.Parameter`; the parameters to be\n",
        "                updated with the stored moving averages. If `None`, the\n",
        "                parameters with which this `ExponentialMovingAverage` was\n",
        "                initialized will be used.\n",
        "        \"\"\"\n",
        "        parameters = self._get_parameters(parameters)\n",
        "        for s_param, param in zip(self.shadow_params, parameters):\n",
        "            param.data.copy_(s_param.data)\n",
        "\n",
        "    def store(\n",
        "        self,\n",
        "        parameters: Optional[Iterable[torch.nn.Parameter]] = None\n",
        "    ) -> None:\n",
        "        \"\"\"\n",
        "        Save the current parameters for restoring later.\n",
        "\n",
        "        Args:\n",
        "            parameters: Iterable of `torch.nn.Parameter`; the parameters to be\n",
        "                temporarily stored. If `None`, the parameters of with which this\n",
        "                `ExponentialMovingAverage` was initialized will be used.\n",
        "        \"\"\"\n",
        "        parameters = self._get_parameters(parameters)\n",
        "        self.collected_params = [\n",
        "            param.clone()\n",
        "            for param in parameters\n",
        "        ]\n",
        "\n",
        "    def restore(\n",
        "        self,\n",
        "        parameters: Optional[Iterable[torch.nn.Parameter]] = None\n",
        "    ) -> None:\n",
        "        \"\"\"\n",
        "        Restore the parameters stored with the `store` method.\n",
        "        Useful to validate the model with EMA parameters without affecting the\n",
        "        original optimization process. Store the parameters before the\n",
        "        `copy_to` method. After validation (or model saving), use this to\n",
        "        restore the former parameters.\n",
        "\n",
        "        Args:\n",
        "            parameters: Iterable of `torch.nn.Parameter`; the parameters to be\n",
        "                updated with the stored parameters. If `None`, the\n",
        "                parameters with which this `ExponentialMovingAverage` was\n",
        "                initialized will be used.\n",
        "        \"\"\"\n",
        "        if self.collected_params is None:\n",
        "            raise RuntimeError(\n",
        "                \"This ExponentialMovingAverage has no `store()`ed weights \"\n",
        "                \"to `restore()`\"\n",
        "            )\n",
        "        parameters = self._get_parameters(parameters)\n",
        "        for c_param, param in zip(self.collected_params, parameters):\n",
        "            param.data.copy_(c_param.data)\n",
        "\n",
        "    @contextlib.contextmanager\n",
        "    def average_parameters(\n",
        "        self,\n",
        "        parameters: Optional[Iterable[torch.nn.Parameter]] = None\n",
        "    ):\n",
        "        r\"\"\"\n",
        "        Context manager for validation/inference with averaged parameters.\n",
        "\n",
        "        Equivalent to:\n",
        "\n",
        "            ema.store()\n",
        "            ema.copy_to()\n",
        "            try:\n",
        "                ...\n",
        "            finally:\n",
        "                ema.restore()\n",
        "\n",
        "        Args:\n",
        "            parameters: Iterable of `torch.nn.Parameter`; the parameters to be\n",
        "                updated with the stored parameters. If `None`, the\n",
        "                parameters with which this `ExponentialMovingAverage` was\n",
        "                initialized will be used.\n",
        "        \"\"\"\n",
        "        parameters = self._get_parameters(parameters)\n",
        "        self.store(parameters)\n",
        "        self.copy_to(parameters)\n",
        "        try:\n",
        "            yield\n",
        "        finally:\n",
        "            self.restore(parameters)\n",
        "\n",
        "    def to(self, device=None, dtype=None) -> None:\n",
        "        r\"\"\"Move internal buffers of the ExponentialMovingAverage to `device`.\n",
        "\n",
        "        Args:\n",
        "            device: like `device` argument to `torch.Tensor.to`\n",
        "        \"\"\"\n",
        "        self.shadow_params = [\n",
        "            p.to(device=device, dtype=dtype)\n",
        "            if p.is_floating_point()\n",
        "            else p.to(device=device)\n",
        "            for p in self.shadow_params\n",
        "        ]\n",
        "        if self.collected_params is not None:\n",
        "            self.collected_params = [\n",
        "                p.to(device=device, dtype=dtype)\n",
        "                if p.is_floating_point()\n",
        "                else p.to(device=device)\n",
        "                for p in self.collected_params\n",
        "            ]\n",
        "        return\n",
        "\n",
        "    def state_dict(self) -> dict:\n",
        "        r\"\"\"Returns the state of the ExponentialMovingAverage as a dict.\"\"\"\n",
        "        return {\n",
        "            \"decay\": self.decay,\n",
        "            \"num_updates\": self.num_updates,\n",
        "            \"shadow_params\": self.shadow_params,\n",
        "            \"collected_params\": self.collected_params\n",
        "        }\n",
        "\n",
        "    def load_state_dict(self, state_dict: dict) -> None:\n",
        "        r\"\"\"Loads the ExponentialMovingAverage state.\n",
        "\n",
        "        Args:\n",
        "            state_dict (dict): EMA state. Should be an object returned\n",
        "                from a call to :meth:`state_dict`.\n",
        "        \"\"\"\n",
        "        state_dict = copy.deepcopy(state_dict)\n",
        "        self.decay = state_dict[\"decay\"]\n",
        "        if self.decay < 0.0 or self.decay > 1.0:\n",
        "            raise ValueError('Decay must be between 0 and 1')\n",
        "        self.num_updates = state_dict[\"num_updates\"]\n",
        "        assert self.num_updates is None or isinstance(self.num_updates, int), \\\n",
        "            \"Invalid num_updates\"\n",
        "\n",
        "        self.shadow_params = state_dict[\"shadow_params\"]\n",
        "        assert isinstance(self.shadow_params, list), \\\n",
        "            \"shadow_params must be a list\"\n",
        "        assert all(\n",
        "            isinstance(p, torch.Tensor) for p in self.shadow_params\n",
        "        ), \"shadow_params must all be Tensors\"\n",
        "\n",
        "        self.collected_params = state_dict[\"collected_params\"]\n",
        "        if self.collected_params is not None:\n",
        "            assert isinstance(self.collected_params, list), \\\n",
        "                \"collected_params must be a list\"\n",
        "            assert all(\n",
        "                isinstance(p, torch.Tensor) for p in self.collected_params\n",
        "            ), \"collected_params must all be Tensors\"\n",
        "            assert len(self.collected_params) == len(self.shadow_params), \\\n",
        "                \"collected_params and shadow_params had different lengths\"\n",
        "\n",
        "        if len(self.shadow_params) == len(self._params_refs):\n",
        "            params = [p() for p in self._params_refs]\n",
        "            if not any(p is None for p in params):\n",
        "                for i, p in enumerate(params):\n",
        "                    self.shadow_params[i] = self.shadow_params[i].to(\n",
        "                        device=p.device, dtype=p.dtype\n",
        "                    )\n",
        "                    if self.collected_params is not None:\n",
        "                        self.collected_params[i] = self.collected_params[i].to(\n",
        "                            device=p.device, dtype=p.dtype\n",
        "                        )\n",
        "        else:\n",
        "            raise ValueError(\n",
        "                \"Tried to `load_state_dict()` with the wrong number of \"\n",
        "                \"parameters in the saved state.\"\n",
        "            )"
      ]
    },
    {
      "cell_type": "markdown",
      "metadata": {
        "id": "0-u0j_xTnZ0M"
      },
      "source": [
        "## Rotation ViT with EMA"
      ]
    },
    {
      "cell_type": "code",
      "execution_count": null,
      "metadata": {
        "colab": {
          "background_save": true,
          "referenced_widgets": [
            "8249644142ff47de8f85db1f01afd4f3"
          ]
        },
        "id": "v04GUM19hGp9",
        "outputId": "2d18e7b5-0501-4244-e70f-07a60b085aab"
      },
      "outputs": [
        {
          "name": "stdout",
          "output_type": "stream",
          "text": [
            "\n",
            "--- GPU Information ---\n",
            "\n",
            "Model is using device: cuda\n",
            "CUDA Device: Tesla V100-SXM2-16GB\n",
            "Total Memory: 16151.125 MB\n",
            "\n",
            "--- Preparing Data for Rotation Task ---\n",
            "\n",
            "Files already downloaded and verified\n",
            "Files already downloaded and verified\n",
            "\n",
            "--- Training ViT on Rotation Task with EMA ---\n",
            "\n"
          ]
        },
        {
          "data": {
            "text/html": [
              "Tracking run with wandb version 0.16.4"
            ],
            "text/plain": [
              "<IPython.core.display.HTML object>"
            ]
          },
          "metadata": {},
          "output_type": "display_data"
        },
        {
          "data": {
            "text/html": [
              "Run data is saved locally in <code>/content/drive/MyDrive/assignment3/wandb/run-20240320_223329-rlykllk1</code>"
            ],
            "text/plain": [
              "<IPython.core.display.HTML object>"
            ]
          },
          "metadata": {},
          "output_type": "display_data"
        },
        {
          "data": {
            "text/html": [
              "Syncing run <strong><a href='https://wandb.ai/jdeklerk10/cs_mp3/runs/rlykllk1' target=\"_blank\">neat-plant-26</a></strong> to <a href='https://wandb.ai/jdeklerk10/cs_mp3' target=\"_blank\">Weights & Biases</a> (<a href='https://wandb.me/run' target=\"_blank\">docs</a>)<br/>"
            ],
            "text/plain": [
              "<IPython.core.display.HTML object>"
            ]
          },
          "metadata": {},
          "output_type": "display_data"
        },
        {
          "data": {
            "text/html": [
              " View project at <a href='https://wandb.ai/jdeklerk10/cs_mp3' target=\"_blank\">https://wandb.ai/jdeklerk10/cs_mp3</a>"
            ],
            "text/plain": [
              "<IPython.core.display.HTML object>"
            ]
          },
          "metadata": {},
          "output_type": "display_data"
        },
        {
          "data": {
            "text/html": [
              " View run at <a href='https://wandb.ai/jdeklerk10/cs_mp3/runs/rlykllk1' target=\"_blank\">https://wandb.ai/jdeklerk10/cs_mp3/runs/rlykllk1</a>"
            ],
            "text/plain": [
              "<IPython.core.display.HTML object>"
            ]
          },
          "metadata": {},
          "output_type": "display_data"
        },
        {
          "name": "stdout",
          "output_type": "stream",
          "text": [
            "TRAINING WITH EMA:\n"
          ]
        },
        {
          "name": "stderr",
          "output_type": "stream",
          "text": [
            "Epoch 1/60: 100%|██████████| 391/391 [01:06<00:00,  5.90batch/s]"
          ]
        },
        {
          "name": "stdout",
          "output_type": "stream",
          "text": [
            "\n",
            "Epoch 1 finished: Avg. Loss: 1.455, Avg. Acc.: 25.52%, Time: 66.26s\n"
          ]
        },
        {
          "name": "stderr",
          "output_type": "stream",
          "text": [
            "\n"
          ]
        },
        {
          "name": "stdout",
          "output_type": "stream",
          "text": [
            "TESTING WITH EMA:\n",
            "Accuracy of the network on the test images: 29.13 %\n",
            "Average loss on the test images: 1.381\n",
            "New lowest test loss: 1.3815 with accuracy: 29.13%\n"
          ]
        },
        {
          "name": "stderr",
          "output_type": "stream",
          "text": [
            "Epoch 2/60: 100%|██████████| 391/391 [01:06<00:00,  5.91batch/s]"
          ]
        },
        {
          "name": "stdout",
          "output_type": "stream",
          "text": [
            "\n",
            "Epoch 2 finished: Avg. Loss: 1.420, Avg. Acc.: 26.40%, Time: 66.22s\n"
          ]
        },
        {
          "name": "stderr",
          "output_type": "stream",
          "text": [
            "\n"
          ]
        },
        {
          "name": "stdout",
          "output_type": "stream",
          "text": [
            "TESTING WITH EMA:\n",
            "Accuracy of the network on the test images: 35.41 %\n",
            "Average loss on the test images: 1.370\n",
            "New lowest test loss: 1.3701 with accuracy: 35.41%\n"
          ]
        },
        {
          "name": "stderr",
          "output_type": "stream",
          "text": [
            "Epoch 3/60: 100%|██████████| 391/391 [01:06<00:00,  5.90batch/s]"
          ]
        },
        {
          "name": "stdout",
          "output_type": "stream",
          "text": [
            "\n",
            "Epoch 3 finished: Avg. Loss: 1.398, Avg. Acc.: 27.78%, Time: 66.27s\n"
          ]
        },
        {
          "name": "stderr",
          "output_type": "stream",
          "text": [
            "\n"
          ]
        },
        {
          "name": "stdout",
          "output_type": "stream",
          "text": [
            "TESTING WITH EMA:\n",
            "Accuracy of the network on the test images: 38.99 %\n",
            "Average loss on the test images: 1.358\n",
            "New lowest test loss: 1.3579 with accuracy: 38.99%\n"
          ]
        },
        {
          "name": "stderr",
          "output_type": "stream",
          "text": [
            "Epoch 4/60: 100%|██████████| 391/391 [01:06<00:00,  5.91batch/s]"
          ]
        },
        {
          "name": "stdout",
          "output_type": "stream",
          "text": [
            "\n",
            "Epoch 4 finished: Avg. Loss: 1.373, Avg. Acc.: 31.02%, Time: 66.22s\n"
          ]
        },
        {
          "name": "stderr",
          "output_type": "stream",
          "text": [
            "\n"
          ]
        },
        {
          "name": "stdout",
          "output_type": "stream",
          "text": [
            "TESTING WITH EMA:\n",
            "Accuracy of the network on the test images: 40.30 %\n",
            "Average loss on the test images: 1.335\n",
            "New lowest test loss: 1.3348 with accuracy: 40.30%\n"
          ]
        },
        {
          "name": "stderr",
          "output_type": "stream",
          "text": [
            "Epoch 5/60: 100%|██████████| 391/391 [01:06<00:00,  5.90batch/s]"
          ]
        },
        {
          "name": "stdout",
          "output_type": "stream",
          "text": [
            "\n",
            "Epoch 5 finished: Avg. Loss: 1.334, Avg. Acc.: 36.10%, Time: 66.25s\n"
          ]
        },
        {
          "name": "stderr",
          "output_type": "stream",
          "text": [
            "\n"
          ]
        },
        {
          "name": "stdout",
          "output_type": "stream",
          "text": [
            "TESTING WITH EMA:\n",
            "Accuracy of the network on the test images: 44.08 %\n",
            "Average loss on the test images: 1.272\n",
            "New lowest test loss: 1.2724 with accuracy: 44.08%\n"
          ]
        },
        {
          "name": "stderr",
          "output_type": "stream",
          "text": [
            "Epoch 6/60: 100%|██████████| 391/391 [01:06<00:00,  5.90batch/s]"
          ]
        },
        {
          "name": "stdout",
          "output_type": "stream",
          "text": [
            "\n",
            "Epoch 6 finished: Avg. Loss: 1.278, Avg. Acc.: 41.98%, Time: 66.27s\n"
          ]
        },
        {
          "name": "stderr",
          "output_type": "stream",
          "text": [
            "\n"
          ]
        },
        {
          "name": "stdout",
          "output_type": "stream",
          "text": [
            "TESTING WITH EMA:\n",
            "Accuracy of the network on the test images: 47.24 %\n",
            "Average loss on the test images: 1.220\n",
            "New lowest test loss: 1.2196 with accuracy: 47.24%\n"
          ]
        },
        {
          "name": "stderr",
          "output_type": "stream",
          "text": [
            "Epoch 7/60: 100%|██████████| 391/391 [01:06<00:00,  5.89batch/s]"
          ]
        },
        {
          "name": "stdout",
          "output_type": "stream",
          "text": [
            "\n",
            "Epoch 7 finished: Avg. Loss: 1.230, Avg. Acc.: 46.04%, Time: 66.36s\n"
          ]
        },
        {
          "name": "stderr",
          "output_type": "stream",
          "text": [
            "\n"
          ]
        },
        {
          "name": "stdout",
          "output_type": "stream",
          "text": [
            "TESTING WITH EMA:\n",
            "Accuracy of the network on the test images: 48.64 %\n",
            "Average loss on the test images: 1.195\n",
            "New lowest test loss: 1.1953 with accuracy: 48.64%\n"
          ]
        },
        {
          "name": "stderr",
          "output_type": "stream",
          "text": [
            "Epoch 8/60: 100%|██████████| 391/391 [01:06<00:00,  5.89batch/s]"
          ]
        },
        {
          "name": "stdout",
          "output_type": "stream",
          "text": [
            "\n",
            "Epoch 8 finished: Avg. Loss: 1.195, Avg. Acc.: 48.44%, Time: 66.34s\n"
          ]
        },
        {
          "name": "stderr",
          "output_type": "stream",
          "text": [
            "\n"
          ]
        },
        {
          "name": "stdout",
          "output_type": "stream",
          "text": [
            "TESTING WITH EMA:\n",
            "Accuracy of the network on the test images: 49.49 %\n",
            "Average loss on the test images: 1.179\n",
            "New lowest test loss: 1.1794 with accuracy: 49.49%\n"
          ]
        },
        {
          "name": "stderr",
          "output_type": "stream",
          "text": [
            "Epoch 9/60: 100%|██████████| 391/391 [01:06<00:00,  5.90batch/s]"
          ]
        },
        {
          "name": "stdout",
          "output_type": "stream",
          "text": [
            "\n",
            "Epoch 9 finished: Avg. Loss: 1.164, Avg. Acc.: 50.76%, Time: 66.30s\n"
          ]
        },
        {
          "name": "stderr",
          "output_type": "stream",
          "text": [
            "\n"
          ]
        },
        {
          "name": "stdout",
          "output_type": "stream",
          "text": [
            "TESTING WITH EMA:\n",
            "Accuracy of the network on the test images: 54.74 %\n",
            "Average loss on the test images: 1.101\n",
            "New lowest test loss: 1.1015 with accuracy: 54.74%\n"
          ]
        },
        {
          "name": "stderr",
          "output_type": "stream",
          "text": [
            "Epoch 10/60: 100%|██████████| 391/391 [01:06<00:00,  5.89batch/s]"
          ]
        },
        {
          "name": "stdout",
          "output_type": "stream",
          "text": [
            "\n",
            "Epoch 10 finished: Avg. Loss: 1.125, Avg. Acc.: 53.73%, Time: 66.34s\n"
          ]
        },
        {
          "name": "stderr",
          "output_type": "stream",
          "text": [
            "\n"
          ]
        },
        {
          "name": "stdout",
          "output_type": "stream",
          "text": [
            "TESTING WITH EMA:\n",
            "Accuracy of the network on the test images: 56.89 %\n",
            "Average loss on the test images: 1.082\n",
            "New lowest test loss: 1.0819 with accuracy: 56.89%\n"
          ]
        },
        {
          "name": "stderr",
          "output_type": "stream",
          "text": [
            "Epoch 11/60: 100%|██████████| 391/391 [01:06<00:00,  5.90batch/s]"
          ]
        },
        {
          "name": "stdout",
          "output_type": "stream",
          "text": [
            "\n",
            "Epoch 11 finished: Avg. Loss: 1.098, Avg. Acc.: 55.74%, Time: 66.26s\n"
          ]
        },
        {
          "name": "stderr",
          "output_type": "stream",
          "text": [
            "\n"
          ]
        },
        {
          "name": "stdout",
          "output_type": "stream",
          "text": [
            "TESTING WITH EMA:\n",
            "Accuracy of the network on the test images: 56.33 %\n",
            "Average loss on the test images: 1.084\n",
            "New lowest test loss: 1.0819 with accuracy: 56.89%\n"
          ]
        },
        {
          "name": "stderr",
          "output_type": "stream",
          "text": [
            "Epoch 12/60: 100%|██████████| 391/391 [01:06<00:00,  5.90batch/s]"
          ]
        },
        {
          "name": "stdout",
          "output_type": "stream",
          "text": [
            "\n",
            "Epoch 12 finished: Avg. Loss: 1.068, Avg. Acc.: 57.93%, Time: 66.26s\n"
          ]
        },
        {
          "name": "stderr",
          "output_type": "stream",
          "text": [
            "\n"
          ]
        },
        {
          "name": "stdout",
          "output_type": "stream",
          "text": [
            "TESTING WITH EMA:\n",
            "Accuracy of the network on the test images: 57.92 %\n",
            "Average loss on the test images: 1.066\n",
            "New lowest test loss: 1.0662 with accuracy: 57.92%\n"
          ]
        },
        {
          "name": "stderr",
          "output_type": "stream",
          "text": [
            "Epoch 13/60: 100%|██████████| 391/391 [01:06<00:00,  5.90batch/s]"
          ]
        },
        {
          "name": "stdout",
          "output_type": "stream",
          "text": [
            "\n",
            "Epoch 13 finished: Avg. Loss: 1.041, Avg. Acc.: 59.70%, Time: 66.22s\n"
          ]
        },
        {
          "name": "stderr",
          "output_type": "stream",
          "text": [
            "\n"
          ]
        },
        {
          "name": "stdout",
          "output_type": "stream",
          "text": [
            "TESTING WITH EMA:\n",
            "Accuracy of the network on the test images: 60.54 %\n",
            "Average loss on the test images: 1.018\n",
            "New lowest test loss: 1.0175 with accuracy: 60.54%\n"
          ]
        },
        {
          "name": "stderr",
          "output_type": "stream",
          "text": [
            "Epoch 14/60: 100%|██████████| 391/391 [01:06<00:00,  5.91batch/s]"
          ]
        },
        {
          "name": "stdout",
          "output_type": "stream",
          "text": [
            "\n",
            "Epoch 14 finished: Avg. Loss: 1.024, Avg. Acc.: 60.79%, Time: 66.18s\n"
          ]
        },
        {
          "name": "stderr",
          "output_type": "stream",
          "text": [
            "\n"
          ]
        },
        {
          "name": "stdout",
          "output_type": "stream",
          "text": [
            "TESTING WITH EMA:\n",
            "Accuracy of the network on the test images: 62.84 %\n",
            "Average loss on the test images: 0.994\n",
            "New lowest test loss: 0.9942 with accuracy: 62.84%\n"
          ]
        },
        {
          "name": "stderr",
          "output_type": "stream",
          "text": [
            "Epoch 15/60: 100%|██████████| 391/391 [01:06<00:00,  5.91batch/s]"
          ]
        },
        {
          "name": "stdout",
          "output_type": "stream",
          "text": [
            "\n",
            "Epoch 15 finished: Avg. Loss: 1.003, Avg. Acc.: 62.17%, Time: 66.19s\n"
          ]
        },
        {
          "name": "stderr",
          "output_type": "stream",
          "text": [
            "\n"
          ]
        },
        {
          "name": "stdout",
          "output_type": "stream",
          "text": [
            "TESTING WITH EMA:\n",
            "Accuracy of the network on the test images: 64.59 %\n",
            "Average loss on the test images: 0.971\n",
            "New lowest test loss: 0.9707 with accuracy: 64.59%\n"
          ]
        },
        {
          "name": "stderr",
          "output_type": "stream",
          "text": [
            "Epoch 16/60: 100%|██████████| 391/391 [01:06<00:00,  5.90batch/s]"
          ]
        },
        {
          "name": "stdout",
          "output_type": "stream",
          "text": [
            "\n",
            "Epoch 16 finished: Avg. Loss: 0.990, Avg. Acc.: 63.11%, Time: 66.24s\n"
          ]
        },
        {
          "name": "stderr",
          "output_type": "stream",
          "text": [
            "\n"
          ]
        },
        {
          "name": "stdout",
          "output_type": "stream",
          "text": [
            "TESTING WITH EMA:\n",
            "Accuracy of the network on the test images: 65.53 %\n",
            "Average loss on the test images: 0.947\n",
            "New lowest test loss: 0.9470 with accuracy: 65.53%\n"
          ]
        },
        {
          "name": "stderr",
          "output_type": "stream",
          "text": [
            "Epoch 17/60: 100%|██████████| 391/391 [01:06<00:00,  5.91batch/s]"
          ]
        },
        {
          "name": "stdout",
          "output_type": "stream",
          "text": [
            "\n",
            "Epoch 17 finished: Avg. Loss: 0.973, Avg. Acc.: 64.13%, Time: 66.19s\n"
          ]
        },
        {
          "name": "stderr",
          "output_type": "stream",
          "text": [
            "\n"
          ]
        },
        {
          "name": "stdout",
          "output_type": "stream",
          "text": [
            "TESTING WITH EMA:\n",
            "Accuracy of the network on the test images: 65.35 %\n",
            "Average loss on the test images: 0.955\n",
            "New lowest test loss: 0.9470 with accuracy: 65.53%\n"
          ]
        },
        {
          "name": "stderr",
          "output_type": "stream",
          "text": [
            "Epoch 18/60: 100%|██████████| 391/391 [01:06<00:00,  5.91batch/s]"
          ]
        },
        {
          "name": "stdout",
          "output_type": "stream",
          "text": [
            "\n",
            "Epoch 18 finished: Avg. Loss: 0.963, Avg. Acc.: 65.17%, Time: 66.22s\n"
          ]
        },
        {
          "name": "stderr",
          "output_type": "stream",
          "text": [
            "\n"
          ]
        },
        {
          "name": "stdout",
          "output_type": "stream",
          "text": [
            "TESTING WITH EMA:\n",
            "Accuracy of the network on the test images: 67.43 %\n",
            "Average loss on the test images: 0.927\n",
            "New lowest test loss: 0.9271 with accuracy: 67.43%\n"
          ]
        },
        {
          "name": "stderr",
          "output_type": "stream",
          "text": [
            "Epoch 19/60: 100%|██████████| 391/391 [01:06<00:00,  5.91batch/s]"
          ]
        },
        {
          "name": "stdout",
          "output_type": "stream",
          "text": [
            "\n",
            "Epoch 19 finished: Avg. Loss: 0.939, Avg. Acc.: 66.56%, Time: 66.19s\n"
          ]
        },
        {
          "name": "stderr",
          "output_type": "stream",
          "text": [
            "\n"
          ]
        },
        {
          "name": "stdout",
          "output_type": "stream",
          "text": [
            "TESTING WITH EMA:\n",
            "Accuracy of the network on the test images: 65.90 %\n",
            "Average loss on the test images: 0.943\n",
            "New lowest test loss: 0.9271 with accuracy: 67.43%\n"
          ]
        },
        {
          "name": "stderr",
          "output_type": "stream",
          "text": [
            "Epoch 20/60: 100%|██████████| 391/391 [01:06<00:00,  5.91batch/s]"
          ]
        },
        {
          "name": "stdout",
          "output_type": "stream",
          "text": [
            "\n",
            "Epoch 20 finished: Avg. Loss: 0.932, Avg. Acc.: 67.06%, Time: 66.21s\n"
          ]
        },
        {
          "name": "stderr",
          "output_type": "stream",
          "text": [
            "\n"
          ]
        },
        {
          "name": "stdout",
          "output_type": "stream",
          "text": [
            "TESTING WITH EMA:\n",
            "Accuracy of the network on the test images: 69.66 %\n",
            "Average loss on the test images: 0.894\n",
            "New lowest test loss: 0.8944 with accuracy: 69.66%\n"
          ]
        },
        {
          "name": "stderr",
          "output_type": "stream",
          "text": [
            "Epoch 21/60: 100%|██████████| 391/391 [01:06<00:00,  5.90batch/s]"
          ]
        },
        {
          "name": "stdout",
          "output_type": "stream",
          "text": [
            "\n",
            "Epoch 21 finished: Avg. Loss: 0.918, Avg. Acc.: 68.07%, Time: 66.23s\n"
          ]
        },
        {
          "name": "stderr",
          "output_type": "stream",
          "text": [
            "\n"
          ]
        },
        {
          "name": "stdout",
          "output_type": "stream",
          "text": [
            "TESTING WITH EMA:\n",
            "Accuracy of the network on the test images: 68.17 %\n",
            "Average loss on the test images: 0.917\n",
            "New lowest test loss: 0.8944 with accuracy: 69.66%\n"
          ]
        },
        {
          "name": "stderr",
          "output_type": "stream",
          "text": [
            "Epoch 22/60: 100%|██████████| 391/391 [01:06<00:00,  5.90batch/s]"
          ]
        },
        {
          "name": "stdout",
          "output_type": "stream",
          "text": [
            "\n",
            "Epoch 22 finished: Avg. Loss: 0.907, Avg. Acc.: 68.73%, Time: 66.25s\n"
          ]
        },
        {
          "name": "stderr",
          "output_type": "stream",
          "text": [
            "\n"
          ]
        },
        {
          "name": "stdout",
          "output_type": "stream",
          "text": [
            "TESTING WITH EMA:\n",
            "Accuracy of the network on the test images: 69.57 %\n",
            "Average loss on the test images: 0.893\n",
            "New lowest test loss: 0.8931 with accuracy: 69.57%\n"
          ]
        },
        {
          "name": "stderr",
          "output_type": "stream",
          "text": [
            "Epoch 23/60: 100%|██████████| 391/391 [01:06<00:00,  5.90batch/s]"
          ]
        },
        {
          "name": "stdout",
          "output_type": "stream",
          "text": [
            "\n",
            "Epoch 23 finished: Avg. Loss: 0.893, Avg. Acc.: 69.50%, Time: 66.25s\n"
          ]
        },
        {
          "name": "stderr",
          "output_type": "stream",
          "text": [
            "\n"
          ]
        },
        {
          "name": "stdout",
          "output_type": "stream",
          "text": [
            "TESTING WITH EMA:\n",
            "Accuracy of the network on the test images: 71.33 %\n",
            "Average loss on the test images: 0.864\n",
            "New lowest test loss: 0.8642 with accuracy: 71.33%\n"
          ]
        },
        {
          "name": "stderr",
          "output_type": "stream",
          "text": [
            "Epoch 24/60: 100%|██████████| 391/391 [01:06<00:00,  5.90batch/s]"
          ]
        },
        {
          "name": "stdout",
          "output_type": "stream",
          "text": [
            "\n",
            "Epoch 24 finished: Avg. Loss: 0.877, Avg. Acc.: 70.52%, Time: 66.24s\n"
          ]
        },
        {
          "name": "stderr",
          "output_type": "stream",
          "text": [
            "\n"
          ]
        },
        {
          "name": "stdout",
          "output_type": "stream",
          "text": [
            "TESTING WITH EMA:\n",
            "Accuracy of the network on the test images: 70.89 %\n",
            "Average loss on the test images: 0.879\n",
            "New lowest test loss: 0.8642 with accuracy: 71.33%\n"
          ]
        },
        {
          "name": "stderr",
          "output_type": "stream",
          "text": [
            "Epoch 25/60: 100%|██████████| 391/391 [01:06<00:00,  5.90batch/s]"
          ]
        },
        {
          "name": "stdout",
          "output_type": "stream",
          "text": [
            "\n",
            "Epoch 25 finished: Avg. Loss: 0.848, Avg. Acc.: 72.41%, Time: 66.29s\n"
          ]
        },
        {
          "name": "stderr",
          "output_type": "stream",
          "text": [
            "\n"
          ]
        },
        {
          "name": "stdout",
          "output_type": "stream",
          "text": [
            "TESTING WITH EMA:\n",
            "Accuracy of the network on the test images: 73.38 %\n",
            "Average loss on the test images: 0.828\n",
            "New lowest test loss: 0.8285 with accuracy: 73.38%\n"
          ]
        },
        {
          "name": "stderr",
          "output_type": "stream",
          "text": [
            "Epoch 26/60: 100%|██████████| 391/391 [01:06<00:00,  5.91batch/s]"
          ]
        },
        {
          "name": "stdout",
          "output_type": "stream",
          "text": [
            "\n",
            "Epoch 26 finished: Avg. Loss: 0.845, Avg. Acc.: 72.77%, Time: 66.22s\n"
          ]
        },
        {
          "name": "stderr",
          "output_type": "stream",
          "text": [
            "\n"
          ]
        },
        {
          "name": "stdout",
          "output_type": "stream",
          "text": [
            "TESTING WITH EMA:\n",
            "Accuracy of the network on the test images: 74.32 %\n",
            "Average loss on the test images: 0.812\n",
            "New lowest test loss: 0.8124 with accuracy: 74.32%\n"
          ]
        },
        {
          "name": "stderr",
          "output_type": "stream",
          "text": [
            "Epoch 27/60: 100%|██████████| 391/391 [01:06<00:00,  5.91batch/s]"
          ]
        },
        {
          "name": "stdout",
          "output_type": "stream",
          "text": [
            "\n",
            "Epoch 27 finished: Avg. Loss: 0.838, Avg. Acc.: 72.97%, Time: 66.20s\n"
          ]
        },
        {
          "name": "stderr",
          "output_type": "stream",
          "text": [
            "\n"
          ]
        },
        {
          "name": "stdout",
          "output_type": "stream",
          "text": [
            "TESTING WITH EMA:\n",
            "Accuracy of the network on the test images: 71.80 %\n",
            "Average loss on the test images: 0.853\n",
            "New lowest test loss: 0.8124 with accuracy: 74.32%\n"
          ]
        },
        {
          "name": "stderr",
          "output_type": "stream",
          "text": [
            "Epoch 28/60: 100%|██████████| 391/391 [01:06<00:00,  5.90batch/s]"
          ]
        },
        {
          "name": "stdout",
          "output_type": "stream",
          "text": [
            "\n",
            "Epoch 28 finished: Avg. Loss: 0.834, Avg. Acc.: 73.47%, Time: 66.24s\n"
          ]
        },
        {
          "name": "stderr",
          "output_type": "stream",
          "text": [
            "\n"
          ]
        },
        {
          "name": "stdout",
          "output_type": "stream",
          "text": [
            "TESTING WITH EMA:\n",
            "Accuracy of the network on the test images: 74.22 %\n",
            "Average loss on the test images: 0.813\n",
            "New lowest test loss: 0.8124 with accuracy: 74.32%\n"
          ]
        },
        {
          "name": "stderr",
          "output_type": "stream",
          "text": [
            "Epoch 29/60: 100%|██████████| 391/391 [01:06<00:00,  5.90batch/s]"
          ]
        },
        {
          "name": "stdout",
          "output_type": "stream",
          "text": [
            "\n",
            "Epoch 29 finished: Avg. Loss: 0.852, Avg. Acc.: 72.26%, Time: 66.26s\n"
          ]
        },
        {
          "name": "stderr",
          "output_type": "stream",
          "text": [
            "\n"
          ]
        },
        {
          "name": "stdout",
          "output_type": "stream",
          "text": [
            "TESTING WITH EMA:\n",
            "Accuracy of the network on the test images: 72.95 %\n",
            "Average loss on the test images: 0.839\n",
            "New lowest test loss: 0.8124 with accuracy: 74.32%\n"
          ]
        },
        {
          "name": "stderr",
          "output_type": "stream",
          "text": [
            "Epoch 30/60: 100%|██████████| 391/391 [01:06<00:00,  5.91batch/s]"
          ]
        },
        {
          "name": "stdout",
          "output_type": "stream",
          "text": [
            "\n",
            "Epoch 30 finished: Avg. Loss: 0.839, Avg. Acc.: 72.99%, Time: 66.22s\n"
          ]
        },
        {
          "name": "stderr",
          "output_type": "stream",
          "text": [
            "\n"
          ]
        },
        {
          "name": "stdout",
          "output_type": "stream",
          "text": [
            "TESTING WITH EMA:\n",
            "Accuracy of the network on the test images: 74.56 %\n",
            "Average loss on the test images: 0.807\n",
            "New lowest test loss: 0.8069 with accuracy: 74.56%\n"
          ]
        },
        {
          "name": "stderr",
          "output_type": "stream",
          "text": [
            "Epoch 31/60: 100%|██████████| 391/391 [01:06<00:00,  5.90batch/s]"
          ]
        },
        {
          "name": "stdout",
          "output_type": "stream",
          "text": [
            "\n",
            "Epoch 31 finished: Avg. Loss: 0.831, Avg. Acc.: 73.65%, Time: 66.27s\n"
          ]
        },
        {
          "name": "stderr",
          "output_type": "stream",
          "text": [
            "\n"
          ]
        },
        {
          "name": "stdout",
          "output_type": "stream",
          "text": [
            "TESTING WITH EMA:\n",
            "Accuracy of the network on the test images: 75.28 %\n",
            "Average loss on the test images: 0.804\n",
            "New lowest test loss: 0.8044 with accuracy: 75.28%\n"
          ]
        },
        {
          "name": "stderr",
          "output_type": "stream",
          "text": [
            "Epoch 32/60: 100%|██████████| 391/391 [01:06<00:00,  5.90batch/s]"
          ]
        },
        {
          "name": "stdout",
          "output_type": "stream",
          "text": [
            "\n",
            "Epoch 32 finished: Avg. Loss: 0.822, Avg. Acc.: 74.02%, Time: 66.27s\n"
          ]
        },
        {
          "name": "stderr",
          "output_type": "stream",
          "text": [
            "\n"
          ]
        },
        {
          "name": "stdout",
          "output_type": "stream",
          "text": [
            "TESTING WITH EMA:\n",
            "Accuracy of the network on the test images: 74.05 %\n",
            "Average loss on the test images: 0.814\n",
            "New lowest test loss: 0.8044 with accuracy: 75.28%\n"
          ]
        },
        {
          "name": "stderr",
          "output_type": "stream",
          "text": [
            "Epoch 33/60: 100%|██████████| 391/391 [01:06<00:00,  5.90batch/s]"
          ]
        },
        {
          "name": "stdout",
          "output_type": "stream",
          "text": [
            "\n",
            "Epoch 33 finished: Avg. Loss: 0.815, Avg. Acc.: 74.49%, Time: 66.26s\n"
          ]
        },
        {
          "name": "stderr",
          "output_type": "stream",
          "text": [
            "\n"
          ]
        },
        {
          "name": "stdout",
          "output_type": "stream",
          "text": [
            "TESTING WITH EMA:\n",
            "Accuracy of the network on the test images: 75.88 %\n",
            "Average loss on the test images: 0.784\n",
            "New lowest test loss: 0.7838 with accuracy: 75.88%\n"
          ]
        },
        {
          "name": "stderr",
          "output_type": "stream",
          "text": [
            "Epoch 34/60: 100%|██████████| 391/391 [01:06<00:00,  5.90batch/s]"
          ]
        },
        {
          "name": "stdout",
          "output_type": "stream",
          "text": [
            "\n",
            "Epoch 34 finished: Avg. Loss: 0.787, Avg. Acc.: 76.08%, Time: 66.28s\n"
          ]
        },
        {
          "name": "stderr",
          "output_type": "stream",
          "text": [
            "\n"
          ]
        },
        {
          "name": "stdout",
          "output_type": "stream",
          "text": [
            "TESTING WITH EMA:\n",
            "Accuracy of the network on the test images: 77.62 %\n",
            "Average loss on the test images: 0.753\n",
            "New lowest test loss: 0.7531 with accuracy: 77.62%\n"
          ]
        },
        {
          "name": "stderr",
          "output_type": "stream",
          "text": [
            "Epoch 35/60: 100%|██████████| 391/391 [01:06<00:00,  5.90batch/s]"
          ]
        },
        {
          "name": "stdout",
          "output_type": "stream",
          "text": [
            "\n",
            "Epoch 35 finished: Avg. Loss: 0.780, Avg. Acc.: 76.51%, Time: 66.29s\n"
          ]
        },
        {
          "name": "stderr",
          "output_type": "stream",
          "text": [
            "\n"
          ]
        },
        {
          "name": "stdout",
          "output_type": "stream",
          "text": [
            "TESTING WITH EMA:\n",
            "Accuracy of the network on the test images: 78.72 %\n",
            "Average loss on the test images: 0.742\n",
            "New lowest test loss: 0.7423 with accuracy: 78.72%\n"
          ]
        },
        {
          "name": "stderr",
          "output_type": "stream",
          "text": [
            "Epoch 36/60: 100%|██████████| 391/391 [01:06<00:00,  5.90batch/s]"
          ]
        },
        {
          "name": "stdout",
          "output_type": "stream",
          "text": [
            "\n",
            "Epoch 36 finished: Avg. Loss: 0.773, Avg. Acc.: 76.95%, Time: 66.27s\n"
          ]
        },
        {
          "name": "stderr",
          "output_type": "stream",
          "text": [
            "\n"
          ]
        },
        {
          "name": "stdout",
          "output_type": "stream",
          "text": [
            "TESTING WITH EMA:\n",
            "Accuracy of the network on the test images: 78.31 %\n",
            "Average loss on the test images: 0.747\n",
            "New lowest test loss: 0.7423 with accuracy: 78.72%\n"
          ]
        },
        {
          "name": "stderr",
          "output_type": "stream",
          "text": [
            "Epoch 37/60: 100%|██████████| 391/391 [01:06<00:00,  5.90batch/s]"
          ]
        },
        {
          "name": "stdout",
          "output_type": "stream",
          "text": [
            "\n",
            "Epoch 37 finished: Avg. Loss: 0.769, Avg. Acc.: 77.21%, Time: 66.25s\n"
          ]
        },
        {
          "name": "stderr",
          "output_type": "stream",
          "text": [
            "\n"
          ]
        },
        {
          "name": "stdout",
          "output_type": "stream",
          "text": [
            "TESTING WITH EMA:\n",
            "Accuracy of the network on the test images: 77.98 %\n",
            "Average loss on the test images: 0.745\n",
            "New lowest test loss: 0.7423 with accuracy: 78.72%\n"
          ]
        },
        {
          "name": "stderr",
          "output_type": "stream",
          "text": [
            "Epoch 38/60: 100%|██████████| 391/391 [01:06<00:00,  5.90batch/s]"
          ]
        },
        {
          "name": "stdout",
          "output_type": "stream",
          "text": [
            "\n",
            "Epoch 38 finished: Avg. Loss: 0.781, Avg. Acc.: 76.51%, Time: 66.26s\n"
          ]
        },
        {
          "name": "stderr",
          "output_type": "stream",
          "text": [
            "\n"
          ]
        },
        {
          "name": "stdout",
          "output_type": "stream",
          "text": [
            "TESTING WITH EMA:\n",
            "Accuracy of the network on the test images: 78.16 %\n",
            "Average loss on the test images: 0.747\n",
            "New lowest test loss: 0.7423 with accuracy: 78.72%\n"
          ]
        },
        {
          "name": "stderr",
          "output_type": "stream",
          "text": [
            "Epoch 39/60: 100%|██████████| 391/391 [01:06<00:00,  5.90batch/s]"
          ]
        },
        {
          "name": "stdout",
          "output_type": "stream",
          "text": [
            "\n",
            "Epoch 39 finished: Avg. Loss: 0.771, Avg. Acc.: 77.05%, Time: 66.24s\n"
          ]
        },
        {
          "name": "stderr",
          "output_type": "stream",
          "text": [
            "\n"
          ]
        },
        {
          "name": "stdout",
          "output_type": "stream",
          "text": [
            "TESTING WITH EMA:\n",
            "Accuracy of the network on the test images: 78.98 %\n",
            "Average loss on the test images: 0.733\n",
            "New lowest test loss: 0.7328 with accuracy: 78.98%\n"
          ]
        },
        {
          "name": "stderr",
          "output_type": "stream",
          "text": [
            "Epoch 40/60: 100%|██████████| 391/391 [01:06<00:00,  5.91batch/s]"
          ]
        },
        {
          "name": "stdout",
          "output_type": "stream",
          "text": [
            "\n",
            "Epoch 40 finished: Avg. Loss: 0.764, Avg. Acc.: 77.56%, Time: 66.20s\n"
          ]
        },
        {
          "name": "stderr",
          "output_type": "stream",
          "text": [
            "\n"
          ]
        },
        {
          "name": "stdout",
          "output_type": "stream",
          "text": [
            "TESTING WITH EMA:\n",
            "Accuracy of the network on the test images: 78.24 %\n",
            "Average loss on the test images: 0.750\n",
            "New lowest test loss: 0.7328 with accuracy: 78.98%\n"
          ]
        },
        {
          "name": "stderr",
          "output_type": "stream",
          "text": [
            "Epoch 41/60: 100%|██████████| 391/391 [01:06<00:00,  5.90batch/s]"
          ]
        },
        {
          "name": "stdout",
          "output_type": "stream",
          "text": [
            "\n",
            "Epoch 41 finished: Avg. Loss: 0.757, Avg. Acc.: 77.80%, Time: 66.23s\n"
          ]
        },
        {
          "name": "stderr",
          "output_type": "stream",
          "text": [
            "\n"
          ]
        },
        {
          "name": "stdout",
          "output_type": "stream",
          "text": [
            "TESTING WITH EMA:\n",
            "Accuracy of the network on the test images: 77.91 %\n",
            "Average loss on the test images: 0.753\n",
            "New lowest test loss: 0.7328 with accuracy: 78.98%\n"
          ]
        },
        {
          "name": "stderr",
          "output_type": "stream",
          "text": [
            "Epoch 42/60: 100%|██████████| 391/391 [01:06<00:00,  5.90batch/s]"
          ]
        },
        {
          "name": "stdout",
          "output_type": "stream",
          "text": [
            "\n",
            "Epoch 42 finished: Avg. Loss: 0.748, Avg. Acc.: 78.42%, Time: 66.23s\n"
          ]
        },
        {
          "name": "stderr",
          "output_type": "stream",
          "text": [
            "\n"
          ]
        },
        {
          "name": "stdout",
          "output_type": "stream",
          "text": [
            "TESTING WITH EMA:\n",
            "Accuracy of the network on the test images: 80.26 %\n",
            "Average loss on the test images: 0.711\n",
            "New lowest test loss: 0.7113 with accuracy: 80.26%\n"
          ]
        },
        {
          "name": "stderr",
          "output_type": "stream",
          "text": [
            "Epoch 43/60: 100%|██████████| 391/391 [01:06<00:00,  5.90batch/s]"
          ]
        },
        {
          "name": "stdout",
          "output_type": "stream",
          "text": [
            "\n",
            "Epoch 43 finished: Avg. Loss: 0.731, Avg. Acc.: 79.27%, Time: 66.25s\n"
          ]
        },
        {
          "name": "stderr",
          "output_type": "stream",
          "text": [
            "\n"
          ]
        },
        {
          "name": "stdout",
          "output_type": "stream",
          "text": [
            "TESTING WITH EMA:\n",
            "Accuracy of the network on the test images: 80.81 %\n",
            "Average loss on the test images: 0.704\n",
            "New lowest test loss: 0.7042 with accuracy: 80.81%\n"
          ]
        },
        {
          "name": "stderr",
          "output_type": "stream",
          "text": [
            "Epoch 44/60: 100%|██████████| 391/391 [01:06<00:00,  5.90batch/s]"
          ]
        },
        {
          "name": "stdout",
          "output_type": "stream",
          "text": [
            "\n",
            "Epoch 44 finished: Avg. Loss: 0.716, Avg. Acc.: 80.23%, Time: 66.23s\n"
          ]
        },
        {
          "name": "stderr",
          "output_type": "stream",
          "text": [
            "\n"
          ]
        },
        {
          "name": "stdout",
          "output_type": "stream",
          "text": [
            "TESTING WITH EMA:\n",
            "Accuracy of the network on the test images: 80.98 %\n",
            "Average loss on the test images: 0.701\n",
            "New lowest test loss: 0.7011 with accuracy: 80.98%\n"
          ]
        },
        {
          "name": "stderr",
          "output_type": "stream",
          "text": [
            "Epoch 45/60: 100%|██████████| 391/391 [01:06<00:00,  5.90batch/s]"
          ]
        },
        {
          "name": "stdout",
          "output_type": "stream",
          "text": [
            "\n",
            "Epoch 45 finished: Avg. Loss: 0.708, Avg. Acc.: 80.75%, Time: 66.27s\n"
          ]
        },
        {
          "name": "stderr",
          "output_type": "stream",
          "text": [
            "\n"
          ]
        },
        {
          "name": "stdout",
          "output_type": "stream",
          "text": [
            "TESTING WITH EMA:\n",
            "Accuracy of the network on the test images: 81.61 %\n",
            "Average loss on the test images: 0.691\n",
            "New lowest test loss: 0.6911 with accuracy: 81.61%\n"
          ]
        },
        {
          "name": "stderr",
          "output_type": "stream",
          "text": [
            "Epoch 46/60: 100%|██████████| 391/391 [01:06<00:00,  5.90batch/s]"
          ]
        },
        {
          "name": "stdout",
          "output_type": "stream",
          "text": [
            "\n",
            "Epoch 46 finished: Avg. Loss: 0.704, Avg. Acc.: 80.97%, Time: 66.23s\n"
          ]
        },
        {
          "name": "stderr",
          "output_type": "stream",
          "text": [
            "\n"
          ]
        },
        {
          "name": "stdout",
          "output_type": "stream",
          "text": [
            "TESTING WITH EMA:\n",
            "Accuracy of the network on the test images: 82.26 %\n",
            "Average loss on the test images: 0.684\n",
            "New lowest test loss: 0.6845 with accuracy: 82.26%\n"
          ]
        },
        {
          "name": "stderr",
          "output_type": "stream",
          "text": [
            "Epoch 47/60: 100%|██████████| 391/391 [01:06<00:00,  5.90batch/s]"
          ]
        },
        {
          "name": "stdout",
          "output_type": "stream",
          "text": [
            "\n",
            "Epoch 47 finished: Avg. Loss: 0.696, Avg. Acc.: 81.37%, Time: 66.31s\n"
          ]
        },
        {
          "name": "stderr",
          "output_type": "stream",
          "text": [
            "\n"
          ]
        },
        {
          "name": "stdout",
          "output_type": "stream",
          "text": [
            "TESTING WITH EMA:\n",
            "Accuracy of the network on the test images: 81.89 %\n",
            "Average loss on the test images: 0.683\n",
            "New lowest test loss: 0.6826 with accuracy: 81.89%\n"
          ]
        },
        {
          "name": "stderr",
          "output_type": "stream",
          "text": [
            "Epoch 48/60: 100%|██████████| 391/391 [01:06<00:00,  5.90batch/s]"
          ]
        },
        {
          "name": "stdout",
          "output_type": "stream",
          "text": [
            "\n",
            "Epoch 48 finished: Avg. Loss: 0.691, Avg. Acc.: 81.65%, Time: 66.24s\n"
          ]
        },
        {
          "name": "stderr",
          "output_type": "stream",
          "text": [
            "\n"
          ]
        },
        {
          "name": "stdout",
          "output_type": "stream",
          "text": [
            "TESTING WITH EMA:\n",
            "Accuracy of the network on the test images: 81.82 %\n",
            "Average loss on the test images: 0.685\n",
            "New lowest test loss: 0.6826 with accuracy: 81.89%\n"
          ]
        },
        {
          "name": "stderr",
          "output_type": "stream",
          "text": [
            "Epoch 49/60: 100%|██████████| 391/391 [01:06<00:00,  5.90batch/s]"
          ]
        },
        {
          "name": "stdout",
          "output_type": "stream",
          "text": [
            "\n",
            "Epoch 49 finished: Avg. Loss: 0.682, Avg. Acc.: 82.35%, Time: 66.25s\n"
          ]
        },
        {
          "name": "stderr",
          "output_type": "stream",
          "text": [
            "\n"
          ]
        },
        {
          "name": "stdout",
          "output_type": "stream",
          "text": [
            "TESTING WITH EMA:\n",
            "Accuracy of the network on the test images: 82.09 %\n",
            "Average loss on the test images: 0.686\n",
            "New lowest test loss: 0.6826 with accuracy: 81.89%\n"
          ]
        },
        {
          "name": "stderr",
          "output_type": "stream",
          "text": [
            "Epoch 50/60: 100%|██████████| 391/391 [01:06<00:00,  5.90batch/s]"
          ]
        },
        {
          "name": "stdout",
          "output_type": "stream",
          "text": [
            "\n",
            "Epoch 50 finished: Avg. Loss: 0.681, Avg. Acc.: 82.33%, Time: 66.26s\n"
          ]
        },
        {
          "name": "stderr",
          "output_type": "stream",
          "text": [
            "\n"
          ]
        },
        {
          "name": "stdout",
          "output_type": "stream",
          "text": [
            "TESTING WITH EMA:\n",
            "Accuracy of the network on the test images: 83.13 %\n",
            "Average loss on the test images: 0.668\n",
            "New lowest test loss: 0.6680 with accuracy: 83.13%\n"
          ]
        },
        {
          "name": "stderr",
          "output_type": "stream",
          "text": [
            "Epoch 51/60: 100%|██████████| 391/391 [01:06<00:00,  5.89batch/s]"
          ]
        },
        {
          "name": "stdout",
          "output_type": "stream",
          "text": [
            "\n",
            "Epoch 51 finished: Avg. Loss: 0.676, Avg. Acc.: 82.49%, Time: 66.33s\n"
          ]
        },
        {
          "name": "stderr",
          "output_type": "stream",
          "text": [
            "\n"
          ]
        },
        {
          "name": "stdout",
          "output_type": "stream",
          "text": [
            "TESTING WITH EMA:\n",
            "Accuracy of the network on the test images: 82.76 %\n",
            "Average loss on the test images: 0.668\n",
            "New lowest test loss: 0.6680 with accuracy: 83.13%\n"
          ]
        },
        {
          "name": "stderr",
          "output_type": "stream",
          "text": [
            "Epoch 52/60: 100%|██████████| 391/391 [01:06<00:00,  5.90batch/s]"
          ]
        },
        {
          "name": "stdout",
          "output_type": "stream",
          "text": [
            "\n",
            "Epoch 52 finished: Avg. Loss: 0.669, Avg. Acc.: 82.94%, Time: 66.26s\n"
          ]
        },
        {
          "name": "stderr",
          "output_type": "stream",
          "text": [
            "\n"
          ]
        },
        {
          "name": "stdout",
          "output_type": "stream",
          "text": [
            "TESTING WITH EMA:\n",
            "Accuracy of the network on the test images: 83.05 %\n",
            "Average loss on the test images: 0.664\n",
            "New lowest test loss: 0.6641 with accuracy: 83.05%\n"
          ]
        },
        {
          "name": "stderr",
          "output_type": "stream",
          "text": [
            "Epoch 53/60: 100%|██████████| 391/391 [01:06<00:00,  5.90batch/s]"
          ]
        },
        {
          "name": "stdout",
          "output_type": "stream",
          "text": [
            "\n",
            "Epoch 53 finished: Avg. Loss: 0.671, Avg. Acc.: 82.92%, Time: 66.26s\n"
          ]
        },
        {
          "name": "stderr",
          "output_type": "stream",
          "text": [
            "\n"
          ]
        },
        {
          "name": "stdout",
          "output_type": "stream",
          "text": [
            "TESTING WITH EMA:\n",
            "Accuracy of the network on the test images: 83.18 %\n",
            "Average loss on the test images: 0.663\n",
            "New lowest test loss: 0.6634 with accuracy: 83.18%\n"
          ]
        },
        {
          "name": "stderr",
          "output_type": "stream",
          "text": [
            "Epoch 54/60: 100%|██████████| 391/391 [01:06<00:00,  5.90batch/s]"
          ]
        },
        {
          "name": "stdout",
          "output_type": "stream",
          "text": [
            "\n",
            "Epoch 54 finished: Avg. Loss: 0.665, Avg. Acc.: 83.28%, Time: 66.29s\n"
          ]
        },
        {
          "name": "stderr",
          "output_type": "stream",
          "text": [
            "\n"
          ]
        },
        {
          "name": "stdout",
          "output_type": "stream",
          "text": [
            "TESTING WITH EMA:\n",
            "Accuracy of the network on the test images: 83.14 %\n",
            "Average loss on the test images: 0.659\n",
            "New lowest test loss: 0.6593 with accuracy: 83.14%\n"
          ]
        },
        {
          "name": "stderr",
          "output_type": "stream",
          "text": [
            "Epoch 55/60: 100%|██████████| 391/391 [01:06<00:00,  5.90batch/s]"
          ]
        },
        {
          "name": "stdout",
          "output_type": "stream",
          "text": [
            "\n",
            "Epoch 55 finished: Avg. Loss: 0.659, Avg. Acc.: 83.58%, Time: 66.33s\n"
          ]
        },
        {
          "name": "stderr",
          "output_type": "stream",
          "text": [
            "\n"
          ]
        },
        {
          "name": "stdout",
          "output_type": "stream",
          "text": [
            "TESTING WITH EMA:\n",
            "Accuracy of the network on the test images: 83.12 %\n",
            "Average loss on the test images: 0.661\n",
            "New lowest test loss: 0.6593 with accuracy: 83.14%\n"
          ]
        },
        {
          "name": "stderr",
          "output_type": "stream",
          "text": [
            "Epoch 56/60: 100%|██████████| 391/391 [01:06<00:00,  5.90batch/s]"
          ]
        },
        {
          "name": "stdout",
          "output_type": "stream",
          "text": [
            "\n",
            "Epoch 56 finished: Avg. Loss: 0.659, Avg. Acc.: 83.72%, Time: 66.31s\n"
          ]
        },
        {
          "name": "stderr",
          "output_type": "stream",
          "text": [
            "\n"
          ]
        },
        {
          "name": "stdout",
          "output_type": "stream",
          "text": [
            "TESTING WITH EMA:\n",
            "Accuracy of the network on the test images: 83.87 %\n",
            "Average loss on the test images: 0.652\n",
            "New lowest test loss: 0.6519 with accuracy: 83.87%\n"
          ]
        },
        {
          "name": "stderr",
          "output_type": "stream",
          "text": [
            "Epoch 57/60: 100%|██████████| 391/391 [01:06<00:00,  5.90batch/s]"
          ]
        },
        {
          "name": "stdout",
          "output_type": "stream",
          "text": [
            "\n",
            "Epoch 57 finished: Avg. Loss: 0.652, Avg. Acc.: 83.88%, Time: 66.33s\n"
          ]
        },
        {
          "name": "stderr",
          "output_type": "stream",
          "text": [
            "\n"
          ]
        },
        {
          "name": "stdout",
          "output_type": "stream",
          "text": [
            "TESTING WITH EMA:\n",
            "Accuracy of the network on the test images: 84.09 %\n",
            "Average loss on the test images: 0.649\n",
            "New lowest test loss: 0.6491 with accuracy: 84.09%\n"
          ]
        },
        {
          "name": "stderr",
          "output_type": "stream",
          "text": [
            "Epoch 58/60: 100%|██████████| 391/391 [01:06<00:00,  5.90batch/s]"
          ]
        },
        {
          "name": "stdout",
          "output_type": "stream",
          "text": [
            "\n",
            "Epoch 58 finished: Avg. Loss: 0.649, Avg. Acc.: 84.12%, Time: 66.32s\n"
          ]
        },
        {
          "name": "stderr",
          "output_type": "stream",
          "text": [
            "\n"
          ]
        },
        {
          "name": "stdout",
          "output_type": "stream",
          "text": [
            "TESTING WITH EMA:\n",
            "Accuracy of the network on the test images: 84.08 %\n",
            "Average loss on the test images: 0.646\n",
            "New lowest test loss: 0.6458 with accuracy: 84.08%\n"
          ]
        },
        {
          "name": "stderr",
          "output_type": "stream",
          "text": [
            "Epoch 59/60: 100%|██████████| 391/391 [01:06<00:00,  5.89batch/s]"
          ]
        },
        {
          "name": "stdout",
          "output_type": "stream",
          "text": [
            "\n",
            "Epoch 59 finished: Avg. Loss: 0.651, Avg. Acc.: 84.07%, Time: 66.37s\n"
          ]
        },
        {
          "name": "stderr",
          "output_type": "stream",
          "text": [
            "\n"
          ]
        },
        {
          "name": "stdout",
          "output_type": "stream",
          "text": [
            "TESTING WITH EMA:\n",
            "Accuracy of the network on the test images: 83.97 %\n",
            "Average loss on the test images: 0.648\n",
            "New lowest test loss: 0.6458 with accuracy: 84.08%\n"
          ]
        },
        {
          "name": "stderr",
          "output_type": "stream",
          "text": [
            "Epoch 60/60: 100%|██████████| 391/391 [01:06<00:00,  5.90batch/s]"
          ]
        },
        {
          "name": "stdout",
          "output_type": "stream",
          "text": [
            "\n",
            "Epoch 60 finished: Avg. Loss: 0.646, Avg. Acc.: 84.44%, Time: 66.33s\n"
          ]
        },
        {
          "name": "stderr",
          "output_type": "stream",
          "text": [
            "\n"
          ]
        },
        {
          "name": "stdout",
          "output_type": "stream",
          "text": [
            "TESTING WITH EMA:\n",
            "Accuracy of the network on the test images: 83.91 %\n",
            "Average loss on the test images: 0.645\n",
            "New lowest test loss: 0.6454 with accuracy: 83.91%\n",
            "Finished Training. Best Test Loss: 0.6454, Best Accuracy: 83.91%\n"
          ]
        },
        {
          "data": {
            "application/vnd.jupyter.widget-view+json": {
              "model_id": "8249644142ff47de8f85db1f01afd4f3",
              "version_major": 2,
              "version_minor": 0
            },
            "text/plain": [
              "VBox(children=(Label(value='0.002 MB of 0.002 MB uploaded\\r'), FloatProgress(value=1.0, max=1.0)))"
            ]
          },
          "metadata": {},
          "output_type": "display_data"
        },
        {
          "data": {
            "text/html": [
              "<style>\n",
              "    table.wandb td:nth-child(1) { padding: 0 10px; text-align: left ; width: auto;} td:nth-child(2) {text-align: left ; width: 100%}\n",
              "    .wandb-row { display: flex; flex-direction: row; flex-wrap: wrap; justify-content: flex-start; width: 100% }\n",
              "    .wandb-col { display: flex; flex-direction: column; flex-basis: 100%; flex: 1; padding: 10px; }\n",
              "    </style>\n",
              "<div class=\"wandb-row\"><div class=\"wandb-col\"><h3>Run history:</h3><br/><table class=\"wandb\"><tr><td>Accuracy</td><td>▁▁▂▂▃▄▄▅▅▅▅▆▆▆▆▆▇▇▇▇▇▇▇▇▇▇▇▇▇▇██████████</td></tr><tr><td>Best Accuracy</td><td>▁▂▂▂▃▃▃▄▄▅▅▅▅▆▆▆▆▆▆▇▇▇▇▇▇▇▇█████████████</td></tr><tr><td>Best Test Loss</td><td>████▇▆▆▆▅▅▅▅▄▄▄▄▃▃▃▃▃▃▃▂▂▂▂▂▂▂▁▁▁▁▁▁▁▁▁▁</td></tr><tr><td>EMA Test Accuracy</td><td>▁▂▂▃▃▄▅▄▅▅▆▆▆▆▆▆▇▇▇▇▇▇▇▇▇▇▇▇████████████</td></tr><tr><td>EMA Test Loss</td><td>███▇▆▆▅▅▅▄▄▄▄▃▃▃▃▃▃▃▃▃▂▂▂▂▂▂▂▂▁▁▁▁▁▁▁▁▁▁</td></tr><tr><td>Epoch</td><td>▁▁▁▁▂▂▂▂▂▃▃▃▃▃▃▄▄▄▄▄▅▅▅▅▅▅▆▆▆▆▆▆▇▇▇▇▇███</td></tr><tr><td>Learning Rate</td><td>▁▁▂▂▃▄▅▆▇▇███████▇▇▇▆▆▆▆▅▅▄▄▃▃▃▃▂▂▂▁▁▁▁▁</td></tr><tr><td>Loss</td><td>██▇▇▆▆▅▅▄▄▄▄▄▃▃▃▃▃▃▃▃▃▂▂▂▂▂▂▂▂▁▁▁▁▁▁▁▁▁▁</td></tr></table><br/></div><div class=\"wandb-col\"><h3>Run summary:</h3><br/><table class=\"wandb\"><tr><td>Accuracy</td><td>84.44</td></tr><tr><td>Best Accuracy</td><td>83.91</td></tr><tr><td>Best Test Loss</td><td>0.64541</td></tr><tr><td>EMA Test Accuracy</td><td>83.91</td></tr><tr><td>EMA Test Loss</td><td>0.64541</td></tr><tr><td>Epoch</td><td>60</td></tr><tr><td>Learning Rate</td><td>0.0</td></tr><tr><td>Loss</td><td>0.64645</td></tr></table><br/></div></div>"
            ],
            "text/plain": [
              "<IPython.core.display.HTML object>"
            ]
          },
          "metadata": {},
          "output_type": "display_data"
        },
        {
          "data": {
            "text/html": [
              " View run <strong style=\"color:#cdcd00\">neat-plant-26</strong> at: <a href='https://wandb.ai/jdeklerk10/cs_mp3/runs/rlykllk1' target=\"_blank\">https://wandb.ai/jdeklerk10/cs_mp3/runs/rlykllk1</a><br/>Synced 5 W&B file(s), 0 media file(s), 0 artifact file(s) and 0 other file(s)"
            ],
            "text/plain": [
              "<IPython.core.display.HTML object>"
            ]
          },
          "metadata": {},
          "output_type": "display_data"
        },
        {
          "data": {
            "text/html": [
              "Find logs at: <code>./wandb/run-20240320_223329-rlykllk1/logs</code>"
            ],
            "text/plain": [
              "<IPython.core.display.HTML object>"
            ]
          },
          "metadata": {},
          "output_type": "display_data"
        }
      ],
      "source": [
        "def main():\n",
        "    args, unknown = parser.parse_known_args()\n",
        "    args.checkpoint_dir = '/content/assignment3/assignment3/assignment3_part1/Checkpoints'\n",
        "    args.seed = 315\n",
        "\n",
        "    setup_seed(args.seed)\n",
        "    print_gpu_info(device)\n",
        "\n",
        "    print(\"\\n--- Preparing Data for Rotation Task ---\\n\")\n",
        "\n",
        "    transform_train, transform_test = get_transforms()\n",
        "\n",
        "    trainset = CIFAR10Rotation(root='./data', train=True,\n",
        "                                            download=True, transform=transform_train)\n",
        "    trainloader = torch.utils.data.DataLoader(trainset, batch_size=args.BATCH_SIZE,\n",
        "                                              shuffle=True, num_workers=args.NUM_WORKERS)\n",
        "\n",
        "    testset = CIFAR10Rotation(root='./data', train=False,\n",
        "                                          download=True, transform=transform_test)\n",
        "    testloader = torch.utils.data.DataLoader(testset, batch_size=args.BATCH_SIZE,\n",
        "                                            shuffle=False, num_workers=args.NUM_WORKERS)\n",
        "\n",
        "    print(\"\\n--- Training ViT on Rotation Task with EMA ---\\n\")\n",
        "\n",
        "    model_path = '/content/assignment3/assignment3/assignment3_part1/ViT_rotation_task_EMA_best_model.pth'\n",
        "    project_name = 'cs_mp3'\n",
        "\n",
        "    model = ViT(args.NUM_CLASSES, args.IMAGE_SIZE, channels=args.CHANNELS, head_channels=args.HEAD_CHANNELS, num_blocks=args.NUM_BLOCKS, patch_size=args.PATCH_SIZE,\n",
        "               emb_p_drop=args.EMB_P_DROP, trans_p_drop=args.TRANS_P_DROP, head_p_drop=args.HEAD_P_DROP).to(device)\n",
        "\n",
        "    criterion = nn.CrossEntropyLoss(label_smoothing=0.1)\n",
        "    optimizer = get_adam_optimizer(model.parameters(), lr=args.LEARNING_RATE, wd=args.WEIGHT_DECAY)\n",
        "    # lr_scheduler = build_scheduler(args, optimizer)\n",
        "    lr_scheduler = torch.optim.lr_scheduler.OneCycleLR(optimizer, max_lr=args.LEARNING_RATE, steps_per_epoch=len(trainloader), epochs=args.EPOCHS)\n",
        "    ema = ExponentialMovingAverage(model.parameters(), decay=0.995)\n",
        "\n",
        "    train(model, criterion, optimizer, ema=ema, num_epochs=args.EPOCHS, lr_scheduler=lr_scheduler, init_lr=args.LEARNING_RATE, task='rotation', trainloader=trainloader, testloader=testloader, model_path=model_path)\n",
        "\n",
        "if __name__ == \"__main__\":\n",
        "    main()"
      ]
    },
    {
      "cell_type": "markdown",
      "metadata": {
        "id": "0JvXvfDlnkVH"
      },
      "source": [
        "## Classification ViT with EMA"
      ]
    },
    {
      "cell_type": "code",
      "execution_count": null,
      "metadata": {
        "colab": {
          "base_uri": "https://localhost:8080/",
          "height": 1000,
          "referenced_widgets": [
            "9f85b69256184f99a358d0028945db1c",
            "4a3b761d400d4115abf993ce0118ccf4",
            "6c665802f0e34af280dc360e48da41f3",
            "064875c228d0464e872901c9cb3718c8",
            "4565026d24104a8f9e3322e0adbf613a",
            "80021d967e8a484f8f3c97876a1d3029",
            "1df13d162e444e09af7a8c77af1774a8",
            "cf592e3489d44d3382c35cd40f5b57d1"
          ]
        },
        "id": "HV2OM-4CnnHF",
        "outputId": "5633af2f-a39c-443f-a270-cc27ce9d2019"
      },
      "outputs": [
        {
          "name": "stdout",
          "output_type": "stream",
          "text": [
            "\n",
            "--- GPU Information ---\n",
            "\n",
            "Model is using device: cuda\n",
            "CUDA Device: Tesla V100-SXM2-16GB\n",
            "Total Memory: 16151.125 MB\n",
            "\n",
            "--- Preparing Data for Classification Task ---\n",
            "\n",
            "Files already downloaded and verified\n",
            "Files already downloaded and verified\n",
            "\n",
            "--- Training ViT on Classification Task ---\n",
            "\n",
            "Replaced Linear Layer: 5\n"
          ]
        },
        {
          "data": {
            "application/javascript": "\n        window._wandbApiKey = new Promise((resolve, reject) => {\n            function loadScript(url) {\n            return new Promise(function(resolve, reject) {\n                let newScript = document.createElement(\"script\");\n                newScript.onerror = reject;\n                newScript.onload = resolve;\n                document.body.appendChild(newScript);\n                newScript.src = url;\n            });\n            }\n            loadScript(\"https://cdn.jsdelivr.net/npm/postmate/build/postmate.min.js\").then(() => {\n            const iframe = document.createElement('iframe')\n            iframe.style.cssText = \"width:0;height:0;border:none\"\n            document.body.appendChild(iframe)\n            const handshake = new Postmate({\n                container: iframe,\n                url: 'https://wandb.ai/authorize'\n            });\n            const timeout = setTimeout(() => reject(\"Couldn't auto authenticate\"), 5000)\n            handshake.then(function(child) {\n                child.on('authorize', data => {\n                    clearTimeout(timeout)\n                    resolve(data)\n                });\n            });\n            })\n        });\n    ",
            "text/plain": [
              "<IPython.core.display.Javascript object>"
            ]
          },
          "metadata": {},
          "output_type": "display_data"
        },
        {
          "name": "stderr",
          "output_type": "stream",
          "text": [
            "\u001b[34m\u001b[1mwandb\u001b[0m: Logging into wandb.ai. (Learn how to deploy a W&B server locally: https://wandb.me/wandb-server)\n",
            "\u001b[34m\u001b[1mwandb\u001b[0m: You can find your API key in your browser here: https://wandb.ai/authorize\n",
            "wandb: Paste an API key from your profile and hit enter, or press ctrl+c to quit:"
          ]
        },
        {
          "name": "stdout",
          "output_type": "stream",
          "text": [
            " ··········\n"
          ]
        },
        {
          "name": "stderr",
          "output_type": "stream",
          "text": [
            "\u001b[34m\u001b[1mwandb\u001b[0m: Appending key for api.wandb.ai to your netrc file: /root/.netrc\n"
          ]
        },
        {
          "data": {
            "text/html": [
              "Tracking run with wandb version 0.16.4"
            ],
            "text/plain": [
              "<IPython.core.display.HTML object>"
            ]
          },
          "metadata": {},
          "output_type": "display_data"
        },
        {
          "data": {
            "text/html": [
              "Run data is saved locally in <code>/content/drive/MyDrive/assignment3/wandb/run-20240320_235056-rint6vtn</code>"
            ],
            "text/plain": [
              "<IPython.core.display.HTML object>"
            ]
          },
          "metadata": {},
          "output_type": "display_data"
        },
        {
          "data": {
            "text/html": [
              "Syncing run <strong><a href='https://wandb.ai/jdeklerk10/cs_mp3/runs/rint6vtn' target=\"_blank\">wandering-galaxy-28</a></strong> to <a href='https://wandb.ai/jdeklerk10/cs_mp3' target=\"_blank\">Weights & Biases</a> (<a href='https://wandb.me/run' target=\"_blank\">docs</a>)<br/>"
            ],
            "text/plain": [
              "<IPython.core.display.HTML object>"
            ]
          },
          "metadata": {},
          "output_type": "display_data"
        },
        {
          "data": {
            "text/html": [
              " View project at <a href='https://wandb.ai/jdeklerk10/cs_mp3' target=\"_blank\">https://wandb.ai/jdeklerk10/cs_mp3</a>"
            ],
            "text/plain": [
              "<IPython.core.display.HTML object>"
            ]
          },
          "metadata": {},
          "output_type": "display_data"
        },
        {
          "data": {
            "text/html": [
              " View run at <a href='https://wandb.ai/jdeklerk10/cs_mp3/runs/rint6vtn' target=\"_blank\">https://wandb.ai/jdeklerk10/cs_mp3/runs/rint6vtn</a>"
            ],
            "text/plain": [
              "<IPython.core.display.HTML object>"
            ]
          },
          "metadata": {},
          "output_type": "display_data"
        },
        {
          "name": "stdout",
          "output_type": "stream",
          "text": [
            "TRAINING WITH EMA:\n"
          ]
        },
        {
          "name": "stderr",
          "output_type": "stream",
          "text": [
            "Epoch 1/30: 100%|██████████| 391/391 [01:09<00:00,  5.60batch/s]"
          ]
        },
        {
          "name": "stdout",
          "output_type": "stream",
          "text": [
            "\n",
            "Epoch 1 finished: Avg. Loss: 1.756, Avg. Acc.: 43.65%, Time: 69.79s\n"
          ]
        },
        {
          "name": "stderr",
          "output_type": "stream",
          "text": [
            "\n"
          ]
        },
        {
          "name": "stdout",
          "output_type": "stream",
          "text": [
            "TESTING WITH EMA:\n",
            "Accuracy of the network on the test images: 55.98 %\n",
            "Average loss on the test images: 1.486\n",
            "New lowest test loss: 1.4858 with accuracy: 55.98%\n"
          ]
        },
        {
          "name": "stderr",
          "output_type": "stream",
          "text": [
            "Epoch 2/30: 100%|██████████| 391/391 [01:07<00:00,  5.83batch/s]"
          ]
        },
        {
          "name": "stdout",
          "output_type": "stream",
          "text": [
            "\n",
            "Epoch 2 finished: Avg. Loss: 1.411, Avg. Acc.: 58.93%, Time: 67.10s\n"
          ]
        },
        {
          "name": "stderr",
          "output_type": "stream",
          "text": [
            "\n"
          ]
        },
        {
          "name": "stdout",
          "output_type": "stream",
          "text": [
            "TESTING WITH EMA:\n",
            "Accuracy of the network on the test images: 62.31 %\n",
            "Average loss on the test images: 1.326\n",
            "New lowest test loss: 1.3262 with accuracy: 62.31%\n"
          ]
        },
        {
          "name": "stderr",
          "output_type": "stream",
          "text": [
            "Epoch 3/30: 100%|██████████| 391/391 [01:06<00:00,  5.84batch/s]"
          ]
        },
        {
          "name": "stdout",
          "output_type": "stream",
          "text": [
            "\n",
            "Epoch 3 finished: Avg. Loss: 1.301, Avg. Acc.: 63.66%, Time: 66.93s\n"
          ]
        },
        {
          "name": "stderr",
          "output_type": "stream",
          "text": [
            "\n"
          ]
        },
        {
          "name": "stdout",
          "output_type": "stream",
          "text": [
            "TESTING WITH EMA:\n",
            "Accuracy of the network on the test images: 66.21 %\n",
            "Average loss on the test images: 1.239\n",
            "New lowest test loss: 1.2385 with accuracy: 66.21%\n"
          ]
        },
        {
          "name": "stderr",
          "output_type": "stream",
          "text": [
            "Epoch 4/30: 100%|██████████| 391/391 [01:06<00:00,  5.84batch/s]"
          ]
        },
        {
          "name": "stdout",
          "output_type": "stream",
          "text": [
            "\n",
            "Epoch 4 finished: Avg. Loss: 1.228, Avg. Acc.: 67.39%, Time: 66.95s\n"
          ]
        },
        {
          "name": "stderr",
          "output_type": "stream",
          "text": [
            "\n"
          ]
        },
        {
          "name": "stdout",
          "output_type": "stream",
          "text": [
            "TESTING WITH EMA:\n",
            "Accuracy of the network on the test images: 69.52 %\n",
            "Average loss on the test images: 1.178\n",
            "New lowest test loss: 1.1776 with accuracy: 69.52%\n"
          ]
        },
        {
          "name": "stderr",
          "output_type": "stream",
          "text": [
            "Epoch 5/30: 100%|██████████| 391/391 [01:06<00:00,  5.84batch/s]"
          ]
        },
        {
          "name": "stdout",
          "output_type": "stream",
          "text": [
            "\n",
            "Epoch 5 finished: Avg. Loss: 1.172, Avg. Acc.: 70.13%, Time: 66.97s\n"
          ]
        },
        {
          "name": "stderr",
          "output_type": "stream",
          "text": [
            "\n"
          ]
        },
        {
          "name": "stdout",
          "output_type": "stream",
          "text": [
            "TESTING WITH EMA:\n",
            "Accuracy of the network on the test images: 71.17 %\n",
            "Average loss on the test images: 1.135\n",
            "New lowest test loss: 1.1349 with accuracy: 71.17%\n"
          ]
        },
        {
          "name": "stderr",
          "output_type": "stream",
          "text": [
            "Epoch 6/30: 100%|██████████| 391/391 [01:07<00:00,  5.82batch/s]"
          ]
        },
        {
          "name": "stdout",
          "output_type": "stream",
          "text": [
            "\n",
            "Epoch 6 finished: Avg. Loss: 1.130, Avg. Acc.: 72.20%, Time: 67.18s\n"
          ]
        },
        {
          "name": "stderr",
          "output_type": "stream",
          "text": [
            "\n"
          ]
        },
        {
          "name": "stdout",
          "output_type": "stream",
          "text": [
            "TESTING WITH EMA:\n",
            "Accuracy of the network on the test images: 72.26 %\n",
            "Average loss on the test images: 1.115\n",
            "New lowest test loss: 1.1147 with accuracy: 72.26%\n"
          ]
        },
        {
          "name": "stderr",
          "output_type": "stream",
          "text": [
            "Epoch 7/30: 100%|██████████| 391/391 [01:07<00:00,  5.83batch/s]"
          ]
        },
        {
          "name": "stdout",
          "output_type": "stream",
          "text": [
            "\n",
            "Epoch 7 finished: Avg. Loss: 1.100, Avg. Acc.: 73.53%, Time: 67.03s\n"
          ]
        },
        {
          "name": "stderr",
          "output_type": "stream",
          "text": [
            "\n"
          ]
        },
        {
          "name": "stdout",
          "output_type": "stream",
          "text": [
            "TESTING WITH EMA:\n",
            "Accuracy of the network on the test images: 73.93 %\n",
            "Average loss on the test images: 1.088\n",
            "New lowest test loss: 1.0878 with accuracy: 73.93%\n"
          ]
        },
        {
          "name": "stderr",
          "output_type": "stream",
          "text": [
            "Epoch 8/30: 100%|██████████| 391/391 [01:07<00:00,  5.83batch/s]"
          ]
        },
        {
          "name": "stdout",
          "output_type": "stream",
          "text": [
            "\n",
            "Epoch 8 finished: Avg. Loss: 1.079, Avg. Acc.: 74.58%, Time: 67.07s\n"
          ]
        },
        {
          "name": "stderr",
          "output_type": "stream",
          "text": [
            "\n"
          ]
        },
        {
          "name": "stdout",
          "output_type": "stream",
          "text": [
            "TESTING WITH EMA:\n",
            "Accuracy of the network on the test images: 73.36 %\n",
            "Average loss on the test images: 1.090\n",
            "New lowest test loss: 1.0878 with accuracy: 73.93%\n"
          ]
        },
        {
          "name": "stderr",
          "output_type": "stream",
          "text": [
            "Epoch 9/30: 100%|██████████| 391/391 [01:07<00:00,  5.83batch/s]"
          ]
        },
        {
          "name": "stdout",
          "output_type": "stream",
          "text": [
            "\n",
            "Epoch 9 finished: Avg. Loss: 1.056, Avg. Acc.: 75.46%, Time: 67.04s\n"
          ]
        },
        {
          "name": "stderr",
          "output_type": "stream",
          "text": [
            "\n"
          ]
        },
        {
          "name": "stdout",
          "output_type": "stream",
          "text": [
            "TESTING WITH EMA:\n",
            "Accuracy of the network on the test images: 75.13 %\n",
            "Average loss on the test images: 1.064\n",
            "New lowest test loss: 1.0643 with accuracy: 75.13%\n"
          ]
        },
        {
          "name": "stderr",
          "output_type": "stream",
          "text": [
            "Epoch 10/30: 100%|██████████| 391/391 [01:07<00:00,  5.83batch/s]"
          ]
        },
        {
          "name": "stdout",
          "output_type": "stream",
          "text": [
            "\n",
            "Epoch 10 finished: Avg. Loss: 1.043, Avg. Acc.: 76.12%, Time: 67.07s\n"
          ]
        },
        {
          "name": "stderr",
          "output_type": "stream",
          "text": [
            "\n"
          ]
        },
        {
          "name": "stdout",
          "output_type": "stream",
          "text": [
            "TESTING WITH EMA:\n",
            "Accuracy of the network on the test images: 74.23 %\n",
            "Average loss on the test images: 1.074\n",
            "New lowest test loss: 1.0643 with accuracy: 75.13%\n"
          ]
        },
        {
          "name": "stderr",
          "output_type": "stream",
          "text": [
            "Epoch 11/30: 100%|██████████| 391/391 [01:07<00:00,  5.83batch/s]"
          ]
        },
        {
          "name": "stdout",
          "output_type": "stream",
          "text": [
            "\n",
            "Epoch 11 finished: Avg. Loss: 0.993, Avg. Acc.: 78.30%, Time: 67.05s\n"
          ]
        },
        {
          "name": "stderr",
          "output_type": "stream",
          "text": [
            "\n"
          ]
        },
        {
          "name": "stdout",
          "output_type": "stream",
          "text": [
            "TESTING WITH EMA:\n",
            "Accuracy of the network on the test images: 77.26 %\n",
            "Average loss on the test images: 1.023\n",
            "New lowest test loss: 1.0232 with accuracy: 77.26%\n"
          ]
        },
        {
          "name": "stderr",
          "output_type": "stream",
          "text": [
            "Epoch 12/30: 100%|██████████| 391/391 [01:06<00:00,  5.84batch/s]"
          ]
        },
        {
          "name": "stdout",
          "output_type": "stream",
          "text": [
            "\n",
            "Epoch 12 finished: Avg. Loss: 1.021, Avg. Acc.: 77.17%, Time: 66.98s\n"
          ]
        },
        {
          "name": "stderr",
          "output_type": "stream",
          "text": [
            "\n"
          ]
        },
        {
          "name": "stdout",
          "output_type": "stream",
          "text": [
            "TESTING WITH EMA:\n",
            "Accuracy of the network on the test images: 76.00 %\n",
            "Average loss on the test images: 1.034\n",
            "New lowest test loss: 1.0232 with accuracy: 77.26%\n"
          ]
        },
        {
          "name": "stderr",
          "output_type": "stream",
          "text": [
            "Epoch 13/30: 100%|██████████| 391/391 [01:06<00:00,  5.84batch/s]"
          ]
        },
        {
          "name": "stdout",
          "output_type": "stream",
          "text": [
            "\n",
            "Epoch 13 finished: Avg. Loss: 1.021, Avg. Acc.: 77.15%, Time: 66.93s\n"
          ]
        },
        {
          "name": "stderr",
          "output_type": "stream",
          "text": [
            "\n"
          ]
        },
        {
          "name": "stdout",
          "output_type": "stream",
          "text": [
            "TESTING WITH EMA:\n",
            "Accuracy of the network on the test images: 74.23 %\n",
            "Average loss on the test images: 1.072\n",
            "New lowest test loss: 1.0232 with accuracy: 77.26%\n"
          ]
        },
        {
          "name": "stderr",
          "output_type": "stream",
          "text": [
            "Epoch 14/30: 100%|██████████| 391/391 [01:07<00:00,  5.83batch/s]"
          ]
        },
        {
          "name": "stdout",
          "output_type": "stream",
          "text": [
            "\n",
            "Epoch 14 finished: Avg. Loss: 1.003, Avg. Acc.: 77.98%, Time: 67.03s\n"
          ]
        },
        {
          "name": "stderr",
          "output_type": "stream",
          "text": [
            "\n"
          ]
        },
        {
          "name": "stdout",
          "output_type": "stream",
          "text": [
            "TESTING WITH EMA:\n",
            "Accuracy of the network on the test images: 78.05 %\n",
            "Average loss on the test images: 0.994\n",
            "New lowest test loss: 0.9938 with accuracy: 78.05%\n"
          ]
        },
        {
          "name": "stderr",
          "output_type": "stream",
          "text": [
            "Epoch 15/30: 100%|██████████| 391/391 [01:07<00:00,  5.83batch/s]"
          ]
        },
        {
          "name": "stdout",
          "output_type": "stream",
          "text": [
            "\n",
            "Epoch 15 finished: Avg. Loss: 0.995, Avg. Acc.: 78.27%, Time: 67.04s\n"
          ]
        },
        {
          "name": "stderr",
          "output_type": "stream",
          "text": [
            "\n"
          ]
        },
        {
          "name": "stdout",
          "output_type": "stream",
          "text": [
            "TESTING WITH EMA:\n",
            "Accuracy of the network on the test images: 76.46 %\n",
            "Average loss on the test images: 1.021\n",
            "New lowest test loss: 0.9938 with accuracy: 78.05%\n"
          ]
        },
        {
          "name": "stderr",
          "output_type": "stream",
          "text": [
            "Epoch 16/30: 100%|██████████| 391/391 [01:07<00:00,  5.83batch/s]"
          ]
        },
        {
          "name": "stdout",
          "output_type": "stream",
          "text": [
            "\n",
            "Epoch 16 finished: Avg. Loss: 0.987, Avg. Acc.: 78.69%, Time: 67.10s\n"
          ]
        },
        {
          "name": "stderr",
          "output_type": "stream",
          "text": [
            "\n"
          ]
        },
        {
          "name": "stdout",
          "output_type": "stream",
          "text": [
            "TESTING WITH EMA:\n",
            "Accuracy of the network on the test images: 78.53 %\n",
            "Average loss on the test images: 0.977\n",
            "New lowest test loss: 0.9767 with accuracy: 78.53%\n"
          ]
        },
        {
          "name": "stderr",
          "output_type": "stream",
          "text": [
            "Epoch 17/30: 100%|██████████| 391/391 [01:07<00:00,  5.83batch/s]"
          ]
        },
        {
          "name": "stdout",
          "output_type": "stream",
          "text": [
            "\n",
            "Epoch 17 finished: Avg. Loss: 0.941, Avg. Acc.: 80.77%, Time: 67.07s\n"
          ]
        },
        {
          "name": "stderr",
          "output_type": "stream",
          "text": [
            "\n"
          ]
        },
        {
          "name": "stdout",
          "output_type": "stream",
          "text": [
            "TESTING WITH EMA:\n",
            "Accuracy of the network on the test images: 80.01 %\n",
            "Average loss on the test images: 0.939\n",
            "New lowest test loss: 0.9389 with accuracy: 80.01%\n"
          ]
        },
        {
          "name": "stderr",
          "output_type": "stream",
          "text": [
            "Epoch 18/30: 100%|██████████| 391/391 [01:07<00:00,  5.83batch/s]"
          ]
        },
        {
          "name": "stdout",
          "output_type": "stream",
          "text": [
            "\n",
            "Epoch 18 finished: Avg. Loss: 0.905, Avg. Acc.: 82.48%, Time: 67.07s\n"
          ]
        },
        {
          "name": "stderr",
          "output_type": "stream",
          "text": [
            "\n"
          ]
        },
        {
          "name": "stdout",
          "output_type": "stream",
          "text": [
            "TESTING WITH EMA:\n",
            "Accuracy of the network on the test images: 80.47 %\n",
            "Average loss on the test images: 0.952\n",
            "New lowest test loss: 0.9389 with accuracy: 80.01%\n"
          ]
        },
        {
          "name": "stderr",
          "output_type": "stream",
          "text": [
            "Epoch 19/30: 100%|██████████| 391/391 [01:07<00:00,  5.83batch/s]"
          ]
        },
        {
          "name": "stdout",
          "output_type": "stream",
          "text": [
            "\n",
            "Epoch 19 finished: Avg. Loss: 0.896, Avg. Acc.: 82.98%, Time: 67.05s\n"
          ]
        },
        {
          "name": "stderr",
          "output_type": "stream",
          "text": [
            "\n"
          ]
        },
        {
          "name": "stdout",
          "output_type": "stream",
          "text": [
            "TESTING WITH EMA:\n",
            "Accuracy of the network on the test images: 80.29 %\n",
            "Average loss on the test images: 0.944\n",
            "New lowest test loss: 0.9389 with accuracy: 80.01%\n"
          ]
        },
        {
          "name": "stderr",
          "output_type": "stream",
          "text": [
            "Epoch 20/30: 100%|██████████| 391/391 [01:07<00:00,  5.83batch/s]"
          ]
        },
        {
          "name": "stdout",
          "output_type": "stream",
          "text": [
            "\n",
            "Epoch 20 finished: Avg. Loss: 0.931, Avg. Acc.: 81.33%, Time: 67.06s\n"
          ]
        },
        {
          "name": "stderr",
          "output_type": "stream",
          "text": [
            "\n"
          ]
        },
        {
          "name": "stdout",
          "output_type": "stream",
          "text": [
            "TESTING WITH EMA:\n",
            "Accuracy of the network on the test images: 74.88 %\n",
            "Average loss on the test images: 1.069\n",
            "New lowest test loss: 0.9389 with accuracy: 80.01%\n"
          ]
        },
        {
          "name": "stderr",
          "output_type": "stream",
          "text": [
            "Epoch 21/30: 100%|██████████| 391/391 [01:07<00:00,  5.83batch/s]"
          ]
        },
        {
          "name": "stdout",
          "output_type": "stream",
          "text": [
            "\n",
            "Epoch 21 finished: Avg. Loss: 0.933, Avg. Acc.: 81.11%, Time: 67.13s\n"
          ]
        },
        {
          "name": "stderr",
          "output_type": "stream",
          "text": [
            "\n"
          ]
        },
        {
          "name": "stdout",
          "output_type": "stream",
          "text": [
            "TESTING WITH EMA:\n",
            "Accuracy of the network on the test images: 80.55 %\n",
            "Average loss on the test images: 0.935\n",
            "New lowest test loss: 0.9350 with accuracy: 80.55%\n"
          ]
        },
        {
          "name": "stderr",
          "output_type": "stream",
          "text": [
            "Epoch 22/30: 100%|██████████| 391/391 [01:07<00:00,  5.83batch/s]"
          ]
        },
        {
          "name": "stdout",
          "output_type": "stream",
          "text": [
            "\n",
            "Epoch 22 finished: Avg. Loss: 0.923, Avg. Acc.: 81.56%, Time: 67.11s\n"
          ]
        },
        {
          "name": "stderr",
          "output_type": "stream",
          "text": [
            "\n"
          ]
        },
        {
          "name": "stdout",
          "output_type": "stream",
          "text": [
            "TESTING WITH EMA:\n",
            "Accuracy of the network on the test images: 79.37 %\n",
            "Average loss on the test images: 0.954\n",
            "New lowest test loss: 0.9350 with accuracy: 80.55%\n"
          ]
        },
        {
          "name": "stderr",
          "output_type": "stream",
          "text": [
            "Epoch 23/30: 100%|██████████| 391/391 [01:07<00:00,  5.83batch/s]"
          ]
        },
        {
          "name": "stdout",
          "output_type": "stream",
          "text": [
            "\n",
            "Epoch 23 finished: Avg. Loss: 0.905, Avg. Acc.: 82.45%, Time: 67.11s\n"
          ]
        },
        {
          "name": "stderr",
          "output_type": "stream",
          "text": [
            "\n"
          ]
        },
        {
          "name": "stdout",
          "output_type": "stream",
          "text": [
            "TESTING WITH EMA:\n",
            "Accuracy of the network on the test images: 80.56 %\n",
            "Average loss on the test images: 0.942\n",
            "New lowest test loss: 0.9350 with accuracy: 80.55%\n"
          ]
        },
        {
          "name": "stderr",
          "output_type": "stream",
          "text": [
            "Epoch 24/30: 100%|██████████| 391/391 [01:07<00:00,  5.83batch/s]"
          ]
        },
        {
          "name": "stdout",
          "output_type": "stream",
          "text": [
            "\n",
            "Epoch 24 finished: Avg. Loss: 0.891, Avg. Acc.: 82.99%, Time: 67.05s\n"
          ]
        },
        {
          "name": "stderr",
          "output_type": "stream",
          "text": [
            "\n"
          ]
        },
        {
          "name": "stdout",
          "output_type": "stream",
          "text": [
            "TESTING WITH EMA:\n",
            "Accuracy of the network on the test images: 81.37 %\n",
            "Average loss on the test images: 0.922\n",
            "New lowest test loss: 0.9224 with accuracy: 81.37%\n"
          ]
        },
        {
          "name": "stderr",
          "output_type": "stream",
          "text": [
            "Epoch 25/30: 100%|██████████| 391/391 [01:07<00:00,  5.82batch/s]"
          ]
        },
        {
          "name": "stdout",
          "output_type": "stream",
          "text": [
            "\n",
            "Epoch 25 finished: Avg. Loss: 0.854, Avg. Acc.: 84.75%, Time: 67.14s\n"
          ]
        },
        {
          "name": "stderr",
          "output_type": "stream",
          "text": [
            "\n"
          ]
        },
        {
          "name": "stdout",
          "output_type": "stream",
          "text": [
            "TESTING WITH EMA:\n",
            "Accuracy of the network on the test images: 83.55 %\n",
            "Average loss on the test images: 0.878\n",
            "New lowest test loss: 0.8776 with accuracy: 83.55%\n"
          ]
        },
        {
          "name": "stderr",
          "output_type": "stream",
          "text": [
            "Epoch 26/30: 100%|██████████| 391/391 [01:07<00:00,  5.83batch/s]"
          ]
        },
        {
          "name": "stdout",
          "output_type": "stream",
          "text": [
            "\n",
            "Epoch 26 finished: Avg. Loss: 0.848, Avg. Acc.: 84.89%, Time: 67.09s\n"
          ]
        },
        {
          "name": "stderr",
          "output_type": "stream",
          "text": [
            "\n"
          ]
        },
        {
          "name": "stdout",
          "output_type": "stream",
          "text": [
            "TESTING WITH EMA:\n",
            "Accuracy of the network on the test images: 80.80 %\n",
            "Average loss on the test images: 0.947\n",
            "New lowest test loss: 0.8776 with accuracy: 83.55%\n"
          ]
        },
        {
          "name": "stderr",
          "output_type": "stream",
          "text": [
            "Epoch 27/30: 100%|██████████| 391/391 [01:07<00:00,  5.83batch/s]"
          ]
        },
        {
          "name": "stdout",
          "output_type": "stream",
          "text": [
            "\n",
            "Epoch 27 finished: Avg. Loss: 0.863, Avg. Acc.: 84.37%, Time: 67.11s\n"
          ]
        },
        {
          "name": "stderr",
          "output_type": "stream",
          "text": [
            "\n"
          ]
        },
        {
          "name": "stdout",
          "output_type": "stream",
          "text": [
            "TESTING WITH EMA:\n",
            "Accuracy of the network on the test images: 81.91 %\n",
            "Average loss on the test images: 0.929\n",
            "New lowest test loss: 0.8776 with accuracy: 83.55%\n"
          ]
        },
        {
          "name": "stderr",
          "output_type": "stream",
          "text": [
            "Epoch 28/30: 100%|██████████| 391/391 [01:07<00:00,  5.82batch/s]"
          ]
        },
        {
          "name": "stdout",
          "output_type": "stream",
          "text": [
            "\n",
            "Epoch 28 finished: Avg. Loss: 0.848, Avg. Acc.: 85.01%, Time: 67.17s\n"
          ]
        },
        {
          "name": "stderr",
          "output_type": "stream",
          "text": [
            "\n"
          ]
        },
        {
          "name": "stdout",
          "output_type": "stream",
          "text": [
            "TESTING WITH EMA:\n",
            "Accuracy of the network on the test images: 83.17 %\n",
            "Average loss on the test images: 0.882\n",
            "New lowest test loss: 0.8776 with accuracy: 83.55%\n"
          ]
        },
        {
          "name": "stderr",
          "output_type": "stream",
          "text": [
            "Epoch 29/30: 100%|██████████| 391/391 [01:07<00:00,  5.82batch/s]"
          ]
        },
        {
          "name": "stdout",
          "output_type": "stream",
          "text": [
            "\n",
            "Epoch 29 finished: Avg. Loss: 0.832, Avg. Acc.: 85.63%, Time: 67.16s\n"
          ]
        },
        {
          "name": "stderr",
          "output_type": "stream",
          "text": [
            "\n"
          ]
        },
        {
          "name": "stdout",
          "output_type": "stream",
          "text": [
            "TESTING WITH EMA:\n",
            "Accuracy of the network on the test images: 82.56 %\n",
            "Average loss on the test images: 0.891\n",
            "New lowest test loss: 0.8776 with accuracy: 83.55%\n"
          ]
        },
        {
          "name": "stderr",
          "output_type": "stream",
          "text": [
            "Epoch 30/30: 100%|██████████| 391/391 [01:07<00:00,  5.82batch/s]"
          ]
        },
        {
          "name": "stdout",
          "output_type": "stream",
          "text": [
            "\n",
            "Epoch 30 finished: Avg. Loss: 0.827, Avg. Acc.: 85.94%, Time: 67.14s\n"
          ]
        },
        {
          "name": "stderr",
          "output_type": "stream",
          "text": [
            "\n"
          ]
        },
        {
          "name": "stdout",
          "output_type": "stream",
          "text": [
            "TESTING WITH EMA:\n",
            "Accuracy of the network on the test images: 84.27 %\n",
            "Average loss on the test images: 0.865\n",
            "New lowest test loss: 0.8649 with accuracy: 84.27%\n",
            "Finished Training. Best Test Loss: 0.8649, Best Accuracy: 84.27%\n"
          ]
        },
        {
          "data": {
            "application/vnd.jupyter.widget-view+json": {
              "model_id": "9f85b69256184f99a358d0028945db1c",
              "version_major": 2,
              "version_minor": 0
            },
            "text/plain": [
              "VBox(children=(Label(value='0.002 MB of 0.002 MB uploaded\\r'), FloatProgress(value=1.0, max=1.0)))"
            ]
          },
          "metadata": {},
          "output_type": "display_data"
        },
        {
          "data": {
            "text/html": [
              "<style>\n",
              "    table.wandb td:nth-child(1) { padding: 0 10px; text-align: left ; width: auto;} td:nth-child(2) {text-align: left ; width: 100%}\n",
              "    .wandb-row { display: flex; flex-direction: row; flex-wrap: wrap; justify-content: flex-start; width: 100% }\n",
              "    .wandb-col { display: flex; flex-direction: column; flex-basis: 100%; flex: 1; padding: 10px; }\n",
              "    </style>\n",
              "<div class=\"wandb-row\"><div class=\"wandb-col\"><h3>Run history:</h3><br/><table class=\"wandb\"><tr><td>Accuracy</td><td>▁▄▄▅▅▆▆▆▆▆▇▇▇▇▇▇▇▇█▇▇▇▇███████</td></tr><tr><td>Best Accuracy</td><td>▁▃▄▄▅▅▅▆▆▆▇▇▇▇██</td></tr><tr><td>Best Test Loss</td><td>█▆▅▅▄▄▄▃▃▂▂▂▂▂▁▁</td></tr><tr><td>EMA Test Accuracy</td><td>▁▃▄▄▅▅▅▅▆▆▆▆▆▆▆▇▇▇▇▆▇▇▇▇█▇▇███</td></tr><tr><td>EMA Test Loss</td><td>█▆▅▅▄▄▄▄▃▃▃▃▃▂▃▂▂▂▂▃▂▂▂▂▁▂▂▁▁▁</td></tr><tr><td>Epoch</td><td>▁▁▁▂▂▂▂▃▃▃▃▄▄▄▄▅▅▅▅▆▆▆▆▇▇▇▇███</td></tr><tr><td>Learning Rate</td><td>▁▁▁▂▂▃▃▄▄▅▆▆▇▇███████████▇▇▇▇▇</td></tr><tr><td>Loss</td><td>█▅▅▄▄▃▃▃▃▃▂▂▂▂▂▂▂▂▂▂▂▂▂▁▁▁▁▁▁▁</td></tr></table><br/></div><div class=\"wandb-col\"><h3>Run summary:</h3><br/><table class=\"wandb\"><tr><td>Accuracy</td><td>85.944</td></tr><tr><td>Best Accuracy</td><td>84.27</td></tr><tr><td>Best Test Loss</td><td>0.86491</td></tr><tr><td>EMA Test Accuracy</td><td>84.27</td></tr><tr><td>EMA Test Loss</td><td>0.86491</td></tr><tr><td>Epoch</td><td>30</td></tr><tr><td>Learning Rate</td><td>0.00081</td></tr><tr><td>Loss</td><td>0.82729</td></tr></table><br/></div></div>"
            ],
            "text/plain": [
              "<IPython.core.display.HTML object>"
            ]
          },
          "metadata": {},
          "output_type": "display_data"
        },
        {
          "data": {
            "text/html": [
              " View run <strong style=\"color:#cdcd00\">wandering-galaxy-28</strong> at: <a href='https://wandb.ai/jdeklerk10/cs_mp3/runs/rint6vtn' target=\"_blank\">https://wandb.ai/jdeklerk10/cs_mp3/runs/rint6vtn</a><br/>Synced 5 W&B file(s), 0 media file(s), 0 artifact file(s) and 0 other file(s)"
            ],
            "text/plain": [
              "<IPython.core.display.HTML object>"
            ]
          },
          "metadata": {},
          "output_type": "display_data"
        },
        {
          "data": {
            "text/html": [
              "Find logs at: <code>./wandb/run-20240320_235056-rint6vtn/logs</code>"
            ],
            "text/plain": [
              "<IPython.core.display.HTML object>"
            ]
          },
          "metadata": {},
          "output_type": "display_data"
        }
      ],
      "source": [
        "def main():\n",
        "    args, unknown = parser.parse_known_args()\n",
        "    args.checkpoint_dir = '/content/assignment3/assignment3/assignment3_part1/Checkpoints'\n",
        "    args.seed = 315\n",
        "\n",
        "    setup_seed(args.seed)\n",
        "    print_gpu_info(device)\n",
        "\n",
        "    print(\"\\n--- Preparing Data for Classification Task ---\\n\")\n",
        "\n",
        "    transform_train, transform_test = get_transforms()\n",
        "\n",
        "    trainset = CIFAR10Rotation(root='./data', train=True,\n",
        "                                            download=True, transform=transform_train)\n",
        "    trainloader = torch.utils.data.DataLoader(trainset, batch_size=args.BATCH_SIZE,\n",
        "                                              shuffle=True, num_workers=args.NUM_WORKERS)\n",
        "\n",
        "    testset = CIFAR10Rotation(root='./data', train=False,\n",
        "                                          download=True, transform=transform_test)\n",
        "    testloader = torch.utils.data.DataLoader(testset, batch_size=args.BATCH_SIZE,\n",
        "                                            shuffle=False, num_workers=args.NUM_WORKERS)\n",
        "\n",
        "    print(\"\\n--- Training ViT on Classification Task ---\\n\")\n",
        "\n",
        "    path = '/content/assignment3/assignment3/assignment3_part1/ViT_rotation_task_EMA_best_model.pth'\n",
        "    model_path = '/content/assignment3/assignment3/assignment3_part1/ViT_classification_task_EMA_best_model.pth'\n",
        "    project_name = 'cs_mp3'\n",
        "\n",
        "    def replace_last_linear_layer(model, num_classes):\n",
        "        for name, module in reversed(model._modules.items()):\n",
        "            if hasattr(module, 'children') and list(module.children()):\n",
        "                replace_last_linear_layer(module, num_classes)\n",
        "                return\n",
        "            if isinstance(module, nn.Linear):\n",
        "                num_ftrs = module.in_features\n",
        "                setattr(model, name, nn.Linear(num_ftrs, num_classes))\n",
        "                print(f\"Replaced Linear Layer: {name}\")\n",
        "                return\n",
        "\n",
        "    model = ViT(args.NUM_CLASSES, args.IMAGE_SIZE, channels=args.CHANNELS, head_channels=args.HEAD_CHANNELS, num_blocks=args.NUM_BLOCKS, patch_size=args.PATCH_SIZE,\n",
        "               emb_p_drop=args.EMB_P_DROP, trans_p_drop=args.TRANS_P_DROP, head_p_drop=args.HEAD_P_DROP).to(device)\n",
        "\n",
        "    model.load_state_dict(torch.load(path), strict=False)\n",
        "\n",
        "    new_num_classes = 10\n",
        "    replace_last_linear_layer(model, new_num_classes)\n",
        "\n",
        "    model.to(device)\n",
        "\n",
        "    criterion = nn.CrossEntropyLoss(label_smoothing=0.1)\n",
        "    optimizer = get_adam_optimizer(model.parameters(), lr=args.LEARNING_RATE, wd=args.WEIGHT_DECAY)\n",
        "    lr_scheduler = torch.optim.lr_scheduler.OneCycleLR(optimizer, max_lr=args.LEARNING_RATE, steps_per_epoch=len(trainloader), epochs=args.EPOCHS)\n",
        "    ema = ExponentialMovingAverage(model.parameters(), decay=0.995)\n",
        "\n",
        "    train(model, criterion, optimizer, ema=ema, num_epochs=30, lr_scheduler=lr_scheduler, init_lr=args.LEARNING_RATE, task='classification', trainloader=trainloader, testloader=testloader, model_path=model_path)\n",
        "\n",
        "if __name__ == \"__main__\":\n",
        "    main()"
      ]
    },
    {
      "cell_type": "code",
      "execution_count": null,
      "metadata": {
        "id": "RSlkizk6ibls"
      },
      "outputs": [],
      "source": [
        "from google.colab import runtime\n",
        "runtime.unassign()"
      ]
    }
  ],
  "metadata": {
    "accelerator": "GPU",
    "colab": {
      "gpuType": "V100",
      "machine_shape": "hm",
      "provenance": []
    },
    "kernelspec": {
      "display_name": "Python 3",
      "name": "python3"
    },
    "language_info": {
      "name": "python"
    },
    "widgets": {
      "application/vnd.jupyter.widget-state+json": {
        "064875c228d0464e872901c9cb3718c8": {
          "model_module": "@jupyter-widgets/base",
          "model_module_version": "1.2.0",
          "model_name": "LayoutModel",
          "state": {
            "_model_module": "@jupyter-widgets/base",
            "_model_module_version": "1.2.0",
            "_model_name": "LayoutModel",
            "_view_count": null,
            "_view_module": "@jupyter-widgets/base",
            "_view_module_version": "1.2.0",
            "_view_name": "LayoutView",
            "align_content": null,
            "align_items": null,
            "align_self": null,
            "border": null,
            "bottom": null,
            "display": null,
            "flex": null,
            "flex_flow": null,
            "grid_area": null,
            "grid_auto_columns": null,
            "grid_auto_flow": null,
            "grid_auto_rows": null,
            "grid_column": null,
            "grid_gap": null,
            "grid_row": null,
            "grid_template_areas": null,
            "grid_template_columns": null,
            "grid_template_rows": null,
            "height": null,
            "justify_content": null,
            "justify_items": null,
            "left": null,
            "margin": null,
            "max_height": null,
            "max_width": null,
            "min_height": null,
            "min_width": null,
            "object_fit": null,
            "object_position": null,
            "order": null,
            "overflow": null,
            "overflow_x": null,
            "overflow_y": null,
            "padding": null,
            "right": null,
            "top": null,
            "visibility": null,
            "width": null
          }
        },
        "1c4a0c02d48f4ef6a3e0cd9ccf0ee76e": {
          "model_module": "@jupyter-widgets/controls",
          "model_module_version": "1.5.0",
          "model_name": "VBoxModel",
          "state": {
            "_dom_classes": [],
            "_model_module": "@jupyter-widgets/controls",
            "_model_module_version": "1.5.0",
            "_model_name": "VBoxModel",
            "_view_count": null,
            "_view_module": "@jupyter-widgets/controls",
            "_view_module_version": "1.5.0",
            "_view_name": "VBoxView",
            "box_style": "",
            "children": [
              "IPY_MODEL_5a25154a7ec8484aa03c9b4c8a021008",
              "IPY_MODEL_b5cffa0ddadb4098a59863977e66af33"
            ],
            "layout": "IPY_MODEL_818084feb1294988a41dea60b46382f7"
          }
        },
        "1df13d162e444e09af7a8c77af1774a8": {
          "model_module": "@jupyter-widgets/base",
          "model_module_version": "1.2.0",
          "model_name": "LayoutModel",
          "state": {
            "_model_module": "@jupyter-widgets/base",
            "_model_module_version": "1.2.0",
            "_model_name": "LayoutModel",
            "_view_count": null,
            "_view_module": "@jupyter-widgets/base",
            "_view_module_version": "1.2.0",
            "_view_name": "LayoutView",
            "align_content": null,
            "align_items": null,
            "align_self": null,
            "border": null,
            "bottom": null,
            "display": null,
            "flex": null,
            "flex_flow": null,
            "grid_area": null,
            "grid_auto_columns": null,
            "grid_auto_flow": null,
            "grid_auto_rows": null,
            "grid_column": null,
            "grid_gap": null,
            "grid_row": null,
            "grid_template_areas": null,
            "grid_template_columns": null,
            "grid_template_rows": null,
            "height": null,
            "justify_content": null,
            "justify_items": null,
            "left": null,
            "margin": null,
            "max_height": null,
            "max_width": null,
            "min_height": null,
            "min_width": null,
            "object_fit": null,
            "object_position": null,
            "order": null,
            "overflow": null,
            "overflow_x": null,
            "overflow_y": null,
            "padding": null,
            "right": null,
            "top": null,
            "visibility": null,
            "width": null
          }
        },
        "4565026d24104a8f9e3322e0adbf613a": {
          "model_module": "@jupyter-widgets/base",
          "model_module_version": "1.2.0",
          "model_name": "LayoutModel",
          "state": {
            "_model_module": "@jupyter-widgets/base",
            "_model_module_version": "1.2.0",
            "_model_name": "LayoutModel",
            "_view_count": null,
            "_view_module": "@jupyter-widgets/base",
            "_view_module_version": "1.2.0",
            "_view_name": "LayoutView",
            "align_content": null,
            "align_items": null,
            "align_self": null,
            "border": null,
            "bottom": null,
            "display": null,
            "flex": null,
            "flex_flow": null,
            "grid_area": null,
            "grid_auto_columns": null,
            "grid_auto_flow": null,
            "grid_auto_rows": null,
            "grid_column": null,
            "grid_gap": null,
            "grid_row": null,
            "grid_template_areas": null,
            "grid_template_columns": null,
            "grid_template_rows": null,
            "height": null,
            "justify_content": null,
            "justify_items": null,
            "left": null,
            "margin": null,
            "max_height": null,
            "max_width": null,
            "min_height": null,
            "min_width": null,
            "object_fit": null,
            "object_position": null,
            "order": null,
            "overflow": null,
            "overflow_x": null,
            "overflow_y": null,
            "padding": null,
            "right": null,
            "top": null,
            "visibility": null,
            "width": null
          }
        },
        "4a3b761d400d4115abf993ce0118ccf4": {
          "model_module": "@jupyter-widgets/controls",
          "model_module_version": "1.5.0",
          "model_name": "LabelModel",
          "state": {
            "_dom_classes": [],
            "_model_module": "@jupyter-widgets/controls",
            "_model_module_version": "1.5.0",
            "_model_name": "LabelModel",
            "_view_count": null,
            "_view_module": "@jupyter-widgets/controls",
            "_view_module_version": "1.5.0",
            "_view_name": "LabelView",
            "description": "",
            "description_tooltip": null,
            "layout": "IPY_MODEL_4565026d24104a8f9e3322e0adbf613a",
            "placeholder": "​",
            "style": "IPY_MODEL_80021d967e8a484f8f3c97876a1d3029",
            "value": "0.022 MB of 0.022 MB uploaded\r"
          }
        },
        "6c665802f0e34af280dc360e48da41f3": {
          "model_module": "@jupyter-widgets/controls",
          "model_module_version": "1.5.0",
          "model_name": "FloatProgressModel",
          "state": {
            "_dom_classes": [],
            "_model_module": "@jupyter-widgets/controls",
            "_model_module_version": "1.5.0",
            "_model_name": "FloatProgressModel",
            "_view_count": null,
            "_view_module": "@jupyter-widgets/controls",
            "_view_module_version": "1.5.0",
            "_view_name": "ProgressView",
            "bar_style": "",
            "description": "",
            "description_tooltip": null,
            "layout": "IPY_MODEL_1df13d162e444e09af7a8c77af1774a8",
            "max": 1,
            "min": 0,
            "orientation": "horizontal",
            "style": "IPY_MODEL_cf592e3489d44d3382c35cd40f5b57d1",
            "value": 1
          }
        },
        "80021d967e8a484f8f3c97876a1d3029": {
          "model_module": "@jupyter-widgets/controls",
          "model_module_version": "1.5.0",
          "model_name": "DescriptionStyleModel",
          "state": {
            "_model_module": "@jupyter-widgets/controls",
            "_model_module_version": "1.5.0",
            "_model_name": "DescriptionStyleModel",
            "_view_count": null,
            "_view_module": "@jupyter-widgets/base",
            "_view_module_version": "1.2.0",
            "_view_name": "StyleView",
            "description_width": ""
          }
        },
        "9f85b69256184f99a358d0028945db1c": {
          "model_module": "@jupyter-widgets/controls",
          "model_module_version": "1.5.0",
          "model_name": "VBoxModel",
          "state": {
            "_dom_classes": [],
            "_model_module": "@jupyter-widgets/controls",
            "_model_module_version": "1.5.0",
            "_model_name": "VBoxModel",
            "_view_count": null,
            "_view_module": "@jupyter-widgets/controls",
            "_view_module_version": "1.5.0",
            "_view_name": "VBoxView",
            "box_style": "",
            "children": [
              "IPY_MODEL_4a3b761d400d4115abf993ce0118ccf4",
              "IPY_MODEL_6c665802f0e34af280dc360e48da41f3"
            ],
            "layout": "IPY_MODEL_064875c228d0464e872901c9cb3718c8"
          }
        },
        "cf592e3489d44d3382c35cd40f5b57d1": {
          "model_module": "@jupyter-widgets/controls",
          "model_module_version": "1.5.0",
          "model_name": "ProgressStyleModel",
          "state": {
            "_model_module": "@jupyter-widgets/controls",
            "_model_module_version": "1.5.0",
            "_model_name": "ProgressStyleModel",
            "_view_count": null,
            "_view_module": "@jupyter-widgets/base",
            "_view_module_version": "1.2.0",
            "_view_name": "StyleView",
            "bar_color": null,
            "description_width": ""
          }
        }
      }
    }
  },
  "nbformat": 4,
  "nbformat_minor": 0
}
